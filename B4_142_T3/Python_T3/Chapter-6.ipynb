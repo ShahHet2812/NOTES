{
 "cells": [
  {
   "cell_type": "markdown",
   "metadata": {},
   "source": [
    "### Inbuilt function\n",
    "1)Create\n",
    "2)Write\n",
    "3)Reading\n",
    "==>Types of files:\n",
    "1)Text\n",
    "2)Binary(Machine Understandable Language)[Not in Syllabus]\n",
    "==>Modes of Opearation:\n",
    "r,r+,w,w+,a,a+"
   ]
  },
  {
   "cell_type": "markdown",
   "metadata": {},
   "source": [
    "==>Read Only('r')\n",
    "->handle position at the beginning of the file\n",
    "->if files does not exists,raises an i/o error\n",
    "->default mode"
   ]
  },
  {
   "cell_type": "code",
   "execution_count": null,
   "metadata": {},
   "outputs": [],
   "source": [
    "f=open(\"xyz.txt\",\"r\")\n",
    "print(f.read())\n",
    "print(f.closed)\n",
    "f.close()\n",
    "print(f.closed)"
   ]
  },
  {
   "cell_type": "code",
   "execution_count": null,
   "metadata": {},
   "outputs": [],
   "source": [
    "with open(\"xyz.txt\",\"r\") as f:\n",
    "    print(f.read())\n",
    "    print(f.closed)\n",
    "print(f.closed)"
   ]
  },
  {
   "cell_type": "code",
   "execution_count": null,
   "metadata": {},
   "outputs": [],
   "source": [
    "f=open(\"demo.txt\",\"w+\")\n",
    "print(f.write(\"This is java\"))\n",
    "f.close()"
   ]
  },
  {
   "cell_type": "code",
   "execution_count": null,
   "metadata": {},
   "outputs": [],
   "source": [
    "f=open(\"demo.txt\",\"w+\")\n",
    "f.write(\"This is python\")\n",
    "print(f.read())\n",
    "f.seek(0)\n",
    "print(f.tell())\n",
    "print(f.read(5))\n",
    "f.close()"
   ]
  },
  {
   "cell_type": "code",
   "execution_count": null,
   "metadata": {},
   "outputs": [],
   "source": [
    "f=open(\"abc.txt\",\"r\")\n",
    "# print(f.readline(5))\n",
    "# print(f.readline(7))\n",
    "# print(f.readline(10))\n",
    "# print(f.readline(20))\n",
    "print(f.readlines(18))"
   ]
  },
  {
   "cell_type": "code",
   "execution_count": null,
   "metadata": {},
   "outputs": [],
   "source": [
    "f=open(\"pqr.txt\",\"w\")\n",
    "f.write('This is test data')\n",
    "f.close()"
   ]
  },
  {
   "cell_type": "code",
   "execution_count": null,
   "metadata": {},
   "outputs": [],
   "source": [
    "with open(\"pqr.txt\",\"r+\") as f:\n",
    "    f.write(\"Alternate Method\")"
   ]
  },
  {
   "cell_type": "code",
   "execution_count": null,
   "metadata": {},
   "outputs": [],
   "source": [
    "f=open(\"pqr.txt\",\"w\")\n",
    "f.writelines(['This is Python 1\\n', 'This is Python 2\\n'])\n",
    "f.close()"
   ]
  },
  {
   "cell_type": "code",
   "execution_count": 1,
   "metadata": {},
   "outputs": [
    {
     "name": "stdout",
     "output_type": "stream",
     "text": [
      "Enter name:Het\n",
      "Enter name:Aayush\n",
      "Enter name:Dhairya\n",
      "Enter name:Arman\n",
      "Enter name:Naitik\n"
     ]
    }
   ],
   "source": [
    "f=open(\"test.txt\",\"w\")\n",
    "for i in range(5):\n",
    "    name=input(\"Enter name:\")\n",
    "    f.write(name+\"\\n\")\n",
    "f.close()"
   ]
  },
  {
   "cell_type": "code",
   "execution_count": 2,
   "metadata": {},
   "outputs": [
    {
     "name": "stdout",
     "output_type": "stream",
     "text": [
      "Enter Name:Het\n",
      "Enter Name:Aayush\n",
      "Enter Name:Arman\n",
      "Enter Name:Dhairya\n",
      "Enter Name:Naitik\n"
     ]
    }
   ],
   "source": [
    "f=open(\"b4.txt\",\"w\")\n",
    "for i in range(5):\n",
    "    name=input(\"Enter Name:\")\n",
    "    names=[name]\n",
    "    f.writelines(names)\n",
    "f.close()"
   ]
  }
 ],
 "metadata": {
  "kernelspec": {
   "display_name": "Python 3",
   "language": "python",
   "name": "python3"
  },
  "language_info": {
   "codemirror_mode": {
    "name": "ipython",
    "version": 3
   },
   "file_extension": ".py",
   "mimetype": "text/x-python",
   "name": "python",
   "nbconvert_exporter": "python",
   "pygments_lexer": "ipython3",
   "version": "3.8.5"
  }
 },
 "nbformat": 4,
 "nbformat_minor": 4
}
