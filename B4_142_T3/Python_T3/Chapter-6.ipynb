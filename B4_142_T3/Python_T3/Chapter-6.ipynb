{
 "cells": [
  {
   "cell_type": "markdown",
   "metadata": {},
   "source": [
    "### Inbuilt function\n",
    "1)Create\n",
    "2)Write\n",
    "3)Reading\n",
    "==>Types of files:\n",
    "1)Text\n",
    "2)Binary(Machine Understandable Language)[Not in Syllabus]\n",
    "==>Modes of Opearation:\n",
    "r,r+,w,w+,a,a+"
   ]
  },
  {
   "cell_type": "markdown",
   "metadata": {},
   "source": [
    "==>Read Only('r')\n",
    "->handle position at the beginning of the file\n",
    "->if files does not exists,raises an i/o error\n",
    "->default mode"
   ]
  },
  {
   "cell_type": "code",
   "execution_count": null,
   "metadata": {},
   "outputs": [],
   "source": [
    "f=open(\"xyz.txt\",\"r\")\n",
    "print(f.read())\n",
    "print(f.closed)\n",
    "f.close()\n",
    "print(f.closed)"
   ]
  },
  {
   "cell_type": "code",
   "execution_count": null,
   "metadata": {},
   "outputs": [],
   "source": [
    "with open(\"xyz.txt\",\"r\") as f:\n",
    "    print(f.read())\n",
    "    print(f.closed)\n",
    "print(f.closed)"
   ]
  },
  {
   "cell_type": "code",
   "execution_count": null,
   "metadata": {},
   "outputs": [],
   "source": [
    "f=open(\"demo.txt\",\"w+\")\n",
    "print(f.write(\"This is java\"))\n",
    "f.close()"
   ]
  },
  {
   "cell_type": "code",
   "execution_count": null,
   "metadata": {},
   "outputs": [],
   "source": [
    "f=open(\"demo.txt\",\"w+\")\n",
    "f.write(\"This is python\")\n",
    "print(f.read())\n",
    "f.seek(0)\n",
    "print(f.tell())\n",
    "print(f.read(5))\n",
    "f.close()"
   ]
  },
  {
   "cell_type": "code",
   "execution_count": null,
   "metadata": {},
   "outputs": [],
   "source": [
    "f=open(\"abc.txt\",\"r\")\n",
    "# print(f.readline(5))\n",
    "# print(f.readline(7))\n",
    "# print(f.readline(10))\n",
    "# print(f.readline(20))\n",
    "print(f.readlines(18))"
   ]
  },
  {
   "cell_type": "code",
   "execution_count": null,
   "metadata": {},
   "outputs": [],
   "source": [
    "f=open(\"pqr.txt\",\"w\")\n",
    "f.write('This is test data')\n",
    "f.close()"
   ]
  },
  {
   "cell_type": "code",
   "execution_count": null,
   "metadata": {},
   "outputs": [],
   "source": [
    "with open(\"pqr.txt\",\"r+\") as f:\n",
    "    f.write(\"Alternate Method\")"
   ]
  },
  {
   "cell_type": "code",
   "execution_count": null,
   "metadata": {},
   "outputs": [],
   "source": [
    "f=open(\"pqr.txt\",\"w\")\n",
    "f.writelines(['This is Python 1\\n', 'This is Python 2\\n'])\n",
    "f.close()"
   ]
  },
  {
   "cell_type": "code",
   "execution_count": null,
   "metadata": {},
   "outputs": [],
   "source": [
    "f=open(\"test.txt\",\"w\")\n",
    "for i in range(5):\n",
    "    name=input(\"Enter name:\")\n",
    "    f.write(name+\"\\n\")\n",
    "f.close()"
   ]
  },
  {
   "cell_type": "code",
   "execution_count": null,
   "metadata": {},
   "outputs": [],
   "source": [
    "f=open(\"b4.txt\",\"w\")\n",
    "for i in range(5):\n",
    "    name=input(\"Enter Name:\")\n",
    "    names=[name]\n",
    "    f.writelines(names)\n",
    "f.close()"
   ]
  },
  {
   "cell_type": "code",
   "execution_count": null,
   "metadata": {},
   "outputs": [],
   "source": [
    "##WAP to display all the lines of the file except those that has hash sign\n",
    "f=open(\"abc.txt\")\n",
    "d=open('b4.txt','w')\n",
    "while True:\n",
    "    b=f.readline()\n",
    "    if len(b)!=0:\n",
    "        if b[0]=='#':\n",
    "            continue\n",
    "        else:\n",
    "            if '#' in b:\n",
    "                for index in range(1,len(b)):\n",
    "                    if b[index]=='#':\n",
    "                        d.write(b[0:index]+'\\n')\n",
    "            else:\n",
    "                d.write(b)\n",
    "    else:\n",
    "        break\n",
    "f.close()\n",
    "d.close()"
   ]
  },
  {
   "cell_type": "code",
   "execution_count": null,
   "metadata": {},
   "outputs": [],
   "source": [
    "#WAPP to compare two files and find the difference in line and character\n",
    "f=open(\"abc.txt\")\n",
    "f1=open('b4.txt')\n",
    "line=1\n",
    "while True:\n",
    "    x=f.readline()\n",
    "    y=f1.readline()\n",
    "    if len(x)==len(y):\n",
    "        for i in range(len(x)):\n",
    "            if x[i]==y[i]:\n",
    "                continue\n",
    "            else:\n",
    "                print('line',line,'\\n','position',i)\n",
    "    else:\n",
    "        for i in range(min(len(x),len(y))):\n",
    "            if x[i]==y[i]:\n",
    "                continue\n",
    "            else:\n",
    "                print('line',line,'\\n','position',i)\n",
    "    if '\\n' in x and '\\n' in y:\n",
    "        line=line+1\n",
    "    else:\n",
    "        break"
   ]
  },
  {
   "cell_type": "code",
   "execution_count": 14,
   "metadata": {},
   "outputs": [
    {
     "name": "stdout",
     "output_type": "stream",
     "text": [
      "Words: 8 Characters: 28 Spaces 8\n"
     ]
    }
   ],
   "source": [
    "#WAPP to count words,chars and spacesfrom the text file\n",
    "chars=0\n",
    "spaces=0\n",
    "words=0\n",
    "f=open(\"abc.txt\")\n",
    "tlength=len(f.read())\n",
    "f.seek(0)\n",
    "s=(f.read()).split()\n",
    "words=len(s)\n",
    "count=0\n",
    "for i in s:\n",
    "    if i=='\\n':\n",
    "        continue\n",
    "    else:\n",
    "        count=count+len(i)\n",
    "print(\"Words:\",words,\"Characters:\",count,\"Spaces\",tlength-count)"
   ]
  }
 ],
 "metadata": {
  "kernelspec": {
   "display_name": "Python 3",
   "language": "python",
   "name": "python3"
  },
  "language_info": {
   "codemirror_mode": {
    "name": "ipython",
    "version": 3
   },
   "file_extension": ".py",
   "mimetype": "text/x-python",
   "name": "python",
   "nbconvert_exporter": "python",
   "pygments_lexer": "ipython3",
   "version": "3.8.5"
  }
 },
 "nbformat": 4,
 "nbformat_minor": 4
}
