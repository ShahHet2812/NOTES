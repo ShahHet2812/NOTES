{
 "cells": [
  {
   "cell_type": "markdown",
   "metadata": {},
   "source": [
    "Exception Handling\n",
    "==> Error in python\n",
    "->Syntax Error\n",
    "->Exceptions\n",
    "==>Errors are problems in python due to the program will stop execution\n",
    "==>Exceptions are raised when some interred events occurs which change the normal flow of the program\n",
    "==>try,except,else,finally are used"
   ]
  },
  {
   "cell_type": "code",
   "execution_count": null,
   "metadata": {},
   "outputs": [],
   "source": [
    "print(\"Start\")\n",
    "def div(a,b):\n",
    "    return(a/b)\n",
    "try:\n",
    "    print(div(5,1))\n",
    "except:\n",
    "    print(\"Exception Occured\")\n",
    "else:\n",
    "    print(\"No Error\")\n",
    "finally:\n",
    "    print(\"This is always there\")"
   ]
  },
  {
   "cell_type": "code",
   "execution_count": 2,
   "metadata": {},
   "outputs": [
    {
     "name": "stdout",
     "output_type": "stream",
     "text": [
      "This is python\n",
      "5\n",
      "division by zero\n"
     ]
    }
   ],
   "source": [
    "try:\n",
    "    m=5\n",
    "    f=open(\"demo.txt\",'r')\n",
    "    print(f.read())\n",
    "    print(m)\n",
    "    print(5/1)\n",
    "    l=[1,2,3]\n",
    "    l=[100]\n",
    "except FileNotFoundError:\n",
    "    print(\"File not found\")\n",
    "except NameError:\n",
    "    print(\"Variable not defined\")\n",
    "except ZeroDivisionError:\n",
    "    print(\"Can't divide by 0\")\n",
    "except Exception as e:\n",
    "    print(e)"
   ]
  },
  {
   "cell_type": "code",
   "execution_count": 4,
   "metadata": {},
   "outputs": [
    {
     "name": "stdout",
     "output_type": "stream",
     "text": [
      "division by zero\n",
      "Rest of the code\n"
     ]
    }
   ],
   "source": [
    "a=0\n",
    "b=0\n",
    "try:\n",
    "    d=a/b\n",
    "    print(d)\n",
    "except(NameError,ZeroDivisionError) as obj:\n",
    "    print(obj)\n",
    "print(\"Rest of the code\")"
   ]
  },
  {
   "cell_type": "markdown",
   "metadata": {},
   "source": [
    "### Raise of Exception"
   ]
  },
  {
   "cell_type": "code",
   "execution_count": 9,
   "metadata": {},
   "outputs": [
    {
     "data": {
      "text/plain": [
       "30"
      ]
     },
     "execution_count": 9,
     "metadata": {},
     "output_type": "execute_result"
    }
   ],
   "source": [
    "def add(a,b):\n",
    "    if type(a)==str:\n",
    "        raise TypeError(\"a should be int\")\n",
    "    if type(b)==str:\n",
    "        raise TypeError(\"b should be int\")\n",
    "    return a+b\n",
    "add(10,20)"
   ]
  },
  {
   "cell_type": "markdown",
   "metadata": {},
   "source": [
    "### Custom Exception"
   ]
  },
  {
   "cell_type": "code",
   "execution_count": 11,
   "metadata": {},
   "outputs": [
    {
     "ename": "myerror",
     "evalue": "PERSONALIZED MESSAGE",
     "output_type": "error",
     "traceback": [
      "\u001b[1;31m---------------------------------------------------------------------------\u001b[0m",
      "\u001b[1;31mmyerror\u001b[0m                                   Traceback (most recent call last)",
      "\u001b[1;32m<ipython-input-11-9303a7680b6c>\u001b[0m in \u001b[0;36m<module>\u001b[1;34m\u001b[0m\n\u001b[0;32m      8\u001b[0m         \u001b[1;32mraise\u001b[0m \u001b[0mTypeError\u001b[0m\u001b[1;33m(\u001b[0m\u001b[1;34m\"b should be int\"\u001b[0m\u001b[1;33m)\u001b[0m\u001b[1;33m\u001b[0m\u001b[1;33m\u001b[0m\u001b[0m\n\u001b[0;32m      9\u001b[0m     \u001b[1;32mreturn\u001b[0m \u001b[1;33m(\u001b[0m\u001b[0ma\u001b[0m\u001b[1;33m+\u001b[0m\u001b[0mb\u001b[0m\u001b[1;33m)\u001b[0m\u001b[1;33m\u001b[0m\u001b[1;33m\u001b[0m\u001b[0m\n\u001b[1;32m---> 10\u001b[1;33m \u001b[0madd\u001b[0m\u001b[1;33m(\u001b[0m\u001b[1;34m\"Abc\"\u001b[0m\u001b[1;33m,\u001b[0m\u001b[1;34m\"Xyz\"\u001b[0m\u001b[1;33m)\u001b[0m\u001b[1;33m\u001b[0m\u001b[1;33m\u001b[0m\u001b[0m\n\u001b[0m",
      "\u001b[1;32m<ipython-input-11-9303a7680b6c>\u001b[0m in \u001b[0;36madd\u001b[1;34m(a, b)\u001b[0m\n\u001b[0;32m      4\u001b[0m \u001b[1;32mdef\u001b[0m \u001b[0madd\u001b[0m\u001b[1;33m(\u001b[0m\u001b[0ma\u001b[0m\u001b[1;33m,\u001b[0m\u001b[0mb\u001b[0m\u001b[1;33m)\u001b[0m\u001b[1;33m:\u001b[0m\u001b[1;33m\u001b[0m\u001b[1;33m\u001b[0m\u001b[0m\n\u001b[0;32m      5\u001b[0m     \u001b[1;32mif\u001b[0m \u001b[0mtype\u001b[0m\u001b[1;33m(\u001b[0m\u001b[0ma\u001b[0m\u001b[1;33m)\u001b[0m\u001b[1;33m==\u001b[0m\u001b[0mstr\u001b[0m\u001b[1;33m:\u001b[0m\u001b[1;33m\u001b[0m\u001b[1;33m\u001b[0m\u001b[0m\n\u001b[1;32m----> 6\u001b[1;33m         \u001b[1;32mraise\u001b[0m \u001b[0mmyerror\u001b[0m\u001b[1;33m(\u001b[0m\u001b[1;34m\"PERSONALIZED MESSAGE\"\u001b[0m\u001b[1;33m)\u001b[0m\u001b[1;33m\u001b[0m\u001b[1;33m\u001b[0m\u001b[0m\n\u001b[0m\u001b[0;32m      7\u001b[0m     \u001b[1;32mif\u001b[0m \u001b[0mtype\u001b[0m\u001b[1;33m(\u001b[0m\u001b[0mb\u001b[0m\u001b[1;33m)\u001b[0m\u001b[1;33m==\u001b[0m\u001b[0mstr\u001b[0m\u001b[1;33m:\u001b[0m\u001b[1;33m\u001b[0m\u001b[1;33m\u001b[0m\u001b[0m\n\u001b[0;32m      8\u001b[0m         \u001b[1;32mraise\u001b[0m \u001b[0mTypeError\u001b[0m\u001b[1;33m(\u001b[0m\u001b[1;34m\"b should be int\"\u001b[0m\u001b[1;33m)\u001b[0m\u001b[1;33m\u001b[0m\u001b[1;33m\u001b[0m\u001b[0m\n",
      "\u001b[1;31mmyerror\u001b[0m: PERSONALIZED MESSAGE"
     ]
    }
   ],
   "source": [
    "class myerror(Exception):\n",
    "    def __init__(self,arg):\n",
    "        self.msg=arg\n",
    "def add(a,b):\n",
    "    if type(a)==str:\n",
    "        raise myerror(\"PERSONALIZED MESSAGE\")\n",
    "    if type(b)==str:\n",
    "        raise TypeError(\"b should be int\")\n",
    "    return (a+b)\n",
    "add(\"Abc\",\"Xyz\")"
   ]
  },
  {
   "cell_type": "code",
   "execution_count": 20,
   "metadata": {},
   "outputs": [
    {
     "name": "stdout",
     "output_type": "stream",
     "text": [
      "Enter money:6000\n",
      "Enter withdrawal amount:7000\n",
      "Insufficient Balance\n"
     ]
    }
   ],
   "source": [
    "class het(Exception):\n",
    "    def __init__(self,arg):\n",
    "        self.msg=arg\n",
    "def checkBalance():\n",
    "    try:\n",
    "        money=int(input(\"Enter money:\"))\n",
    "        withdraw=int(input(\"Enter withdrawal amount:\"))\n",
    "        if money<withdraw:\n",
    "            raise het(\"Insufficient Balance\")\n",
    "        money=money-withdraw\n",
    "        if money<2000:\n",
    "            raise het(\"Low Balance\")\n",
    "    except het as e:\n",
    "        print(e)\n",
    "checkBalance()"
   ]
  },
  {
   "cell_type": "code",
   "execution_count": 31,
   "metadata": {},
   "outputs": [
    {
     "ename": "IndentationError",
     "evalue": "expected an indented block (<ipython-input-31-a4543e3584dd>, line 3)",
     "output_type": "error",
     "traceback": [
      "\u001b[1;36m  File \u001b[1;32m\"<ipython-input-31-a4543e3584dd>\"\u001b[1;36m, line \u001b[1;32m3\u001b[0m\n\u001b[1;33m    a+b\u001b[0m\n\u001b[1;37m    ^\u001b[0m\n\u001b[1;31mIndentationError\u001b[0m\u001b[1;31m:\u001b[0m expected an indented block\n"
     ]
    }
   ],
   "source": [
    "try:\n",
    "    if a+b==0:\n",
    "    a+b\n",
    "except IndentationError:\n",
    "    print(\"Bad Syntax\")"
   ]
  },
  {
   "cell_type": "markdown",
   "metadata": {},
   "source": [
    "### OOP-Object Oriented Programming\n",
    "==>Everything in python is class/object\n",
    "class --> user defined data structure that binds the data members and methods into a single unit\n",
    "      --> blueprint or code template for object creation\n",
    "      --> you can create as many objects as you want\n",
    "object--> instance of a class\n",
    "      --> collection of attributes(variable) and methods\n",
    "      --> we can use the object of a class to perform action\n",
    "objects have 2 characteristics:\n",
    "1)States     2)behaviour\n",
    "eg:class person\n",
    "states-->name,gender,profession\n",
    "behaviours-->study(),work()"
   ]
  },
  {
   "cell_type": "code",
   "execution_count": 32,
   "metadata": {},
   "outputs": [
    {
     "name": "stdout",
     "output_type": "stream",
     "text": [
      "<class 'int'>\n",
      "<class 'str'>\n",
      "<class 'function'>\n",
      "<class 'module'>\n"
     ]
    }
   ],
   "source": [
    "x=42\n",
    "print(type(x))\n",
    "x=\"Hello\"\n",
    "print(type(x))\n",
    "def Z():\n",
    "    pass\n",
    "print(type(Z))\n",
    "import math\n",
    "print(type(math))"
   ]
  },
  {
   "cell_type": "code",
   "execution_count": 36,
   "metadata": {},
   "outputs": [
    {
     "name": "stdout",
     "output_type": "stream",
     "text": [
      "Employee Name: het Employee Age: 20 Employee Salary: 10000000\n",
      "Employee Name: moksh Employee Age: 19 Employee Salary: 100000\n"
     ]
    }
   ],
   "source": [
    "class Employee:\n",
    "    def __init__(self,name,age,salary):\n",
    "        self.name=name\n",
    "        self.age=age\n",
    "        self.salary=salary\n",
    "    def display(self):\n",
    "        print(\"Employee Name:\",self.name,\"Employee Age:\",self.age,\"Employee Salary:\",self.salary)\n",
    "emp1=Employee('het',20,10000000)\n",
    "emp1.display()\n",
    "emp2=Employee('moksh',19,100000)\n",
    "emp2.display()"
   ]
  }
 ],
 "metadata": {
  "kernelspec": {
   "display_name": "Python 3",
   "language": "python",
   "name": "python3"
  },
  "language_info": {
   "codemirror_mode": {
    "name": "ipython",
    "version": 3
   },
   "file_extension": ".py",
   "mimetype": "text/x-python",
   "name": "python",
   "nbconvert_exporter": "python",
   "pygments_lexer": "ipython3",
   "version": "3.8.5"
  }
 },
 "nbformat": 4,
 "nbformat_minor": 4
}
