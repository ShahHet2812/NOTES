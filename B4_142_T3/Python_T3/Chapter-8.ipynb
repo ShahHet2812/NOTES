{
 "cells": [
  {
   "cell_type": "markdown",
   "metadata": {},
   "source": [
    "Exception Handling\n",
    "==> Error in python\n",
    "->Syntax Error\n",
    "->Exceptions\n",
    "==>Errors are problems in python due to the program will stop execution\n",
    "==>Exceptions are raised when some interred events occurs which change the normal flow of the program\n",
    "==>try,except,else,finally are used"
   ]
  },
  {
   "cell_type": "code",
   "execution_count": null,
   "metadata": {},
   "outputs": [],
   "source": [
    "print(\"Start\")\n",
    "def div(a,b):\n",
    "    return(a/b)\n",
    "try:\n",
    "    print(div(5,1))\n",
    "except:\n",
    "    print(\"Exception Occured\")\n",
    "else:\n",
    "    print(\"No Error\")\n",
    "finally:\n",
    "    print(\"This is always there\")"
   ]
  },
  {
   "cell_type": "code",
   "execution_count": 2,
   "metadata": {},
   "outputs": [
    {
     "name": "stdout",
     "output_type": "stream",
     "text": [
      "This is python\n",
      "5\n",
      "division by zero\n"
     ]
    }
   ],
   "source": [
    "try:\n",
    "    m=5\n",
    "    f=open(\"demo.txt\",'r')\n",
    "    print(f.read())\n",
    "    print(m)\n",
    "    print(5/1)\n",
    "    l=[1,2,3]\n",
    "    l=[100]\n",
    "except FileNotFoundError:\n",
    "    print(\"File not found\")\n",
    "except NameError:\n",
    "    print(\"Variable not defined\")\n",
    "except ZeroDivisionError:\n",
    "    print(\"Can't divide by 0\")\n",
    "except Exception as e:\n",
    "    print(e)"
   ]
  },
  {
   "cell_type": "code",
   "execution_count": 4,
   "metadata": {},
   "outputs": [
    {
     "name": "stdout",
     "output_type": "stream",
     "text": [
      "division by zero\n",
      "Rest of the code\n"
     ]
    }
   ],
   "source": [
    "a=0\n",
    "b=0\n",
    "try:\n",
    "    d=a/b\n",
    "    print(d)\n",
    "except(NameError,ZeroDivisionError) as obj:\n",
    "    print(obj)\n",
    "print(\"Rest of the code\")"
   ]
  },
  {
   "cell_type": "markdown",
   "metadata": {},
   "source": [
    "### Raise of Exception"
   ]
  },
  {
   "cell_type": "code",
   "execution_count": 9,
   "metadata": {},
   "outputs": [
    {
     "data": {
      "text/plain": [
       "30"
      ]
     },
     "execution_count": 9,
     "metadata": {},
     "output_type": "execute_result"
    }
   ],
   "source": [
    "def add(a,b):\n",
    "    if type(a)==str:\n",
    "        raise TypeError(\"a should be int\")\n",
    "    if type(b)==str:\n",
    "        raise TypeError(\"b should be int\")\n",
    "    return a+b\n",
    "add(10,20)"
   ]
  },
  {
   "cell_type": "markdown",
   "metadata": {},
   "source": [
    "### Custom Exception"
   ]
  },
  {
   "cell_type": "code",
   "execution_count": 11,
   "metadata": {},
   "outputs": [
    {
     "ename": "myerror",
     "evalue": "PERSONALIZED MESSAGE",
     "output_type": "error",
     "traceback": [
      "\u001b[1;31m---------------------------------------------------------------------------\u001b[0m",
      "\u001b[1;31mmyerror\u001b[0m                                   Traceback (most recent call last)",
      "\u001b[1;32m<ipython-input-11-9303a7680b6c>\u001b[0m in \u001b[0;36m<module>\u001b[1;34m\u001b[0m\n\u001b[0;32m      8\u001b[0m         \u001b[1;32mraise\u001b[0m \u001b[0mTypeError\u001b[0m\u001b[1;33m(\u001b[0m\u001b[1;34m\"b should be int\"\u001b[0m\u001b[1;33m)\u001b[0m\u001b[1;33m\u001b[0m\u001b[1;33m\u001b[0m\u001b[0m\n\u001b[0;32m      9\u001b[0m     \u001b[1;32mreturn\u001b[0m \u001b[1;33m(\u001b[0m\u001b[0ma\u001b[0m\u001b[1;33m+\u001b[0m\u001b[0mb\u001b[0m\u001b[1;33m)\u001b[0m\u001b[1;33m\u001b[0m\u001b[1;33m\u001b[0m\u001b[0m\n\u001b[1;32m---> 10\u001b[1;33m \u001b[0madd\u001b[0m\u001b[1;33m(\u001b[0m\u001b[1;34m\"Abc\"\u001b[0m\u001b[1;33m,\u001b[0m\u001b[1;34m\"Xyz\"\u001b[0m\u001b[1;33m)\u001b[0m\u001b[1;33m\u001b[0m\u001b[1;33m\u001b[0m\u001b[0m\n\u001b[0m",
      "\u001b[1;32m<ipython-input-11-9303a7680b6c>\u001b[0m in \u001b[0;36madd\u001b[1;34m(a, b)\u001b[0m\n\u001b[0;32m      4\u001b[0m \u001b[1;32mdef\u001b[0m \u001b[0madd\u001b[0m\u001b[1;33m(\u001b[0m\u001b[0ma\u001b[0m\u001b[1;33m,\u001b[0m\u001b[0mb\u001b[0m\u001b[1;33m)\u001b[0m\u001b[1;33m:\u001b[0m\u001b[1;33m\u001b[0m\u001b[1;33m\u001b[0m\u001b[0m\n\u001b[0;32m      5\u001b[0m     \u001b[1;32mif\u001b[0m \u001b[0mtype\u001b[0m\u001b[1;33m(\u001b[0m\u001b[0ma\u001b[0m\u001b[1;33m)\u001b[0m\u001b[1;33m==\u001b[0m\u001b[0mstr\u001b[0m\u001b[1;33m:\u001b[0m\u001b[1;33m\u001b[0m\u001b[1;33m\u001b[0m\u001b[0m\n\u001b[1;32m----> 6\u001b[1;33m         \u001b[1;32mraise\u001b[0m \u001b[0mmyerror\u001b[0m\u001b[1;33m(\u001b[0m\u001b[1;34m\"PERSONALIZED MESSAGE\"\u001b[0m\u001b[1;33m)\u001b[0m\u001b[1;33m\u001b[0m\u001b[1;33m\u001b[0m\u001b[0m\n\u001b[0m\u001b[0;32m      7\u001b[0m     \u001b[1;32mif\u001b[0m \u001b[0mtype\u001b[0m\u001b[1;33m(\u001b[0m\u001b[0mb\u001b[0m\u001b[1;33m)\u001b[0m\u001b[1;33m==\u001b[0m\u001b[0mstr\u001b[0m\u001b[1;33m:\u001b[0m\u001b[1;33m\u001b[0m\u001b[1;33m\u001b[0m\u001b[0m\n\u001b[0;32m      8\u001b[0m         \u001b[1;32mraise\u001b[0m \u001b[0mTypeError\u001b[0m\u001b[1;33m(\u001b[0m\u001b[1;34m\"b should be int\"\u001b[0m\u001b[1;33m)\u001b[0m\u001b[1;33m\u001b[0m\u001b[1;33m\u001b[0m\u001b[0m\n",
      "\u001b[1;31mmyerror\u001b[0m: PERSONALIZED MESSAGE"
     ]
    }
   ],
   "source": [
    "class myerror(Exception):\n",
    "    def __init__(self,arg):\n",
    "        self.msg=arg\n",
    "def add(a,b):\n",
    "    if type(a)==str:\n",
    "        raise myerror(\"PERSONALIZED MESSAGE\")\n",
    "    if type(b)==str:\n",
    "        raise TypeError(\"b should be int\")\n",
    "    return (a+b)\n",
    "add(\"Abc\",\"Xyz\")"
   ]
  },
  {
   "cell_type": "code",
   "execution_count": 20,
   "metadata": {},
   "outputs": [
    {
     "name": "stdout",
     "output_type": "stream",
     "text": [
      "Enter money:6000\n",
      "Enter withdrawal amount:7000\n",
      "Insufficient Balance\n"
     ]
    }
   ],
   "source": [
    "class het(Exception):\n",
    "    def __init__(self,arg):\n",
    "        self.msg=arg\n",
    "def checkBalance():\n",
    "    try:\n",
    "        money=int(input(\"Enter money:\"))\n",
    "        withdraw=int(input(\"Enter withdrawal amount:\"))\n",
    "        if money<withdraw:\n",
    "            raise het(\"Insufficient Balance\")\n",
    "        money=money-withdraw\n",
    "        if money<2000:\n",
    "            raise het(\"Low Balance\")\n",
    "    except het as e:\n",
    "        print(e)\n",
    "checkBalance()"
   ]
  },
  {
   "cell_type": "code",
   "execution_count": 31,
   "metadata": {},
   "outputs": [
    {
     "ename": "IndentationError",
     "evalue": "expected an indented block (<ipython-input-31-a4543e3584dd>, line 3)",
     "output_type": "error",
     "traceback": [
      "\u001b[1;36m  File \u001b[1;32m\"<ipython-input-31-a4543e3584dd>\"\u001b[1;36m, line \u001b[1;32m3\u001b[0m\n\u001b[1;33m    a+b\u001b[0m\n\u001b[1;37m    ^\u001b[0m\n\u001b[1;31mIndentationError\u001b[0m\u001b[1;31m:\u001b[0m expected an indented block\n"
     ]
    }
   ],
   "source": [
    "try:\n",
    "    if a+b==0:\n",
    "    a+b\n",
    "except IndentationError:\n",
    "    print(\"Bad Syntax\")"
   ]
  },
  {
   "cell_type": "markdown",
   "metadata": {},
   "source": [
    "### OOP-Object Oriented Programming\n",
    "==>Everything in python is class/object\n",
    "class --> user defined data structure that binds the data members and methods into a single unit\n",
    "      --> blueprint or code template for object creation\n",
    "      --> you can create as many objects as you want\n",
    "object--> instance of a class\n",
    "      --> collection of attributes(variable) and methods\n",
    "      --> we can use the object of a class to perform action\n",
    "objects have 2 characteristics:\n",
    "1)States     2)behaviour\n",
    "eg:class person\n",
    "states-->name,gender,profession\n",
    "behaviours-->study(),work()"
   ]
  },
  {
   "cell_type": "code",
   "execution_count": 32,
   "metadata": {},
   "outputs": [
    {
     "name": "stdout",
     "output_type": "stream",
     "text": [
      "<class 'int'>\n",
      "<class 'str'>\n",
      "<class 'function'>\n",
      "<class 'module'>\n"
     ]
    }
   ],
   "source": [
    "x=42\n",
    "print(type(x))\n",
    "x=\"Hello\"\n",
    "print(type(x))\n",
    "def Z():\n",
    "    pass\n",
    "print(type(Z))\n",
    "import math\n",
    "print(type(math))"
   ]
  },
  {
   "cell_type": "code",
   "execution_count": 36,
   "metadata": {
    "collapsed": true
   },
   "outputs": [
    {
     "name": "stdout",
     "output_type": "stream",
     "text": [
      "Employee Name: het Employee Age: 20 Employee Salary: 10000000\n",
      "Employee Name: moksh Employee Age: 19 Employee Salary: 100000\n"
     ]
    }
   ],
   "source": [
    "class Employee:\n",
    "    def __init__(self,name,age,salary):\n",
    "        self.name=name\n",
    "        self.age=age\n",
    "        self.salary=salary\n",
    "    def display(self):\n",
    "        print(\"Employee Name:\",self.name,\"Employee Age:\",self.age,\"Employee Salary:\",self.salary)\n",
    "emp1=Employee('het',20,10000000)\n",
    "emp1.display()\n",
    "emp2=Employee('moksh',19,100000)\n",
    "emp2.display()"
   ]
  },
  {
   "cell_type": "code",
   "execution_count": 4,
   "metadata": {},
   "outputs": [
    {
     "name": "stdout",
     "output_type": "stream",
     "text": [
      "Name: Harry\n",
      "Salary: 30000\n",
      "Role: Engineer\n",
      "Name: Rohan\n",
      "Salary: 40000\n",
      "Role: Developer\n"
     ]
    }
   ],
   "source": [
    "class Employee:\n",
    "    leaves=5\n",
    "    def printDetails(self):\n",
    "        print(\"Name:\",self.name)\n",
    "        print(\"Salary:\",self.salary)\n",
    "        print(\"Role:\",self.role)\n",
    "harry=Employee()\n",
    "rohan=Employee()\n",
    "harry.name=\"Harry\"\n",
    "harry.salary=30000\n",
    "harry.role=\"Engineer\"\n",
    "rohan.name=\"Rohan\"\n",
    "rohan.salary=40000\n",
    "rohan.role=\"Developer\"\n",
    "harry.printDetails()\n",
    "rohan.printDetails()"
   ]
  },
  {
   "cell_type": "code",
   "execution_count": 7,
   "metadata": {},
   "outputs": [
    {
     "name": "stdout",
     "output_type": "stream",
     "text": [
      "Name: Harry Salary: 30000 Role: Engineer\n",
      "Name: Rohan Salary: 40000 Role: Developer\n"
     ]
    }
   ],
   "source": [
    "class Employee:\n",
    "    leaves=5\n",
    "    def __init__(self,name,salary,role):\n",
    "        self.salary=salary\n",
    "        self.name=name\n",
    "        self.role=role\n",
    "    def printDetails(self):\n",
    "        print(\"Name:\",self.name,\"Salary:\",self.salary,\"Role:\",self.role)\n",
    "harry=Employee(\"Harry\",30000,\"Engineer\")\n",
    "rohan=Employee(\"Rohan\",40000,\"Developer\")\n",
    "harry.printDetails()\n",
    "rohan.printDetails()"
   ]
  },
  {
   "cell_type": "code",
   "execution_count": 164,
   "metadata": {},
   "outputs": [
    {
     "name": "stdout",
     "output_type": "stream",
     "text": [
      "Address of self: 2973070047120\n",
      "Address of class object: 2973070047120\n",
      "5\n",
      "Address of self: 2973071012624\n",
      "Address of class object: 2973071012624\n",
      "9\n"
     ]
    }
   ],
   "source": [
    "class check:\n",
    "    def __init__(self,m):\n",
    "        print(\"Address of self:\",id(self))\n",
    "        self.m=m\n",
    "obj=check(5)\n",
    "print(\"Address of class object:\",id(obj))\n",
    "print(obj.m)\n",
    "obj1=check(9)\n",
    "print(\"Address of class object:\",id(obj1))\n",
    "print(obj1.m)"
   ]
  },
  {
   "cell_type": "code",
   "execution_count": 168,
   "metadata": {},
   "outputs": [
    {
     "name": "stdout",
     "output_type": "stream",
     "text": [
      "50\n"
     ]
    }
   ],
   "source": [
    "class test:\n",
    "    def __init__(self):\n",
    "        self.value=50\n",
    "        self.show()#Only show wouldnt work as the class in not run yet\n",
    "    def show(self):\n",
    "        print(self.value)\n",
    "a=test()"
   ]
  },
  {
   "cell_type": "code",
   "execution_count": 173,
   "metadata": {},
   "outputs": [
    {
     "name": "stdout",
     "output_type": "stream",
     "text": [
      "This is a static method\n"
     ]
    }
   ],
   "source": [
    "class Scalar:\n",
    "    @staticmethod\n",
    "    def hello(name):\n",
    "        print(\"This is a static method\")\n",
    "s=Scalar()\n",
    "s.hello(\"Harry\")"
   ]
  },
  {
   "cell_type": "code",
   "execution_count": 177,
   "metadata": {},
   "outputs": [
    {
     "ename": "TypeError",
     "evalue": "__init__() takes 0 positional arguments but 1 was given",
     "output_type": "error",
     "traceback": [
      "\u001b[1;31m---------------------------------------------------------------------------\u001b[0m",
      "\u001b[1;31mTypeError\u001b[0m                                 Traceback (most recent call last)",
      "\u001b[1;32m<ipython-input-177-0621c40600ce>\u001b[0m in \u001b[0;36m<module>\u001b[1;34m\u001b[0m\n\u001b[0;32m      2\u001b[0m     \u001b[1;32mdef\u001b[0m \u001b[0m__init__\u001b[0m\u001b[1;33m(\u001b[0m\u001b[1;33m)\u001b[0m\u001b[1;33m:\u001b[0m\u001b[1;33m\u001b[0m\u001b[1;33m\u001b[0m\u001b[0m\n\u001b[0;32m      3\u001b[0m         \u001b[0mprint\u001b[0m\u001b[1;33m(\u001b[0m\u001b[1;34m\"This is constructor\"\u001b[0m\u001b[1;33m)\u001b[0m\u001b[1;33m\u001b[0m\u001b[1;33m\u001b[0m\u001b[0m\n\u001b[1;32m----> 4\u001b[1;33m \u001b[0mobj\u001b[0m\u001b[1;33m=\u001b[0m\u001b[0mcheck\u001b[0m\u001b[1;33m(\u001b[0m\u001b[1;33m)\u001b[0m\u001b[1;33m\u001b[0m\u001b[1;33m\u001b[0m\u001b[0m\n\u001b[0m\u001b[0;32m      5\u001b[0m \u001b[0mprint\u001b[0m\u001b[1;33m(\u001b[0m\u001b[1;34m\"Worked Fine\"\u001b[0m\u001b[1;33m)\u001b[0m\u001b[1;33m\u001b[0m\u001b[1;33m\u001b[0m\u001b[0m\n",
      "\u001b[1;31mTypeError\u001b[0m: __init__() takes 0 positional arguments but 1 was given"
     ]
    }
   ],
   "source": [
    "class check:\n",
    "    def __init__():\n",
    "        print(\"This is constructor\")\n",
    "obj=check()\n",
    "print(\"Worked Fine\")"
   ]
  },
  {
   "cell_type": "code",
   "execution_count": 190,
   "metadata": {},
   "outputs": [
    {
     "name": "stdout",
     "output_type": "stream",
     "text": [
      "5 5 140707613321120 140707613321120\n",
      "10 5 140707613321280 140707613321120\n",
      "5 5 140707613321120 140707613321120\n",
      "10 5 140707613321280 140707613321120\n"
     ]
    }
   ],
   "source": [
    "class Account:\n",
    "    rate=5\n",
    "    def some_method(self):\n",
    "        print(self.rate,Account.rate,id(self.rate),id(Account.rate))\n",
    "        self.rate=10\n",
    "        print(self.rate,Account.rate,id(self.rate),id(Account.rate))\n",
    "a1=Account()\n",
    "a2=Account()\n",
    "a1.some_method()\n",
    "a2.some_method()"
   ]
  },
  {
   "cell_type": "code",
   "execution_count": 193,
   "metadata": {},
   "outputs": [
    {
     "name": "stdout",
     "output_type": "stream",
     "text": [
      "25 30\n",
      "They are different\n"
     ]
    }
   ],
   "source": [
    "class Person:\n",
    "    def __init__(self):\n",
    "        self.name=\"Harry\"\n",
    "        self.age=30\n",
    "    def update(self):\n",
    "        self.age=25\n",
    "    def compare(self,other):\n",
    "        print(self.age,other.age)\n",
    "        if self.age==other.age:\n",
    "            print(\"They are same\")\n",
    "        else:\n",
    "            print(\"They are different\")\n",
    "p1=Person()\n",
    "p2=Person()\n",
    "p1.update()\n",
    "p1.compare(p2)"
   ]
  },
  {
   "cell_type": "markdown",
   "metadata": {},
   "source": [
    "### Constructor\n",
    "==>Unique function that gets called automatically when an object is created\n",
    "1)Parameterized Constructor\n",
    "2)Non Parameterized Constructor\n",
    "3)Default Constructor"
   ]
  },
  {
   "cell_type": "code",
   "execution_count": 196,
   "metadata": {},
   "outputs": [
    {
     "name": "stdout",
     "output_type": "stream",
     "text": [
      "This is parameterized constructor\n",
      "No of members 10\n"
     ]
    }
   ],
   "source": [
    "class Employee:\n",
    "    members=5\n",
    "    def __init__(self,count):\n",
    "        print(\"This is parameterized constructor\")\n",
    "        self.members=count\n",
    "    def show(self):\n",
    "        print(\"No of members\",self.members)\n",
    "obj=Employee(10)\n",
    "obj.show()"
   ]
  },
  {
   "cell_type": "code",
   "execution_count": 198,
   "metadata": {},
   "outputs": [
    {
     "name": "stdout",
     "output_type": "stream",
     "text": [
      "This is non parameterized constructor\n",
      "No of members 5\n"
     ]
    }
   ],
   "source": [
    "class Employee:\n",
    "    members=5\n",
    "    def __init__(self):\n",
    "        print(\"This is non parameterized constructor\")\n",
    "    def show(self):\n",
    "        print(\"No of members\",self.members)\n",
    "obj=Employee()\n",
    "obj.show()"
   ]
  },
  {
   "cell_type": "code",
   "execution_count": 199,
   "metadata": {},
   "outputs": [
    {
     "name": "stdout",
     "output_type": "stream",
     "text": [
      "not done\n"
     ]
    }
   ],
   "source": [
    "#Default constructor\n",
    "class Assignment:\n",
    "    check=\"not done\"\n",
    "    def is_done(self):\n",
    "        print(self.check)\n",
    "obj=Assignment()\n",
    "obj.is_done()"
   ]
  },
  {
   "cell_type": "markdown",
   "metadata": {},
   "source": [
    "### Destruction\n",
    "==>Destruction is called when an object is deleted or destroyed\n",
    "==>Used to perform clean-up activity before destroying an object,such as closing the database connections or file handle\n",
    "==>Python has a garbage collector that handles memory management automatically\n",
    "==>It cleans up the memory when an object goes out of scope"
   ]
  },
  {
   "cell_type": "code",
   "execution_count": 202,
   "metadata": {},
   "outputs": [
    {
     "name": "stdout",
     "output_type": "stream",
     "text": [
      "Employee Name: het Employee Age: 20 Employee Salary: 100000\n",
      "Employee Name: moksh Employee Age: 19 Employee Salary: 100000\n",
      "Object Destroyed\n"
     ]
    }
   ],
   "source": [
    "class Employee:\n",
    "    def __init__(self,name,age,salary):\n",
    "        self.name=name\n",
    "        self.age=age\n",
    "        self.salary=salary\n",
    "    def __del__(self):\n",
    "        print(\"Object Destroyed\")\n",
    "    def display(self):\n",
    "        print(\"Employee Name:\",self.name,\"Employee Age:\",self.age,\"Employee Salary:\",self.salary)\n",
    "emp1=Employee('het',20,100000)\n",
    "emp1.display()\n",
    "emp2=Employee('moksh',19,100000)\n",
    "emp2.display()\n",
    "del emp2\n",
    "# emp2.display() Error is generated"
   ]
  },
  {
   "cell_type": "markdown",
   "metadata": {},
   "source": [
    "### Class Variable vs Instance Variable"
   ]
  },
  {
   "cell_type": "code",
   "execution_count": 208,
   "metadata": {},
   "outputs": [
    {
     "name": "stdout",
     "output_type": "stream",
     "text": [
      "Yes\n"
     ]
    }
   ],
   "source": [
    "class Mobile:\n",
    "    fp=\"Yes\"#class variable\n",
    "    @classmethod\n",
    "    def show(cls):#class method\n",
    "        print(cls.fp)#accessing variable inside class method\n",
    "realme=Mobile()\n",
    "print(Mobile.fp)#accessing class variable outside class"
   ]
  },
  {
   "cell_type": "code",
   "execution_count": 204,
   "metadata": {},
   "outputs": [
    {
     "name": "stdout",
     "output_type": "stream",
     "text": [
      "Realme X\n"
     ]
    }
   ],
   "source": [
    "class Mobile:\n",
    "    def __init__(self):\n",
    "        self.model=\"Realme X\"#Instance Variable\n",
    "    def show(self):#Instance Method\n",
    "        print(self.model)#Accessing instance variable inside method\n",
    "realme=Mobile()\n",
    "print(realme.model)#Accessing instance variable outside the class"
   ]
  },
  {
   "cell_type": "code",
   "execution_count": 209,
   "metadata": {},
   "outputs": [
    {
     "name": "stdout",
     "output_type": "stream",
     "text": [
      "The name is: Orange\n",
      "The name is: banana\n",
      "The name is: banana\n"
     ]
    }
   ],
   "source": [
    "class Fruit:\n",
    "    name=\"Orange\"\n",
    "    @classmethod\n",
    "    def printname(cls):\n",
    "        print(\"The name is:\",cls.name)\n",
    "Fruit.printname()\n",
    "apple=Fruit()\n",
    "Fruit.name=\"banana\"\n",
    "apple.printname()\n",
    "apple.name=\"Mango\"\n",
    "apple.printname()"
   ]
  }
 ],
 "metadata": {
  "kernelspec": {
   "display_name": "Python 3",
   "language": "python",
   "name": "python3"
  },
  "language_info": {
   "codemirror_mode": {
    "name": "ipython",
    "version": 3
   },
   "file_extension": ".py",
   "mimetype": "text/x-python",
   "name": "python",
   "nbconvert_exporter": "python",
   "pygments_lexer": "ipython3",
   "version": "3.8.5"
  }
 },
 "nbformat": 4,
 "nbformat_minor": 4
}
