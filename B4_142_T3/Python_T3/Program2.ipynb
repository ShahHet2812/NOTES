{
 "cells": [
  {
   "cell_type": "code",
   "execution_count": 7,
   "metadata": {},
   "outputs": [
    {
     "name": "stdout",
     "output_type": "stream",
     "text": [
      "False\n",
      "Demo.txt\n",
      "a\n",
      "False\n",
      "True\n"
     ]
    }
   ],
   "source": [
    "f = open(\"Demo.txt\",'a')\n",
    "print(f.closed)\n",
    "print(f.name)\n",
    "print(f.mode)\n",
    "print(f.readable())\n",
    "print(f.writable())"
   ]
  },
  {
   "cell_type": "code",
   "execution_count": 9,
   "metadata": {},
   "outputs": [],
   "source": [
    "#WAP to copy the contant of one file to another file\n",
    "with open(\"Demo.txt\") as f:\n",
    "    with open(\"Demo2.txt\",'w') as f2:\n",
    "        f2.write(f.read())"
   ]
  },
  {
   "cell_type": "code",
   "execution_count": 22,
   "metadata": {},
   "outputs": [
    {
     "name": "stdout",
     "output_type": "stream",
     "text": [
      "Name : Alice\n",
      "Age : 21\n",
      "Degree : CSE\n",
      "university : Oxfard\n",
      "\n"
     ]
    }
   ],
   "source": [
    "# write a dict to the file in python\n",
    "details = {\"Name\":\"Alice\",\"Age\":\"21\",\"Degree\":\"CSE\",\"university\":\"Oxfard\"}\n",
    "with open(\"Demo5.txt\",'w+') as f:\n",
    "    for i in details:\n",
    "        f.write(i+\" : \"+details[i]+\"\\n\")\n",
    "    f.seek(0)\n",
    "    print(f.read())"
   ]
  },
  {
   "cell_type": "code",
   "execution_count": 27,
   "metadata": {},
   "outputs": [],
   "source": [
    "#WAP to copy the contant of one file to another file,in Uppercase.\n",
    "with open(\"Demo.txt\") as f:\n",
    "    with open(\"Demo2.txt\",'w') as f2:\n",
    "        f2.write((f.read()).upper())"
   ]
  },
  {
   "cell_type": "code",
   "execution_count": 28,
   "metadata": {},
   "outputs": [],
   "source": [
    "#WAP to copy the contant of one file to another file,in reverse order.\n",
    "with open(\"Demo.txt\") as f:\n",
    "    with open(\"Demo2.txt\",'w') as f2:\n",
    "        string = f.read()\n",
    "        f2.write(string[::-1])"
   ]
  },
  {
   "cell_type": "code",
   "execution_count": 46,
   "metadata": {},
   "outputs": [],
   "source": [
    "#WAP to revese the order of line in demo1 and write them in demo2\n",
    "#WAP to copy the contant of one file to another file,in Uppercase.\n",
    "with open(\"Demo.txt\") as f:\n",
    "    with open(\"Demo2.txt\",'r+') as f2:\n",
    "        l = f.readlines()\n",
    "        f2.writelines(l[::-1])"
   ]
  },
  {
   "cell_type": "code",
   "execution_count": 57,
   "metadata": {},
   "outputs": [
    {
     "name": "stdout",
     "output_type": "stream",
     "text": [
      "Enter the index of line : 0\n",
      "Hello There this is Moksh.\n",
      "\n"
     ]
    }
   ],
   "source": [
    "#WAP to read specific line from a file\n",
    "lineNum = int(input(\"Enter the index of line : \"))\n",
    "with open(\"Demo.txt\") as f:\n",
    "    l = f.readlines()\n",
    "    print(l[lineNum])"
   ]
  },
  {
   "cell_type": "code",
   "execution_count": 61,
   "metadata": {},
   "outputs": [],
   "source": [
    "#WAP to copy the odd lines from one file to another.\n",
    "with open(\"Demo.txt\") as f:\n",
    "    with open(\"Demo2.txt\",'w') as f2:\n",
    "        l = f.readlines()\n",
    "        for i in range(0,len(l),2):\n",
    "            f2.write(l[i])"
   ]
  },
  {
   "cell_type": "code",
   "execution_count": 7,
   "metadata": {},
   "outputs": [
    {
     "name": "stdout",
     "output_type": "stream",
     "text": [
      "Enter File NameDemo.txt\n",
      "This is python 1\n",
      "\n",
      "This is python 2\n",
      "\n",
      "This is python 3\n",
      "\n",
      "This is python 4\n",
      "\n",
      "This is python 5\n",
      "\n",
      "Enter any key to continue or Press Q to exit : \n",
      "This is python 6\n",
      "\n",
      "This is python 7\n",
      "\n",
      "This is python 8\n",
      "\n",
      "This is python 9\n",
      "\n",
      "This is python 10\n",
      "\n",
      "Enter any key to continue or Press Q to exit : \n",
      "This is python 11\n",
      "\n",
      "This is python 12\n",
      "\n",
      "This is python 13\n"
     ]
    }
   ],
   "source": [
    "# file = input(\"Enter File name : \")\n",
    "# f = open(file)\n",
    "# l = f.readlines()\n",
    "# f.close()\n",
    "# choice,count = True,0\n",
    "\n",
    "# while choice :\n",
    "#     for i in range(count,count+5):\n",
    "#         if count>len(l)-1:\n",
    "#             exit\n",
    "#         else:\n",
    "#             print(l[i])\n",
    "#             count+=1        \n",
    "#     if (count>len(l)-1) or (input(\"Enter any key to continue or Press Q to exit : \").upper()=='Q'):\n",
    "#         choice=False\n",
    "        \n",
    "with open(input(\"Enter File Name\")) as text:\n",
    "    num_lines=5\n",
    "    for index,line in enumerate(text,1):\n",
    "        print(line)\n",
    "        if index%num_lines==0:\n",
    "            if (input(\"Enter any key to continue or Press Q to exit : \").upper()=='Q'):\n",
    "                break\n",
    "            else:\n",
    "                continue"
   ]
  },
  {
   "cell_type": "code",
   "execution_count": 1,
   "metadata": {},
   "outputs": [
    {
     "name": "stdout",
     "output_type": "stream",
     "text": [
      "\n"
     ]
    }
   ],
   "source": [
    "#WAP to copy the contant of two files into a single file.\n",
    "with open(\"Demo.txt\") as f:\n",
    "    with open(\"Demo2.txt\") as f2:\n",
    "        with open(\"Demo3.txt\",'w+') as f3:\n",
    "            f3.write(f.read()+\"\\n\")\n",
    "            f3.write(f2.read())\n",
    "            print(f3.read())"
   ]
  },
  {
   "cell_type": "code",
   "execution_count": null,
   "metadata": {},
   "outputs": [],
   "source": []
  }
 ],
 "metadata": {
  "kernelspec": {
   "display_name": "Python 3",
   "language": "python",
   "name": "python3"
  },
  "language_info": {
   "codemirror_mode": {
    "name": "ipython",
    "version": 3
   },
   "file_extension": ".py",
   "mimetype": "text/x-python",
   "name": "python",
   "nbconvert_exporter": "python",
   "pygments_lexer": "ipython3",
   "version": "3.8.5"
  }
 },
 "nbformat": 4,
 "nbformat_minor": 4
}
