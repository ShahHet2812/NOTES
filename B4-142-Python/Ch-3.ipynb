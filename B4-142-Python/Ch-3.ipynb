{
 "cells": [
  {
   "cell_type": "markdown",
   "metadata": {},
   "source": [
    "# CHAPTER-3:Function"
   ]
  },
  {
   "cell_type": "markdown",
   "metadata": {},
   "source": [
    "There are 2 types of function:\n",
    "#### 1) builtin function\n",
    "#### 2)user defined function\n",
    "Syntax:\n",
    "def function_name(parameters):\n",
    "      body of function\n",
    "      return value"
   ]
  },
  {
   "cell_type": "code",
   "execution_count": 2,
   "metadata": {},
   "outputs": [
    {
     "name": "stdout",
     "output_type": "stream",
     "text": [
      "Enter your name:5\n",
      "Hello 5\n"
     ]
    }
   ],
   "source": [
    "def wish(name):\n",
    "    print(\"Hello\",name)\n",
    "name=input(\"Enter your name:\")\n",
    "wish(name)"
   ]
  },
  {
   "cell_type": "markdown",
   "metadata": {},
   "source": [
    "##### Different types of user difined function:\n",
    "1)Function with no parameters and no return type:\n",
    "Example:\n",
    "def printline():\n",
    "    s=input(\"Enter name\")\n",
    "    print(s)\n",
    "2)Functions with parameters and no return type:\n",
    "Example:\n",
    "def printline(s):\n",
    "    print(s)\n",
    "x=input(\"Enter name:\")\n",
    "printline(x)\n",
    "3)Functions with parameters and return type:\n",
    "Example:\n",
    "def printline(s):\n",
    "    return s\n",
    "s=input(\"Enter name:\")\n",
    "t=printline(s)\n",
    "print(t)\n",
    "4)Functions with no parameters and with return type:\n",
    "Example:\n",
    "def printline():\n",
    "    s=input(\"Enter name:\")\n",
    "    return s\n",
    "t=printline()\n",
    "print(t)"
   ]
  },
  {
   "cell_type": "code",
   "execution_count": 5,
   "metadata": {},
   "outputs": [
    {
     "name": "stdout",
     "output_type": "stream",
     "text": [
      "Enter nameHet\n",
      "Het\n"
     ]
    }
   ],
   "source": [
    "def printline():\n",
    "    s=input(\"Enter name:\")\n",
    "    print(s)\n",
    "printline()"
   ]
  },
  {
   "cell_type": "code",
   "execution_count": 4,
   "metadata": {},
   "outputs": [
    {
     "name": "stdout",
     "output_type": "stream",
     "text": [
      "Enter name:Het\n",
      "Het\n"
     ]
    }
   ],
   "source": [
    "def printline(s):\n",
    "    print(s)\n",
    "x=input(\"Enter name:\")\n",
    "printline(x)"
   ]
  },
  {
   "cell_type": "code",
   "execution_count": 6,
   "metadata": {},
   "outputs": [
    {
     "name": "stdout",
     "output_type": "stream",
     "text": [
      "Enter name:Het\n",
      "Het\n"
     ]
    }
   ],
   "source": [
    "def printline(s):\n",
    "    return s\n",
    "s=input(\"Enter name:\")\n",
    "t=printline(s)\n",
    "print(t)"
   ]
  },
  {
   "cell_type": "code",
   "execution_count": 8,
   "metadata": {},
   "outputs": [
    {
     "name": "stdout",
     "output_type": "stream",
     "text": [
      "Enter name:Het\n",
      "Het\n"
     ]
    }
   ],
   "source": [
    "def printline():\n",
    "    s=input(\"Enter name:\")\n",
    "    return s\n",
    "t=printline()\n",
    "print(t)"
   ]
  },
  {
   "cell_type": "code",
   "execution_count": 13,
   "metadata": {},
   "outputs": [
    {
     "name": "stdout",
     "output_type": "stream",
     "text": [
      "Enter 1st no:5\n",
      "Enter 2nd no:5\n",
      "10\n"
     ]
    }
   ],
   "source": [
    "def test(x,y):\n",
    "    return x+y\n",
    "a=int(input(\"Enter 1st no:\"))\n",
    "b=int(input(\"Enter 2nd no:\"))\n",
    "t=test(a,b)\n",
    "print(t)"
   ]
  },
  {
   "cell_type": "code",
   "execution_count": 21,
   "metadata": {},
   "outputs": [
    {
     "name": "stdout",
     "output_type": "stream",
     "text": [
      "Enter a number:5\n",
      "odd\n"
     ]
    }
   ],
   "source": [
    "def test(x):\n",
    "    if x%2==0:\n",
    "        return \"even\"\n",
    "    else:\n",
    "        return \"odd\"\n",
    "n=int(input(\"Enter a number:\"))\n",
    "x=test(n)\n",
    "print(x)"
   ]
  },
  {
   "cell_type": "code",
   "execution_count": 29,
   "metadata": {},
   "outputs": [
    {
     "name": "stdout",
     "output_type": "stream",
     "text": [
      "30\n",
      "10\n",
      "200\n",
      "2.0\n"
     ]
    }
   ],
   "source": [
    "a=20\n",
    "b=10\n",
    "def calc(a,b):\n",
    "    sum=a+b\n",
    "    sub=a-b\n",
    "    mul=a*b\n",
    "    div=a/b\n",
    "    return sum,sub,mul,div\n",
    "t=calc(a,b)\n",
    "for i in t:\n",
    "    print(i)"
   ]
  },
  {
   "cell_type": "markdown",
   "metadata": {},
   "source": [
    "#### Function Specification:\n",
    "##### Docstring:\n",
    "1)text between the triple quotation mark is called docstring\n",
    "2)provide specification of function\n",
    "Example:\n",
    "def square(x):\n",
    "    \"\"\"Argument passed into x returns square of x\"\"\"\n",
    "    return x*x\n",
    "print(square.__doc__)"
   ]
  },
  {
   "cell_type": "code",
   "execution_count": 30,
   "metadata": {},
   "outputs": [
    {
     "name": "stdout",
     "output_type": "stream",
     "text": [
      "Argument passed into x returns square of x\n"
     ]
    }
   ],
   "source": [
    "def square(x):\n",
    "    \"\"\"Argument passed into x returns square of x\"\"\"\n",
    "    return x*x\n",
    "print(square.__doc__)"
   ]
  }
 ],
 "metadata": {
  "kernelspec": {
   "display_name": "Python 3",
   "language": "python",
   "name": "python3"
  },
  "language_info": {
   "codemirror_mode": {
    "name": "ipython",
    "version": 3
   },
   "file_extension": ".py",
   "mimetype": "text/x-python",
   "name": "python",
   "nbconvert_exporter": "python",
   "pygments_lexer": "ipython3",
   "version": "3.8.5"
  }
 },
 "nbformat": 4,
 "nbformat_minor": 4
}
