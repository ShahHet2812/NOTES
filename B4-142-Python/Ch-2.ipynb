{
 "cells": [
  {
   "cell_type": "markdown",
   "metadata": {},
   "source": [
    "## Chapter-2\n",
    "###Conditional Execution\n",
    "\n",
    "\n",
    "1)Simple if\n",
    "\n",
    "if condition:\n",
    "    statement\n",
    "    or\n",
    "    condition\n",
    "    St-1\n",
    "    St-2\n",
    "    St-3\n",
    "    \n",
    "    \n",
    "Example:name=input(\"Enter Name\")\n",
    "if name==\"Armaan\"\n",
    "    print(\"Hello Arman,Good Morning\")\n",
    "print(\"How are you!!!\")"
   ]
  },
  {
   "cell_type": "markdown",
   "metadata": {},
   "source": [
    "#### if-else condition\n",
    "2)if-else\n",
    "\n",
    "if condition\n",
    "    action-1\n",
    "else\n",
    "    action-2\n",
    "Example:name=input(\"Enter name\")\n",
    "if name==\"Arman\"\n",
    "    print(\"Hello Armaan\")\n",
    "else\n",
    "    print(\"Hello Guest\")\n",
    "print(\"How are You!!!\")"
   ]
  },
  {
   "cell_type": "markdown",
   "metadata": {},
   "source": [
    "3)if-elif-else condition\n",
    "if condition-1\n",
    "    Action-1\n",
    "elif condition-2\n",
    "    Action-2\n",
    "else\n",
    "    Default Action"
   ]
  },
  {
   "cell_type": "code",
   "execution_count": null,
   "metadata": {},
   "outputs": [],
   "source": [
    "a=int(input(\"Enter num-1 \"))\n",
    "b=int(input(\"Enter num-2 \"))\n",
    "c=int(input(\"Enter num-3 \"))\n",
    "if a>b and a>c:\n",
    "    print(a,\"is maximum\")\n",
    "elif b>c:\n",
    "    print(b,\"is maximum\")\n",
    "else:\n",
    "    print(c,\"is maximum\")"
   ]
  },
  {
   "cell_type": "markdown",
   "metadata": {},
   "source": [
    "#### Nested if\n",
    "x=41\n",
    "if x>10:\n",
    "    print(\"Above 10\")\n",
    "    if x>20:\n",
    "        print(\"And also above 20\")\n",
    "    else\n",
    "        print(\"But not above 20\")"
   ]
  },
  {
   "cell_type": "code",
   "execution_count": null,
   "metadata": {},
   "outputs": [],
   "source": [
    "x=int(input(\"Enter a number \"))\n",
    "if x>10:\n",
    "    print(\"Above 10\")\n",
    "    if x>20:\n",
    "        print(\"And also above 20\")\n",
    "    else:\n",
    "        print(\"But not above 20\")\n",
    "else:\n",
    "    print(\"Under 10\")"
   ]
  },
  {
   "cell_type": "markdown",
   "metadata": {},
   "source": [
    "### Iterative Statements\n",
    "1)for loop\n",
    "2)while loop\n",
    "\n",
    "#### for loop\n",
    "Syntax:\n",
    "\n",
    "for x in sequence:\n",
    "    body\n",
    "\n",
    "Example:\n",
    "s=\"Arman\"\n",
    "for i in s:\n",
    "    print(i)"
   ]
  },
  {
   "cell_type": "code",
   "execution_count": null,
   "metadata": {},
   "outputs": [],
   "source": [
    "s=[1,2,3,4,5]\n",
    "for i in s:\n",
    "    print(i,end=\"\")\n",
    "for i in range(5):\n",
    "    print(\"Hello\")"
   ]
  },
  {
   "cell_type": "code",
   "execution_count": null,
   "metadata": {},
   "outputs": [],
   "source": [
    "x=1\n",
    "while x<=5:\n",
    "    print(x)\n",
    "    x+=1"
   ]
  },
  {
   "cell_type": "markdown",
   "metadata": {},
   "source": [
    "### nested loops"
   ]
  },
  {
   "cell_type": "code",
   "execution_count": null,
   "metadata": {},
   "outputs": [],
   "source": [
    "for i in range(2):\n",
    "    for j in range(2):\n",
    "        print(i,j)"
   ]
  },
  {
   "cell_type": "markdown",
   "metadata": {},
   "source": [
    "#### break statement"
   ]
  },
  {
   "cell_type": "code",
   "execution_count": null,
   "metadata": {},
   "outputs": [],
   "source": [
    "for i in range(10):\n",
    "    if i==7:\n",
    "        print(\"Stop Here\")\n",
    "        break\n",
    "    print(i)"
   ]
  },
  {
   "cell_type": "markdown",
   "metadata": {},
   "source": [
    "#### continue statement"
   ]
  },
  {
   "cell_type": "code",
   "execution_count": null,
   "metadata": {},
   "outputs": [],
   "source": [
    "for i in range(10):\n",
    "    if i==7:\n",
    "        print(\"Stop Here\")\n",
    "        continue\n",
    "    print(i)"
   ]
  },
  {
   "cell_type": "code",
   "execution_count": null,
   "metadata": {},
   "outputs": [],
   "source": [
    "#### pass statement"
   ]
  },
  {
   "cell_type": "code",
   "execution_count": null,
   "metadata": {},
   "outputs": [],
   "source": [
    "for i in range(10):\n",
    "    if i==7:\n",
    "        print(\"Stop Here\")\n",
    "        pass\n",
    "    print(i)"
   ]
  },
  {
   "cell_type": "code",
   "execution_count": null,
   "metadata": {},
   "outputs": [],
   "source": [
    "if True:\n",
    "    pass"
   ]
  },
  {
   "cell_type": "code",
   "execution_count": null,
   "metadata": {},
   "outputs": [],
   "source": [
    "### WAPP  to find sum of n numbers\n",
    "\n",
    "a=int(input(\"Enter the number of numbers \"))\n",
    "sum=0\n",
    "for i in range(a):\n",
    "    sum+=i\n",
    "print(sum+a)"
   ]
  },
  {
   "cell_type": "code",
   "execution_count": null,
   "metadata": {},
   "outputs": [],
   "source": [
    "### WAPP whether given year is leap\n",
    "year=int(input(\"Enter a year \"))\n",
    "if year%4==0:\n",
    "    if year%100!=0:\n",
    "        print(\"It is leap\")\n",
    "elif year%400==0:\n",
    "    print(\"It is leap\")\n",
    "else:\n",
    "    print(\"It is not leap\")"
   ]
  },
  {
   "cell_type": "code",
   "execution_count": null,
   "metadata": {},
   "outputs": [],
   "source": [
    "#### WAPP to perform arithmatic operation\n",
    "a=float(input(\"Enter first Number \"))\n",
    "b=float(input(\"Enter second Number \"))\n",
    "c=input(\"Enter arithmatic operator\")\n",
    "if c=='+':\n",
    "    print(a+b)\n",
    "elif c=='-':\n",
    "    print(a-b)\n",
    "elif c=='*':\n",
    "    print(a*b)\n",
    "elif c=='**':\n",
    "    print(a**b)\n",
    "elif c=='//':\n",
    "    print(a//b)\n",
    "elif c=='%':\n",
    "    print(a%b)\n",
    "elif c=='/':\n",
    "    if b==0:\n",
    "        print(\"Division not possible\")\n",
    "    else:\n",
    "        \n",
    "        print(a/b)"
   ]
  },
  {
   "cell_type": "code",
   "execution_count": null,
   "metadata": {},
   "outputs": [],
   "source": [
    "### WAPP to enter attendence of student in % and print bonus marks 15% if attendence is > 70%\n",
    "a=float(input(\"Enter attendence of student \"))\n",
    "bonusMarks=0\n",
    "if a>100:\n",
    "    print(\"Enter valid percentage\")\n",
    "else:\n",
    "    if a>=70:\n",
    "        bonusMarks=bonusMarks+(0.15*a)\n",
    "        print(bonusMarks)\n",
    "    else:\n",
    "        print (\"you are not elligible for bonus\")"
   ]
  },
  {
   "cell_type": "code",
   "execution_count": null,
   "metadata": {},
   "outputs": [],
   "source": [
    "### WAPP to enter 3 sub marks and calculate percent and display grade\n",
    "python=float(input(\"Enter python marks out of 100 \"))\n",
    "java=float(input(\"Enter java marks out of 100 \"))\n",
    "fsd=float(input(\"Enter fsd marks out of 100 \"))\n",
    "perc=((java+python+fsd)*100)/300\n",
    "print(perc)\n",
    "if perc in range(80,101):\n",
    "    print(\"Distinction\")\n",
    "elif perc in range(60,80):\n",
    "    print(\"First\")\n",
    "elif perc in range(35,60):\n",
    "    print(\"Second\")\n",
    "else:\n",
    "    print(\"Fail\")"
   ]
  },
  {
   "cell_type": "code",
   "execution_count": null,
   "metadata": {},
   "outputs": [],
   "source": [
    "### WAPP to calculate th elecricity bill accepts the no. of units from user\n",
    "units=float(input(\"Enter the number of units \"))\n",
    "bill=0\n",
    "if units<=100:\n",
    "    bill=0\n",
    "if units>100 and units<=200:\n",
    "    bill=(units-100)*5\n",
    "if units>200:\n",
    "    bill=(100*5)+(units-200)*10\n",
    "print(\"Your bill is\",bill)"
   ]
  },
  {
   "cell_type": "code",
   "execution_count": null,
   "metadata": {},
   "outputs": [],
   "source": [
    "### WAPP to check whether given no. is 3 digit no. if it is 3 digit no,then display the middle digit\n",
    "a=int(input(\"Enter a digit \"))\n",
    "temp=a\n",
    "count=0\n",
    "md=0\n",
    "while temp!=0:\n",
    "    count=count+1\n",
    "    temp=temp//10\n",
    "if(count==2):\n",
    "    md=(a//10)%10\n",
    "    print(\"Middle digit is:\",md)\n",
    "else:\n",
    "    print(\"The number is not 3 digit number\")"
   ]
  },
  {
   "cell_type": "code",
   "execution_count": 13,
   "metadata": {},
   "outputs": [
    {
     "name": "stdout",
     "output_type": "stream",
     "text": [
      "Enter your age 50\n",
      "Enter your gender m\n",
      "Enter no.of days -6\n",
      "Please enter valid days\n"
     ]
    }
   ],
   "source": [
    "##WAPP to accept the age ,gender and no.of days and display the wages acc to the table if age does not fall in any range then display the following message enter appropriate age\n",
    "age=int(input(\"Enter your age \"))\n",
    "gender=input(\"Enter your gender \")\n",
    "days=int(input(\"Enter no.of days \"))\n",
    "wage=0\n",
    "if days<0:\n",
    "    print(\"Please enter valid days\")\n",
    "elif age>=18 and age<30 and gender==\"m\":\n",
    "    wage+=days*700\n",
    "    print(\"Your wage is\",wage)\n",
    "elif age>=18 and age<30 and gender==\"f\":\n",
    "    wage+=days*750\n",
    "    print(\"Your wage is\",wage)\n",
    "elif age>=30 and age<=40 and gender==\"m\":\n",
    "    wage+=days*800\n",
    "    print(\"Your wage is\",wage)\n",
    "elif age>=30 and age<40 and gender==\"f\":\n",
    "    wage+=days*850\n",
    "    print(\"Your wage is\",wage)\n",
    "elif gender!=\"m\" or gender!=\"f\" or gender!=\"M\" or gender!=\"F\":\n",
    "    print(\"Please enter valid gender\")\n",
    "else:\n",
    "    print(\"Please enter valid age\")"
   ]
  },
  {
   "cell_type": "code",
   "execution_count": 3,
   "metadata": {},
   "outputs": [
    {
     "name": "stdout",
     "output_type": "stream",
     "text": [
      "Enter a number 500\n",
      "The sum of digits is: 5\n",
      "The average is: 1.6666666666666667\n"
     ]
    }
   ],
   "source": [
    "### WAPP to find sum of n numbers and also find the average \n",
    "a=int(input(\"Enter a number \"))\n",
    "temp=a\n",
    "count=0\n",
    "summ=0\n",
    "while temp!=0:\n",
    "    summ+=temp%10\n",
    "    count+=1\n",
    "    temp=temp//10\n",
    "print(\"The sum of digits is:\",summ)\n",
    "avg=summ/count\n",
    "print(\"The average is:\",avg)"
   ]
  },
  {
   "cell_type": "code",
   "execution_count": 4,
   "metadata": {},
   "outputs": [
    {
     "name": "stdout",
     "output_type": "stream",
     "text": [
      "Enter a number 500\n",
      "Enter another number 1\n",
      "Enter divisor 2\n",
      "Please enter smaller digit first\n"
     ]
    }
   ],
   "source": [
    "a=int(input(\"Enter a number \"))\n",
    "b=int(input(\"Enter another number \"))\n",
    "c=int(input(\"Enter divisor \"))\n",
    "count=0\n",
    "if a>b:\n",
    "    print(\"Please enter smaller digit first\")\n",
    "else:\n",
    "    for i in range(a+1,b):\n",
    "        if(i%c==0):\n",
    "            count+=1\n",
    "    print(\"Total nos between\",a,\"and\",b,\"divisible by\",c,\"is\",count)"
   ]
  },
  {
   "cell_type": "code",
   "execution_count": 8,
   "metadata": {},
   "outputs": [
    {
     "name": "stdout",
     "output_type": "stream",
     "text": [
      "Enter digit whose table you want 786\n",
      "786 * 1 = 786\n",
      "786 * 2 = 1572\n",
      "786 * 3 = 2358\n",
      "786 * 4 = 3144\n",
      "786 * 5 = 3930\n",
      "786 * 6 = 4716\n",
      "786 * 7 = 5502\n",
      "786 * 8 = 6288\n",
      "786 * 9 = 7074\n",
      "786 * 10 = 7860\n"
     ]
    }
   ],
   "source": [
    "## WAPP to print multiplication table,accept the number whose table is to be printed\n",
    "a=int(input(\"Enter digit whose table you want \"))\n",
    "for i in range(1,11):\n",
    "    print(a,\"*\",i,\"=\",a*i)"
   ]
  },
  {
   "cell_type": "code",
   "execution_count": 9,
   "metadata": {},
   "outputs": [
    {
     "name": "stdout",
     "output_type": "stream",
     "text": [
      "Enter a number 1\n",
      "Factorial:1\n"
     ]
    }
   ],
   "source": [
    "###WAP to find factorial of user\n",
    "a=int(input(\"Enter a number \"))\n",
    "fact=1\n",
    "if a<0:\n",
    "    print(\"Enter a positive no\")\n",
    "elif a==1 or a==0:\n",
    "    print(\"Factorial:1\")\n",
    "else:\n",
    "    for i in range(a,1,-1):\n",
    "        fact*=i\n",
    "    print(\"Factorial:\",fact)"
   ]
  },
  {
   "cell_type": "code",
   "execution_count": 12,
   "metadata": {
    "scrolled": false
   },
   "outputs": [
    {
     "name": "stdout",
     "output_type": "stream",
     "text": [
      "Enter a number 64\n",
      "0\n",
      "1\n",
      "1\n",
      "2\n",
      "3\n",
      "5\n",
      "8\n",
      "13\n",
      "21\n",
      "34\n",
      "55\n",
      "89\n",
      "144\n",
      "233\n",
      "377\n",
      "610\n",
      "987\n",
      "1597\n",
      "2584\n",
      "4181\n",
      "6765\n",
      "10946\n",
      "17711\n",
      "28657\n",
      "46368\n",
      "75025\n",
      "121393\n",
      "196418\n",
      "317811\n",
      "514229\n",
      "832040\n",
      "1346269\n",
      "2178309\n",
      "3524578\n",
      "5702887\n",
      "9227465\n",
      "14930352\n",
      "24157817\n",
      "39088169\n",
      "63245986\n",
      "102334155\n",
      "165580141\n",
      "267914296\n",
      "433494437\n",
      "701408733\n",
      "1134903170\n",
      "1836311903\n",
      "2971215073\n",
      "4807526976\n",
      "7778742049\n",
      "12586269025\n",
      "20365011074\n",
      "32951280099\n",
      "53316291173\n",
      "86267571272\n",
      "139583862445\n",
      "225851433717\n",
      "365435296162\n",
      "591286729879\n",
      "956722026041\n",
      "1548008755920\n",
      "2504730781961\n",
      "4052739537881\n",
      "6557470319842\n"
     ]
    }
   ],
   "source": [
    "##WAP to display fibonacci series upto nth term\n",
    "a=0\n",
    "b=1\n",
    "x=0\n",
    "n=int(input(\"Enter a number \"))\n",
    "if n<0:\n",
    "    print(\"Please enter positive no.\")\n",
    "elif n==0:\n",
    "    print(\"No terms\")\n",
    "elif n==1:\n",
    "    print(a)\n",
    "else:\n",
    "    print(a)\n",
    "    print(b)\n",
    "    for i in range(n-2):\n",
    "        x=a+b\n",
    "        print(x)\n",
    "        a=b\n",
    "        b=x"
   ]
  },
  {
   "cell_type": "code",
   "execution_count": 4,
   "metadata": {},
   "outputs": [
    {
     "name": "stdout",
     "output_type": "stream",
     "text": [
      "Enter thr no of nos 8\n",
      "Enter no 1 1\n",
      "Enter no 2 2\n",
      "Enter no 3 3\n",
      "Enter no 4 4\n",
      "Enter no 5 5\n",
      "Enter no 6 6\n",
      "Enter no 7 7\n",
      "Enter no 8 8\n",
      "Sum: 36\n",
      "Average: 4.5\n",
      "Sum of evens: 20\n",
      "Sum of odds: 16\n",
      "Average of evens: 5.0\n",
      "Average of evens: 4.0\n"
     ]
    }
   ],
   "source": [
    "##WAP to take 10 nos from user and print their sum and average\n",
    "summo=0\n",
    "summe=0\n",
    "summ=0\n",
    "counto=0\n",
    "counte=0\n",
    "count=0\n",
    "x=int(input(\"Enter thr no of nos \"))\n",
    "for i in range(1,x+1):\n",
    "    a=int(input(f\"Enter no {i} \"))\n",
    "    summ+=a\n",
    "    count+=1\n",
    "    if a%2==0:\n",
    "        summe+=a\n",
    "        counte+=1\n",
    "    else:\n",
    "        summo+=a\n",
    "        counto+=1\n",
    "print(\"Sum:\",summ)\n",
    "avg=summ/count\n",
    "print(\"Average:\",avg)\n",
    "print(\"Sum of evens:\",summe)\n",
    "print(\"Sum of odds:\",summo)\n",
    "print(\"Average of evens:\",summe/counte)\n",
    "print(\"Average of evens:\",summo/counto)"
   ]
  },
  {
   "cell_type": "code",
   "execution_count": 15,
   "metadata": {},
   "outputs": [
    {
     "name": "stdout",
     "output_type": "stream",
     "text": [
      "Enter a no 8008\n",
      "Reversed no: 8008\n",
      "Pallindrome\n"
     ]
    }
   ],
   "source": [
    "##WAP to reverse the no entered by user\n",
    "a=int(input(\"Enter a no \"))\n",
    "temp=a\n",
    "rev=\"\"\n",
    "r=0\n",
    "while temp!=0:\n",
    "    r=temp%10\n",
    "    rev+=str(r)\n",
    "    temp=temp//10\n",
    "print(\"Reversed no:\",int(rev))\n",
    "if int(rev)==a:\n",
    "    print(\"Pallindrome\")"
   ]
  },
  {
   "cell_type": "code",
   "execution_count": 12,
   "metadata": {},
   "outputs": [
    {
     "name": "stdout",
     "output_type": "stream",
     "text": [
      "Enter number 5\n",
      "Armstrong\n"
     ]
    }
   ],
   "source": [
    "n=int(input(\"Enter number \"))\n",
    "l=0\n",
    "temp=n\n",
    "for i in str(n):\n",
    "    l+=1\n",
    "sum=0\n",
    "while n!=0:\n",
    "    d=n%10\n",
    "    sum=sum+(d**l)\n",
    "    n=n//10\n",
    "if sum==temp:\n",
    "    print(\"Armstrong\")\n",
    "else:\n",
    "    print(\"Not armstrong\")"
   ]
  },
  {
   "cell_type": "code",
   "execution_count": 32,
   "metadata": {},
   "outputs": [
    {
     "name": "stdout",
     "output_type": "stream",
     "text": [
      "Enter a number:5\n",
      "Prime\n"
     ]
    }
   ],
   "source": [
    "##WAPP to check if given number is prime or not\n",
    "n=int(input(\"Enter a number:\"))\n",
    "count=0\n",
    "for i in range(1,n+1):\n",
    "    if n%i==0:\n",
    "        count+=1\n",
    "if count==2:\n",
    "    print(\"Prime\")\n",
    "else:\n",
    "    print(\"Composite\")"
   ]
  },
  {
   "cell_type": "code",
   "execution_count": 41,
   "metadata": {},
   "outputs": [
    {
     "name": "stdout",
     "output_type": "stream",
     "text": [
      "Enter a start range:5\n",
      "Enter the end range7\n",
      "5\n",
      "7\n"
     ]
    }
   ],
   "source": [
    "start=int(input(\"Enter a start range:\"))\n",
    "end=int(input(\"Enter the end range\"))\n",
    "for i in range(start,end+1):\n",
    "    flag=0\n",
    "    for j in range (2,i):\n",
    "        if i%j==0:\n",
    "            flag=1\n",
    "    if flag==0:\n",
    "        print(i)"
   ]
  },
  {
   "cell_type": "markdown",
   "metadata": {},
   "source": [
    "# Patterns"
   ]
  },
  {
   "cell_type": "code",
   "execution_count": 48,
   "metadata": {},
   "outputs": [
    {
     "name": "stdout",
     "output_type": "stream",
     "text": [
      "Enter no of rows:5\n",
      " \n",
      "*  \n",
      "* *  \n",
      "* * *  \n",
      "* * * *  \n",
      "* * * * *  \n"
     ]
    }
   ],
   "source": [
    "n=int(input(\"Enter no of rows:\"))\n",
    "for i in range(n+1):\n",
    "    for j in range(1,i+1):\n",
    "        print(\"*\",end=\" \")\n",
    "    print(\" \",end='\\n')"
   ]
  },
  {
   "cell_type": "code",
   "execution_count": 59,
   "metadata": {},
   "outputs": [
    {
     "name": "stdout",
     "output_type": "stream",
     "text": [
      "Enter no of rows:8\n",
      " \n",
      "1  \n",
      "2 2  \n",
      "3 3 3  \n",
      "4 4 4 4  \n",
      "5 5 5 5 5  \n",
      "6 6 6 6 6 6  \n",
      "7 7 7 7 7 7 7  \n",
      "8 8 8 8 8 8 8 8  \n"
     ]
    }
   ],
   "source": [
    "n=int(input(\"Enter no of rows:\"))\n",
    "for i in range(n+1):\n",
    "    for j in range(1,i+1):\n",
    "        print(i,end=\" \")\n",
    "    print(\" \",end='\\n')"
   ]
  },
  {
   "cell_type": "code",
   "execution_count": 60,
   "metadata": {
    "scrolled": true
   },
   "outputs": [
    {
     "name": "stdout",
     "output_type": "stream",
     "text": [
      "Enter no of rows:7\n",
      " \n",
      "1  \n",
      "1 2  \n",
      "1 2 3  \n",
      "1 2 3 4  \n",
      "1 2 3 4 5  \n",
      "1 2 3 4 5 6  \n",
      "1 2 3 4 5 6 7  \n"
     ]
    }
   ],
   "source": [
    "n=int(input(\"Enter no of rows:\"))\n",
    "for i in range(n+1):\n",
    "    for j in range(1,i+1):\n",
    "        print(j,end=\" \")\n",
    "    print(\" \",end='\\n')"
   ]
  },
  {
   "cell_type": "code",
   "execution_count": 62,
   "metadata": {},
   "outputs": [
    {
     "name": "stdout",
     "output_type": "stream",
     "text": [
      "Enter no of rows:5\n",
      " \n",
      "1  \n",
      "2 3  \n",
      "4 5 6  \n",
      "7 8 9 10  \n",
      "11 12 13 14 15  \n"
     ]
    }
   ],
   "source": [
    "n=int(input(\"Enter no of rows:\"))\n",
    "k=1\n",
    "for i in range(n+1):\n",
    "    for j in range(1,i+1):\n",
    "        print(k,end=\" \")\n",
    "        k+=1\n",
    "    print(\" \",end='\\n')"
   ]
  },
  {
   "cell_type": "code",
   "execution_count": 65,
   "metadata": {},
   "outputs": [
    {
     "name": "stdout",
     "output_type": "stream",
     "text": [
      "Enter no of rows:5\n",
      " \n",
      "a  \n",
      "b c  \n",
      "d e f  \n",
      "g h i j  \n",
      "k l m n o  \n"
     ]
    }
   ],
   "source": [
    "n=int(input(\"Enter no of rows:\"))\n",
    "k=97\n",
    "for i in range(n+1):\n",
    "    for j in range(1,i+1):\n",
    "        print(chr(k),end=\" \")\n",
    "        k+=1\n",
    "    print(\" \",end='\\n')"
   ]
  },
  {
   "cell_type": "code",
   "execution_count": 74,
   "metadata": {},
   "outputs": [
    {
     "name": "stdout",
     "output_type": "stream",
     "text": [
      "Enter no of rows:5\n",
      " \n",
      "A  \n",
      "B C  \n",
      "D E F  \n",
      "G H I J  \n",
      "K L M N O  \n"
     ]
    }
   ],
   "source": [
    "n=int(input(\"Enter no of rows:\"))\n",
    "k=65\n",
    "for i in range(n+1):\n",
    "    for j in range(1,i+1):\n",
    "        print(chr(k),end=\" \")\n",
    "        k+=1\n",
    "    print(\" \",end='\\n')"
   ]
  },
  {
   "cell_type": "code",
   "execution_count": 72,
   "metadata": {},
   "outputs": [
    {
     "name": "stdout",
     "output_type": "stream",
     "text": [
      "Enter no of rows:5\n",
      " \n",
      "A  \n",
      "A B  \n",
      "A B C  \n",
      "A B C D  \n",
      "A B C D E  \n"
     ]
    }
   ],
   "source": [
    "n=int(input(\"Enter no of rows:\"))\n",
    "for i in range(n+1):\n",
    "    k=65\n",
    "    for j in range(1,i+1):\n",
    "        print(chr(k),end=\" \")\n",
    "        k+=1\n",
    "    print(\" \",end='\\n')"
   ]
  },
  {
   "cell_type": "code",
   "execution_count": 78,
   "metadata": {},
   "outputs": [
    {
     "name": "stdout",
     "output_type": "stream",
     "text": [
      "Enter no of rows:5\n",
      " \n",
      "1  \n",
      "A B  \n",
      "1 2 3  \n",
      "A B C D  \n",
      "1 2 3 4 5  \n"
     ]
    }
   ],
   "source": [
    "n=int(input(\"Enter no of rows:\"))\n",
    "for i in range(n+1):\n",
    "    k=65\n",
    "    for j in range(1,i+1):\n",
    "        if i%2==0:\n",
    "            print(chr(k),end=' ')\n",
    "            k=k+1\n",
    "        else:\n",
    "            print(j,end=' ')\n",
    "    print(\" \")"
   ]
  },
  {
   "cell_type": "code",
   "execution_count": 79,
   "metadata": {},
   "outputs": [
    {
     "name": "stdout",
     "output_type": "stream",
     "text": [
      "Enter no of rows:5\n",
      " \n",
      "*  \n",
      "# #  \n",
      "* * *  \n",
      "# # # #  \n",
      "* * * * *  \n"
     ]
    }
   ],
   "source": [
    "n=int(input(\"Enter no of rows:\"))\n",
    "for i in range(n+1):\n",
    "    for j in range(1,i+1):\n",
    "        if i%2==0:\n",
    "            print(\"#\",end=' ')\n",
    "        else:\n",
    "            print(\"*\",end=' ')\n",
    "    print(\" \")"
   ]
  },
  {
   "cell_type": "code",
   "execution_count": 82,
   "metadata": {},
   "outputs": [
    {
     "name": "stdout",
     "output_type": "stream",
     "text": [
      "Enter no of rows:5\n",
      " \n",
      "1  \n",
      "0 1  \n",
      "1 0 1  \n",
      "0 1 0 1  \n",
      "1 0 1 0 1  \n"
     ]
    }
   ],
   "source": [
    "n=int(input(\"Enter no of rows:\"))\n",
    "for i in range(n+1):\n",
    "    for j in range(1,i+1):\n",
    "        if (i+j)%2==0:\n",
    "            print(\"1\",end=' ')\n",
    "        else:\n",
    "            print(\"0\",end=' ')\n",
    "    print(\" \")"
   ]
  },
  {
   "cell_type": "code",
   "execution_count": 91,
   "metadata": {},
   "outputs": [
    {
     "name": "stdout",
     "output_type": "stream",
     "text": [
      "Enter a number:5\n",
      "* * * * *  \n",
      "* * * *  \n",
      "* * *  \n",
      "* *  \n",
      "*  \n"
     ]
    }
   ],
   "source": [
    "n=int(input(\"Enter a number:\"))\n",
    "for i in range(1,n+1):\n",
    "    for j in range(1,n-i+2):\n",
    "        print(\"*\",end=\" \")\n",
    "    print(\" \")"
   ]
  },
  {
   "cell_type": "code",
   "execution_count": 92,
   "metadata": {},
   "outputs": [
    {
     "name": "stdout",
     "output_type": "stream",
     "text": [
      "Enter a number:5\n",
      "1 1 1 1 1  \n",
      "2 2 2 2  \n",
      "3 3 3  \n",
      "4 4  \n",
      "5  \n"
     ]
    }
   ],
   "source": [
    "n=int(input(\"Enter a number:\"))\n",
    "for i in range(1,n+1):\n",
    "    for j in range(1,n-i+2):\n",
    "        print(i,end=\" \")\n",
    "    print(\" \")"
   ]
  },
  {
   "cell_type": "code",
   "execution_count": 94,
   "metadata": {},
   "outputs": [
    {
     "name": "stdout",
     "output_type": "stream",
     "text": [
      "Enter a number:5\n",
      "1 2 3 4 5  \n",
      "1 2 3 4  \n",
      "1 2 3  \n",
      "1 2  \n",
      "1  \n"
     ]
    }
   ],
   "source": [
    "n=int(input(\"Enter a number:\"))\n",
    "for i in range(1,n+1):\n",
    "    for j in range(1,n-i+2):\n",
    "        print(j,end=\" \")\n",
    "    print(\" \")"
   ]
  },
  {
   "cell_type": "code",
   "execution_count": 101,
   "metadata": {},
   "outputs": [
    {
     "name": "stdout",
     "output_type": "stream",
     "text": [
      "Enter no of rows:5\n",
      "  * * * * * \n",
      "    * * * * \n",
      "      * * * \n",
      "        * * \n",
      "          * \n"
     ]
    }
   ],
   "source": [
    "n=int(input(\"Enter no of rows:\"))\n",
    "for i in range(1,n+1):\n",
    "    for j in range(1,i+1):\n",
    "        print(\" \",end=' ')\n",
    "    for k in range(i,n+1):\n",
    "        print(\"*\",end=' ')\n",
    "    print('')"
   ]
  },
  {
   "cell_type": "code",
   "execution_count": 102,
   "metadata": {},
   "outputs": [
    {
     "name": "stdout",
     "output_type": "stream",
     "text": [
      "Enter no of rows:5\n",
      " * * * * * \n",
      "  * * * * \n",
      "   * * * \n",
      "    * * \n",
      "     * \n"
     ]
    }
   ],
   "source": [
    "n=int(input(\"Enter no of rows:\"))\n",
    "for i in range(1,n+1):\n",
    "    for j in range(1,i+1):\n",
    "        print(\" \",end='')\n",
    "    for k in range(i,n+1):\n",
    "        print(\"*\",end=' ')\n",
    "    print('')"
   ]
  },
  {
   "cell_type": "code",
   "execution_count": 105,
   "metadata": {},
   "outputs": [
    {
     "name": "stdout",
     "output_type": "stream",
     "text": [
      "Enter no of rows:5\n",
      "  1 1 1 1 1 \n",
      "    2 2 2 2 \n",
      "      3 3 3 \n",
      "        4 4 \n",
      "          5 \n"
     ]
    }
   ],
   "source": [
    "n=int(input(\"Enter no of rows:\"))\n",
    "for i in range(1,n+1):\n",
    "    for j in range(1,i+1):\n",
    "        print(\" \",end=' ')\n",
    "    for k in range(i,n+1):\n",
    "        print(i,end=' ')\n",
    "    print('')"
   ]
  },
  {
   "cell_type": "code",
   "execution_count": 106,
   "metadata": {},
   "outputs": [
    {
     "name": "stdout",
     "output_type": "stream",
     "text": [
      "Enter no of rows:5\n",
      "  1 1 1 1 1 \n",
      "    2 2 2 2 \n",
      "      3 3 3 \n",
      "        4 4 \n",
      "          5 \n"
     ]
    }
   ],
   "source": [
    "n=int(input(\"Enter no of rows:\"))\n",
    "for i in range(1,n+1):\n",
    "    for j in range(1,i+1):\n",
    "        print(\" \",end=' ')\n",
    "    for k in range(i,n+1):\n",
    "        print(j,end=' ')\n",
    "    print('')"
   ]
  },
  {
   "cell_type": "code",
   "execution_count": 107,
   "metadata": {},
   "outputs": [
    {
     "name": "stdout",
     "output_type": "stream",
     "text": [
      "Enter no of rows:5\n",
      "  1 2 3 4 5 \n",
      "    2 3 4 5 \n",
      "      3 4 5 \n",
      "        4 5 \n",
      "          5 \n"
     ]
    }
   ],
   "source": [
    "n=int(input(\"Enter no of rows:\"))\n",
    "for i in range(1,n+1):\n",
    "    for j in range(1,i+1):\n",
    "        print(\" \",end=' ')\n",
    "    for k in range(i,n+1):\n",
    "        print(k,end=' ')\n",
    "    print('')"
   ]
  },
  {
   "cell_type": "code",
   "execution_count": 116,
   "metadata": {},
   "outputs": [
    {
     "name": "stdout",
     "output_type": "stream",
     "text": [
      "Enter no of rows:5\n",
      "     * \n",
      "    ** \n",
      "   *** \n",
      "  **** \n",
      " ***** \n"
     ]
    }
   ],
   "source": [
    "n=int(input(\"Enter no of rows:\"))\n",
    "for i in range(1,n+1):\n",
    "    for j in range(1,n+2-i):\n",
    "        print(\" \",end='')\n",
    "    for k in range(1,i+1):\n",
    "        print(\"*\",end='')\n",
    "    print(\" \")"
   ]
  },
  {
   "cell_type": "code",
   "execution_count": 118,
   "metadata": {},
   "outputs": [
    {
     "name": "stdout",
     "output_type": "stream",
     "text": [
      "Enter no of rows:5\n",
      "* * * * * \n",
      "* * * * \n",
      "* * * \n",
      "* * \n",
      "* \n"
     ]
    }
   ],
   "source": [
    "n=int(input(\"Enter no of rows:\"))\n",
    "for i in range(1,n+1):\n",
    "    for j in range(1,n-i+2):\n",
    "        print(\"*\",end=' ')\n",
    "    print(\"\")"
   ]
  }
 ],
 "metadata": {
  "kernelspec": {
   "display_name": "Python 3",
   "language": "python",
   "name": "python3"
  },
  "language_info": {
   "codemirror_mode": {
    "name": "ipython",
    "version": 3
   },
   "file_extension": ".py",
   "mimetype": "text/x-python",
   "name": "python",
   "nbconvert_exporter": "python",
   "pygments_lexer": "ipython3",
   "version": "3.8.5"
  }
 },
 "nbformat": 4,
 "nbformat_minor": 4
}
