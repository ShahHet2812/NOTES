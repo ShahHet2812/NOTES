{
 "cells": [
  {
   "cell_type": "markdown",
   "metadata": {},
   "source": [
    "## Chapter-2\n",
    "###Conditional Execution\n",
    "\n",
    "\n",
    "1)Simple if\n",
    "\n",
    "if condition:\n",
    "    statement\n",
    "    or\n",
    "    condition\n",
    "    St-1\n",
    "    St-2\n",
    "    St-3\n",
    "    \n",
    "    \n",
    "Example:name=input(\"Enter Name\")\n",
    "if name==\"Armaan\"\n",
    "    print(\"Hello Arman,Good Morning\")\n",
    "print(\"How are you!!!\")"
   ]
  },
  {
   "cell_type": "markdown",
   "metadata": {},
   "source": [
    "#### if-else condition\n",
    "2)if-else\n",
    "\n",
    "if condition\n",
    "    action-1\n",
    "else\n",
    "    action-2\n",
    "Example:name=input(\"Enter name\")\n",
    "if name==\"Arman\"\n",
    "    print(\"Hello Armaan\")\n",
    "else\n",
    "    print(\"Hello Guest\")\n",
    "print(\"How are You!!!\")"
   ]
  },
  {
   "cell_type": "markdown",
   "metadata": {},
   "source": [
    "3)if-elif-else condition\n",
    "if condition-1\n",
    "    Action-1\n",
    "elif condition-2\n",
    "    Action-2\n",
    "else\n",
    "    Default Action"
   ]
  },
  {
   "cell_type": "code",
   "execution_count": null,
   "metadata": {},
   "outputs": [],
   "source": [
    "a=int(input(\"Enter num-1 \"))\n",
    "b=int(input(\"Enter num-2 \"))\n",
    "c=int(input(\"Enter num-3 \"))\n",
    "if a>b and a>c:\n",
    "    print(a,\"is maximum\")\n",
    "elif b>c:\n",
    "    print(b,\"is maximum\")\n",
    "else:\n",
    "    print(c,\"is maximum\")"
   ]
  },
  {
   "cell_type": "markdown",
   "metadata": {},
   "source": [
    "#### Nested if\n",
    "x=41\n",
    "if x>10:\n",
    "    print(\"Above 10\")\n",
    "    if x>20:\n",
    "        print(\"And also above 20\")\n",
    "    else\n",
    "        print(\"But not above 20\")"
   ]
  },
  {
   "cell_type": "code",
   "execution_count": null,
   "metadata": {},
   "outputs": [],
   "source": [
    "x=int(input(\"Enter a number \"))\n",
    "if x>10:\n",
    "    print(\"Above 10\")\n",
    "    if x>20:\n",
    "        print(\"And also above 20\")\n",
    "    else:\n",
    "        print(\"But not above 20\")\n",
    "else:\n",
    "    print(\"Under 10\")"
   ]
  },
  {
   "cell_type": "markdown",
   "metadata": {},
   "source": [
    "### Iterative Statements\n",
    "1)for loop\n",
    "2)while loop\n",
    "\n",
    "#### for loop\n",
    "Syntax:\n",
    "\n",
    "for x in sequence:\n",
    "    body\n",
    "\n",
    "Example:\n",
    "s=\"Arman\"\n",
    "for i in s:\n",
    "    print(i)"
   ]
  },
  {
   "cell_type": "code",
   "execution_count": null,
   "metadata": {},
   "outputs": [],
   "source": [
    "s=[1,2,3,4,5]\n",
    "for i in s:\n",
    "    print(i,end=\"\")\n",
    "for i in range(5):\n",
    "    print(\"Hello\")"
   ]
  },
  {
   "cell_type": "code",
   "execution_count": null,
   "metadata": {},
   "outputs": [],
   "source": [
    "x=1\n",
    "while x<=5:\n",
    "    print(x)\n",
    "    x+=1"
   ]
  },
  {
   "cell_type": "markdown",
   "metadata": {},
   "source": [
    "### nested loops"
   ]
  },
  {
   "cell_type": "code",
   "execution_count": null,
   "metadata": {},
   "outputs": [],
   "source": [
    "for i in range(2):\n",
    "    for j in range(2):\n",
    "        print(i,j)"
   ]
  },
  {
   "cell_type": "markdown",
   "metadata": {},
   "source": [
    "#### break statement"
   ]
  },
  {
   "cell_type": "code",
   "execution_count": null,
   "metadata": {},
   "outputs": [],
   "source": [
    "for i in range(10):\n",
    "    if i==7:\n",
    "        print(\"Stop Here\")\n",
    "        break\n",
    "    print(i)"
   ]
  },
  {
   "cell_type": "markdown",
   "metadata": {},
   "source": [
    "#### continue statement"
   ]
  },
  {
   "cell_type": "code",
   "execution_count": null,
   "metadata": {},
   "outputs": [],
   "source": [
    "for i in range(10):\n",
    "    if i==7:\n",
    "        print(\"Stop Here\")\n",
    "        continue\n",
    "    print(i)"
   ]
  },
  {
   "cell_type": "code",
   "execution_count": null,
   "metadata": {},
   "outputs": [],
   "source": [
    "#### pass statement"
   ]
  },
  {
   "cell_type": "code",
   "execution_count": null,
   "metadata": {},
   "outputs": [],
   "source": [
    "for i in range(10):\n",
    "    if i==7:\n",
    "        print(\"Stop Here\")\n",
    "        pass\n",
    "    print(i)"
   ]
  },
  {
   "cell_type": "code",
   "execution_count": null,
   "metadata": {},
   "outputs": [],
   "source": [
    "if True:\n",
    "    pass"
   ]
  },
  {
   "cell_type": "code",
   "execution_count": null,
   "metadata": {},
   "outputs": [],
   "source": [
    "### WAPP  to find sum of n numbers\n",
    "\n",
    "a=int(input(\"Enter the number of numbers \"))\n",
    "sum=0\n",
    "for i in range(a):\n",
    "    sum+=i\n",
    "print(sum+a)"
   ]
  },
  {
   "cell_type": "code",
   "execution_count": null,
   "metadata": {},
   "outputs": [],
   "source": [
    "### WAPP whether given year is leap\n",
    "year=int(input(\"Enter a year \"))\n",
    "if year%4==0:\n",
    "    if year%100!=0:\n",
    "        print(\"It is leap\")\n",
    "elif year%400==0:\n",
    "    print(\"It is leap\")\n",
    "else:\n",
    "    print(\"It is not leap\")"
   ]
  },
  {
   "cell_type": "code",
   "execution_count": 3,
   "metadata": {},
   "outputs": [
    {
     "name": "stdout",
     "output_type": "stream",
     "text": [
      "Enter first Number 15\n",
      "Enter second Number 15\n",
      "Enter arithmatic operator%\n",
      "0.0\n"
     ]
    }
   ],
   "source": [
    "#### WAPP to perform arithmatic operation\n",
    "a=float(input(\"Enter first Number \"))\n",
    "b=float(input(\"Enter second Number \"))\n",
    "c=input(\"Enter arithmatic operator\")\n",
    "if c=='+':\n",
    "    print(a+b)\n",
    "elif c=='-':\n",
    "    print(a-b)\n",
    "elif c=='*':\n",
    "    print(a*b)\n",
    "elif c=='**':\n",
    "    print(a**b)\n",
    "elif c=='//':\n",
    "    print(a//b)\n",
    "elif c=='%':\n",
    "    print(a%b)\n",
    "elif c=='/':\n",
    "    if b==0:\n",
    "        print(\"Division not possible\")\n",
    "    else:\n",
    "        \n",
    "        print(a/b)"
   ]
  },
  {
   "cell_type": "code",
   "execution_count": null,
   "metadata": {},
   "outputs": [],
   "source": [
    "### WAPP to enter attendence of student in % and print bonus marks 15% if attendence is > 70%\n",
    "a=float(input(\"Enter attendence of student \"))\n",
    "bonusMarks=0\n",
    "if a>100:\n",
    "    print(\"Enter valid percentage\")\n",
    "else:\n",
    "    if a>=70:\n",
    "    bonusMarks=bonusMarks+(0.15*a)\n",
    "    print(bonusMarks)\n",
    "    else:\n",
    "    print (\"you are not elligible for bonus\")"
   ]
  },
  {
   "cell_type": "code",
   "execution_count": null,
   "metadata": {},
   "outputs": [],
   "source": [
    "### WAPP to enter 3 sub marks and calculate percent and display grade\n",
    "python=float(input(\"Enter python marks out of 100\"))\n",
    "java=float(input(\"Enter java marks out of 100\"))\n",
    "fsd=float(input(\"Enter fsd marks out of 100\"))\n",
    "perc=((java+python+fsd)*100)/300\n",
    "print(perc)\n",
    "if perc in range(80,101):\n",
    "    print(\"Distinction\")\n",
    "elif perc in range(60,80):\n",
    "    print(\"First\")\n",
    "elif perc in range(35,60):\n",
    "    print(\"Second\")\n",
    "else:\n",
    "    print(\"Fail\")"
   ]
  }
 ],
 "metadata": {
  "kernelspec": {
   "display_name": "Python 3",
   "language": "python",
   "name": "python3"
  },
  "language_info": {
   "codemirror_mode": {
    "name": "ipython",
    "version": 3
   },
   "file_extension": ".py",
   "mimetype": "text/x-python",
   "name": "python",
   "nbconvert_exporter": "python",
   "pygments_lexer": "ipython3",
   "version": "3.8.5"
  }
 },
 "nbformat": 4,
 "nbformat_minor": 4
}
