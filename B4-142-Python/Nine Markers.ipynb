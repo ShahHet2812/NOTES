{
 "cells": [
  {
   "cell_type": "code",
   "execution_count": null,
   "metadata": {},
   "outputs": [
    {
     "name": "stdout",
     "output_type": "stream",
     "text": [
      "Enter a number:28\n"
     ]
    }
   ],
   "source": [
    "a=int(input(\"Enter a number:\"))\n",
    "while a!=1 and a!=4:\n",
    "    sum=0\n",
    "    for i in str(a):\n",
    "        sum+=int(i)**2\n",
    "    a=sum\n",
    "if a==1:\n",
    "    print(\"It's a happy number!!!\")\n",
    "else:\n",
    "    print(\"Not a happy number:(\")"
   ]
  },
  {
   "cell_type": "code",
   "execution_count": 5,
   "metadata": {},
   "outputs": [
    {
     "name": "stdout",
     "output_type": "stream",
     "text": [
      "Enter a number:175\n",
      "175\n",
      "It is disarium number\n"
     ]
    }
   ],
   "source": [
    "###WAPP to check whether the given number is disarium number or not\n",
    "a=int(input(\"Enter a number:\"))\n",
    "l=0\n",
    "sum=0\n",
    "temp=a\n",
    "n1=a\n",
    "while a>0:\n",
    "    a//=10\n",
    "    l+=1\n",
    "for i in range(l,0,-1):\n",
    "    d=n1%10\n",
    "    sum+=(d**i)\n",
    "    n1//=10\n",
    "print(sum)\n",
    "if sum==temp:\n",
    "    print(\"It is disarium number\")\n",
    "else:\n",
    "    print(\"It is not a disrium\")"
   ]
  },
  {
   "cell_type": "code",
   "execution_count": 12,
   "metadata": {},
   "outputs": [
    {
     "name": "stdout",
     "output_type": "stream",
     "text": [
      "Enter your Grade:A\n",
      "Enter the City Tier:1\n",
      "Your Gross Pay is: 110100.0\n",
      "Your Salary per annum is: 1321200.0\n",
      "Your Salary After Tax: 1303400.0\n"
     ]
    }
   ],
   "source": [
    "'''Gross Pay,Annual Income and Income Tax Calculator\n",
    "Gross Pay=Basic Pay+HRA+DA+Other Allowance+Transport Allowance-Professional Tax-Provident Fund\n",
    "\n",
    "\n",
    "Grade Level     Basic Pay       Other Allowance\n",
    "     A            60000                8000\n",
    "     B            50000                7000\n",
    "     C            40000                6000\n",
    "     D            30000                5000\n",
    "     E            20000                4000\n",
    "     F            10000                3000\n",
    "     \n",
    "     \n",
    "Transport=900\n",
    "Professional Tax=200\n",
    "HRA:\n",
    "\n",
    "City-1:0.3 times of basic pay\n",
    "City-2:0.2 times of basic pay\n",
    "City-3:0.1 times of basic pay\n",
    "\n",
    "DA:0.5 times of basic pay\n",
    "\n",
    "PF:0.11 times of basic pay'''\n",
    "grade=input(\"Enter your Grade:\")\n",
    "city=int(input(\"Enter the City Tier:\"))\n",
    "ta=900\n",
    "pt=200\n",
    "if grade=='A':\n",
    "    bp=60000\n",
    "    oa=8000\n",
    "elif grade=='B':\n",
    "    bp=50000\n",
    "    oa=7000\n",
    "elif grade=='c':\n",
    "    bp=40000\n",
    "    oa=6000\n",
    "elif grade=='D':\n",
    "    bp=30000\n",
    "    oa=5000\n",
    "elif grade=='E':\n",
    "    bp=20000\n",
    "    oa=4000\n",
    "elif grade=='F':\n",
    "    bp=10000\n",
    "    oa=3000\n",
    "else:\n",
    "    print(\"Please Enter valid Grade\")\n",
    "da=0.5*bp\n",
    "pf=0.11*bp\n",
    "if city==1:\n",
    "    hra=0.3*bp\n",
    "elif city==2:\n",
    "    hra=0.2*bp\n",
    "elif city==3:\n",
    "    hra=0.1*bp\n",
    "else:\n",
    "    print(\"Please Enter valid city\")\n",
    "grossPay=(bp+hra+da+oa+ta)-pt-pf\n",
    "print(\"Your Gross Pay is:\",grossPay)\n",
    "perAnnum=grossPay*12\n",
    "print(\"Your Salary per annum is:\",perAnnum)\n",
    "if perAnnum<=250000:\n",
    "    it=0\n",
    "elif perAnnum>250000 and perAnnum<=500000:\n",
    "    it=0.05*(perAnnum-250000)\n",
    "elif perAnnum>500000 and perAnnum<=750000:\n",
    "    it=0.1*(perAnnum-500000)\n",
    "elif perAnnum>750000 and perAnnum<=1000000:\n",
    "    it=0.15*(perAnnum-750000)\n",
    "elif perAnnum>1000000 and perAnnum<=1250000:\n",
    "    it=0.2*(perAnnum-1000000)\n",
    "elif perAnnum>1250000 and perAnnum<=1500000:\n",
    "    it=0.25*(perAnnum-1250000)\n",
    "else:\n",
    "    it=0.3*(perAnnum-1500000)\n",
    "perAnnum=perAnnum-it\n",
    "print(\"Your Salary After Tax:\",perAnnum)"
   ]
  }
 ],
 "metadata": {
  "kernelspec": {
   "display_name": "Python 3",
   "language": "python",
   "name": "python3"
  },
  "language_info": {
   "codemirror_mode": {
    "name": "ipython",
    "version": 3
   },
   "file_extension": ".py",
   "mimetype": "text/x-python",
   "name": "python",
   "nbconvert_exporter": "python",
   "pygments_lexer": "ipython3",
   "version": "3.8.5"
  }
 },
 "nbformat": 4,
 "nbformat_minor": 4
}
