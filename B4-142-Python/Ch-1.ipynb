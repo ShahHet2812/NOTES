{
 "cells": [
  {
   "cell_type": "code",
   "execution_count": null,
   "metadata": {},
   "outputs": [],
   "source": [
    "a=5\n",
    "b=10\n",
    "c=a+b\n",
    "print(c)"
   ]
  },
  {
   "cell_type": "code",
   "execution_count": null,
   "metadata": {},
   "outputs": [],
   "source": [
    "print(bin(15))\n",
    "print(bin(0o11))\n",
    "print(bin(0x10))"
   ]
  },
  {
   "cell_type": "code",
   "execution_count": null,
   "metadata": {},
   "outputs": [],
   "source": [
    "#x=\"Arman\"\n",
    "#x[0]='B'\n",
    "#print(x)"
   ]
  },
  {
   "cell_type": "code",
   "execution_count": null,
   "metadata": {},
   "outputs": [],
   "source": [
    "x=1.5\n",
    "y=2367765\n",
    "z=-34567\n",
    "print(type(x))\n",
    "print(type(y))\n",
    "print(type(z))"
   ]
  },
  {
   "cell_type": "code",
   "execution_count": null,
   "metadata": {
    "scrolled": true
   },
   "outputs": [],
   "source": [
    "for i in  range(10):\n",
    "    pass\n",
    "print(i)"
   ]
  },
  {
   "cell_type": "code",
   "execution_count": null,
   "metadata": {},
   "outputs": [],
   "source": [
    "a={1,2,3,4,5,6,1}\n",
    "print(type(a))"
   ]
  },
  {
   "cell_type": "code",
   "execution_count": null,
   "metadata": {},
   "outputs": [],
   "source": [
    "a=0xABCD\n",
    "print(a)"
   ]
  },
  {
   "cell_type": "code",
   "execution_count": null,
   "metadata": {
    "scrolled": true
   },
   "outputs": [],
   "source": [
    "a=1521\n",
    "b=0b10110110\n",
    "print(oct(a))\n",
    "print(oct(b))\n",
    "print(hex(a))\n",
    "print(hex(b))"
   ]
  },
  {
   "cell_type": "code",
   "execution_count": null,
   "metadata": {},
   "outputs": [],
   "source": [
    "x=36e3\n",
    "y=2367.58\n",
    "z=-33.68\n",
    "print(x)\n",
    "print(type(y))\n",
    "print(type(z))"
   ]
  },
  {
   "cell_type": "code",
   "execution_count": null,
   "metadata": {},
   "outputs": [],
   "source": [
    "l=[1,2,3,4,5,1]\n",
    "print(l)\n",
    "print(l[0])\n",
    "l[0]=6\n",
    "print(l)"
   ]
  },
  {
   "cell_type": "code",
   "execution_count": null,
   "metadata": {},
   "outputs": [],
   "source": [
    "t=(1,2,3,4,5,1)\n",
    "print(t)\n",
    "print(t[0])\n",
    "# t[0]=6\n",
    "# print(t)"
   ]
  },
  {
   "cell_type": "code",
   "execution_count": null,
   "metadata": {},
   "outputs": [],
   "source": [
    "for i in range (1,10,2):\n",
    "    print(i)"
   ]
  },
  {
   "cell_type": "code",
   "execution_count": null,
   "metadata": {},
   "outputs": [],
   "source": [
    "d={20:\"Arman\",10:\"Aryan\",30:\"Dhairya\",10:\"John\"}\n",
    "print(d)\n",
    "print(d[10])\n",
    "print(d[20])\n",
    "print(d[30])"
   ]
  },
  {
   "cell_type": "code",
   "execution_count": null,
   "metadata": {},
   "outputs": [],
   "source": [
    "s={\"apple\",\"banana\",\"orange\",\"cherry\",\"apple\"}\n",
    "print(s)\n",
    "# print(s[0])#Error"
   ]
  },
  {
   "cell_type": "code",
   "execution_count": null,
   "metadata": {},
   "outputs": [],
   "source": [
    "x={1,2,2,3,3,3,4,5,6,6}\n",
    "print(x)"
   ]
  },
  {
   "cell_type": "code",
   "execution_count": null,
   "metadata": {},
   "outputs": [],
   "source": [
    "print(20>8)\n",
    "print(20==8)\n",
    "print(20<8)\n",
    "print(bool(\"abc\"))\n",
    "print(bool(\"\"))\n",
    "print(bool(123))\n",
    "print(bool(0))\n",
    "print(bool(1))"
   ]
  },
  {
   "cell_type": "code",
   "execution_count": null,
   "metadata": {},
   "outputs": [],
   "source": [
    "a,b,c=\"apple\",\"orange\",\"banana\"\n",
    "print(a)\n",
    "print(type(a))\n",
    "x=\"apple\",\"mango\",\"banana\"\n",
    "print(x)\n",
    "print(type(x))"
   ]
  },
  {
   "cell_type": "code",
   "execution_count": null,
   "metadata": {},
   "outputs": [],
   "source": [
    "a=\"Python\"\n",
    "def test():\n",
    "    a=\"java\"\n",
    "    print(a)\n",
    "test()\n",
    "print(a)"
   ]
  },
  {
   "cell_type": "code",
   "execution_count": null,
   "metadata": {},
   "outputs": [],
   "source": [
    "a=int(input(\"Enter a data for a\"))\n",
    "b=int(input(\"Enter a data for b\"))\n",
    "print(a+b)\n",
    "# print(type(a))"
   ]
  },
  {
   "cell_type": "code",
   "execution_count": null,
   "metadata": {},
   "outputs": [],
   "source": [
    "print(int(123.987))\n",
    "print(int(True))\n",
    "print(int(False))\n",
    "print(int(\"10\"))\n",
    "print(int(0b1111))\n",
    "#print(int(\"10.5\"))\n",
    "#print(int(\"ten\"))\n",
    "#print(int(\"0b1111\"))"
   ]
  },
  {
   "cell_type": "code",
   "execution_count": null,
   "metadata": {},
   "outputs": [],
   "source": [
    "print(float(10))\n",
    "print(float(True))\n",
    "print(float(False))\n",
    "print(float(\"10\"))\n",
    "print(float(\"10.5\"))\n",
    "# print(float(\"ten\"))\n",
    "# print(float(\"0b1111\"))"
   ]
  },
  {
   "cell_type": "code",
   "execution_count": null,
   "metadata": {},
   "outputs": [],
   "source": [
    "print(bool(0))\n",
    "print(bool(1))\n",
    "print(bool(0.1778))\n",
    "print(bool(0.0))\n",
    "print(bool(\"True\"))\n",
    "print(bool(\"False\"))\n",
    "print(bool(\"\"))"
   ]
  },
  {
   "cell_type": "code",
   "execution_count": null,
   "metadata": {},
   "outputs": [],
   "source": [
    "print(str(10))\n",
    "print(str(10.5))\n",
    "print(str(True))"
   ]
  },
  {
   "cell_type": "code",
   "execution_count": null,
   "metadata": {},
   "outputs": [],
   "source": [
    "a=[1,2,3,4,5]\n",
    "print(type(a))\n",
    "b=tuple(a)\n",
    "print(b)\n",
    "print(type(b))"
   ]
  },
  {
   "cell_type": "code",
   "execution_count": null,
   "metadata": {},
   "outputs": [],
   "source": [
    "s=1\n",
    "p='1'\n",
    "print(False>True)"
   ]
  },
  {
   "cell_type": "code",
   "execution_count": null,
   "metadata": {},
   "outputs": [],
   "source": [
    "base=float(input(\"Enter the base of the triangle \"))\n",
    "height=float(input(\"Enter the height of the triangle \"))\n",
    "area=0.5*base*height\n",
    "print(\"Area of your triangle is\",area)"
   ]
  },
  {
   "cell_type": "code",
   "execution_count": null,
   "metadata": {},
   "outputs": [],
   "source": [
    "import math\n",
    "radius=float(input(\"Enter the radius of circle \"))\n",
    "area=math.pi*(radius**2)\n",
    "print(\"Area of your circle is\",area)"
   ]
  },
  {
   "cell_type": "code",
   "execution_count": null,
   "metadata": {},
   "outputs": [],
   "source": [
    "a=int(input(\"Enter the value of 1st variable \"))\n",
    "b=int(input(\"Enter the value of 2nd variable \"))\n",
    "print(\"values before swapping a=\",a,\"b=\",b)\n",
    "c=a\n",
    "a=b\n",
    "b=c\n",
    "print(\"values after swapping a=\",a,\"b=\",b)"
   ]
  },
  {
   "cell_type": "code",
   "execution_count": null,
   "metadata": {},
   "outputs": [],
   "source": [
    "a=int(input(\"Enter the value of 1st variable \"))\n",
    "b=int(input(\"Enter the value of 2nd variable \"))\n",
    "print(\"values before swapping a=\",a,\"b=\",b)\n",
    "b=a+b\n",
    "a=b-a\n",
    "b=b-a\n",
    "print(\"values after swapping a=\",a,\"b=\",b)"
   ]
  },
  {
   "cell_type": "code",
   "execution_count": 1,
   "metadata": {},
   "outputs": [
    {
     "name": "stdout",
     "output_type": "stream",
     "text": [
      "Enter temp in farenheit22.9\n",
      "Temp in Celcius: -5.055555555555556\n"
     ]
    }
   ],
   "source": [
    "farenheit=float(input(\"Enter temp in farenheit\"))\n",
    "celcius=(farenheit-32)*(5/9)\n",
    "print(\"Temp in Celcius:\",celcius)"
   ]
  },
  {
   "cell_type": "code",
   "execution_count": 3,
   "metadata": {},
   "outputs": [
    {
     "name": "stdout",
     "output_type": "stream",
     "text": [
      "Enter temp in celcius27\n",
      "Temp in farenheit 80.6\n"
     ]
    }
   ],
   "source": [
    "celcius=float(input(\"Enter temp in celcius\"))\n",
    "farenheit=((9/5)*celcius)+32\n",
    "print(\"Temp in farenheit\",farenheit)"
   ]
  },
  {
   "cell_type": "code",
   "execution_count": 20,
   "metadata": {},
   "outputs": [
    {
     "name": "stdout",
     "output_type": "stream",
     "text": [
      "Enter the number of days 361\n",
      "0 Years 12 Months 1 Days\n"
     ]
    }
   ],
   "source": [
    "days=int(input(\"Enter the number of days \"))\n",
    "year=days//365\n",
    "days=days-(year*365)\n",
    "month=days//30\n",
    "days=days-(month*30)\n",
    "print(year,\"Years\",month,\"Months\",days,\"Days\")"
   ]
  },
  {
   "cell_type": "markdown",
   "metadata": {},
   "source": [
    "####WAP to cheeck the given number is positive or negative using conditional operator"
   ]
  },
  {
   "cell_type": "code",
   "execution_count": 30,
   "metadata": {},
   "outputs": [
    {
     "name": "stdout",
     "output_type": "stream",
     "text": [
      "Enter a number 55\n",
      "It is positive \n"
     ]
    }
   ],
   "source": [
    "num=int(input(\"Enter a number \"))\n",
    "x=\"It is positive \" if num>=0 else \"It is negative\"\n",
    "print(x)"
   ]
  },
  {
   "cell_type": "code",
   "execution_count": 34,
   "metadata": {},
   "outputs": [
    {
     "name": "stdout",
     "output_type": "stream",
     "text": [
      "Enter a number 55\n",
      "It is odd\n"
     ]
    }
   ],
   "source": [
    "num=int(input(\"Enter a number \"))\n",
    "x=\"It is even \" if num%2==0 else \"It is odd\"\n",
    "print(x)"
   ]
  },
  {
   "cell_type": "code",
   "execution_count": 35,
   "metadata": {},
   "outputs": [],
   "source": [
    "### WAP to find number of currency notes against a given amount"
   ]
  },
  {
   "cell_type": "code",
   "execution_count": 39,
   "metadata": {},
   "outputs": [
    {
     "name": "stdout",
     "output_type": "stream",
     "text": [
      "Enter the money value18001\n",
      "2000: 9 500: 0 200: 0 100 0 50: 0 20: 0 10 0\n"
     ]
    }
   ],
   "source": [
    "money=int(input(\"Enter the money value\"))\n",
    "n2000=money//2000\n",
    "money=money-(n2000*2000)\n",
    "n500=money//500\n",
    "money=money-(n500*500)\n",
    "n200=money//200\n",
    "money=money-(n200*200)\n",
    "n100=money//100\n",
    "money=money-(n100*100)\n",
    "n50=money//50\n",
    "money=money-(n50*50)\n",
    "n20=money//20\n",
    "money=money-(n20*20)\n",
    "n10=money//10\n",
    "money=money-(n10*10)\n",
    "n5=money//5\n",
    "money=money-(n5*5)\n",
    "n2=money//2\n",
    "money=money-(n2*2)\n",
    "print(\"2000:\",n2000,\"500:\",n500,\"200:\",n200,\"100:\",n100,\"50:\",n50,\"20:\",n20,\"10:\",n10,\"5:\",n5,\"2:\",)"
   ]
  }
 ],
 "metadata": {
  "kernelspec": {
   "display_name": "Python 3",
   "language": "python",
   "name": "python3"
  },
  "language_info": {
   "codemirror_mode": {
    "name": "ipython",
    "version": 3
   },
   "file_extension": ".py",
   "mimetype": "text/x-python",
   "name": "python",
   "nbconvert_exporter": "python",
   "pygments_lexer": "ipython3",
   "version": "3.8.5"
  }
 },
 "nbformat": 4,
 "nbformat_minor": 4
}
