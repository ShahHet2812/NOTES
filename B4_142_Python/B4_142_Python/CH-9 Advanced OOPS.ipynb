{
 "cells": [
  {
   "cell_type": "markdown",
   "metadata": {},
   "source": [
    "# Advanced OOPS\n",
    "- Polymorphism: Poly-->Many ::: morphs-->forms\n",
    "- Inheritance\n",
    "## Overloading : CompileTime Polymorphism (Not possible in python)\n",
    "- It occurs in same class\n",
    "- Methods must have the same name and different parameters\n",
    "- can be achieved by Default argument , **kwargs, *args in python\n",
    "## Overridding : Runtime Polymorshism\n",
    "- It occurs in two classes via inheritance\n",
    "- methods must have same name and same parameters\n",
    "- python suports method overriding"
   ]
  },
  {
   "cell_type": "markdown",
   "metadata": {},
   "source": [
    "### Method Overloading, Examples"
   ]
  },
  {
   "cell_type": "code",
   "execution_count": 1,
   "metadata": {},
   "outputs": [
    {
     "ename": "TypeError",
     "evalue": "area() missing 1 required positional argument: 'b'",
     "output_type": "error",
     "traceback": [
      "\u001b[1;31m---------------------------------------------------------------------------\u001b[0m",
      "\u001b[1;31mTypeError\u001b[0m                                 Traceback (most recent call last)",
      "\u001b[1;32m<ipython-input-1-e08009968f16>\u001b[0m in \u001b[0;36m<module>\u001b[1;34m\u001b[0m\n\u001b[0;32m      6\u001b[0m \u001b[1;33m\u001b[0m\u001b[0m\n\u001b[0;32m      7\u001b[0m \u001b[0ms\u001b[0m \u001b[1;33m=\u001b[0m \u001b[0mshape\u001b[0m\u001b[1;33m(\u001b[0m\u001b[1;33m)\u001b[0m\u001b[1;33m\u001b[0m\u001b[1;33m\u001b[0m\u001b[0m\n\u001b[1;32m----> 8\u001b[1;33m \u001b[0mprint\u001b[0m\u001b[1;33m(\u001b[0m\u001b[0ms\u001b[0m\u001b[1;33m.\u001b[0m\u001b[0marea\u001b[0m\u001b[1;33m(\u001b[0m\u001b[1;36m2\u001b[0m\u001b[1;33m)\u001b[0m\u001b[1;33m)\u001b[0m\u001b[1;33m\u001b[0m\u001b[1;33m\u001b[0m\u001b[0m\n\u001b[0m\u001b[0;32m      9\u001b[0m \u001b[0mprint\u001b[0m\u001b[1;33m(\u001b[0m\u001b[0ms\u001b[0m\u001b[1;33m.\u001b[0m\u001b[0marea\u001b[0m\u001b[1;33m(\u001b[0m\u001b[1;36m3\u001b[0m\u001b[1;33m,\u001b[0m\u001b[1;36m4\u001b[0m\u001b[1;33m)\u001b[0m\u001b[1;33m)\u001b[0m\u001b[1;33m\u001b[0m\u001b[1;33m\u001b[0m\u001b[0m\n",
      "\u001b[1;31mTypeError\u001b[0m: area() missing 1 required positional argument: 'b'"
     ]
    }
   ],
   "source": [
    "class shape:\n",
    "    def area(self,a):\n",
    "        return 3.14*a*a\n",
    "    def area(self,a,b):\n",
    "        return a*b\n",
    "\n",
    "s = shape()\n",
    "print(s.area(2))\n",
    "print(s.area(3,4))"
   ]
  },
  {
   "cell_type": "code",
   "execution_count": 2,
   "metadata": {},
   "outputs": [
    {
     "name": "stdout",
     "output_type": "stream",
     "text": [
      "12\n"
     ]
    },
    {
     "ename": "TypeError",
     "evalue": "area() missing 1 required positional argument: 'b'",
     "output_type": "error",
     "traceback": [
      "\u001b[1;31m---------------------------------------------------------------------------\u001b[0m",
      "\u001b[1;31mTypeError\u001b[0m                                 Traceback (most recent call last)",
      "\u001b[1;32m<ipython-input-2-62cd70c20f34>\u001b[0m in \u001b[0;36m<module>\u001b[1;34m\u001b[0m\n\u001b[0;32m      7\u001b[0m \u001b[0ms\u001b[0m \u001b[1;33m=\u001b[0m \u001b[0mshape\u001b[0m\u001b[1;33m(\u001b[0m\u001b[1;33m)\u001b[0m\u001b[1;33m\u001b[0m\u001b[1;33m\u001b[0m\u001b[0m\n\u001b[0;32m      8\u001b[0m \u001b[0mprint\u001b[0m\u001b[1;33m(\u001b[0m\u001b[0ms\u001b[0m\u001b[1;33m.\u001b[0m\u001b[0marea\u001b[0m\u001b[1;33m(\u001b[0m\u001b[1;36m3\u001b[0m\u001b[1;33m,\u001b[0m\u001b[1;36m4\u001b[0m\u001b[1;33m)\u001b[0m\u001b[1;33m)\u001b[0m\u001b[1;33m\u001b[0m\u001b[1;33m\u001b[0m\u001b[0m\n\u001b[1;32m----> 9\u001b[1;33m \u001b[0mprint\u001b[0m\u001b[1;33m(\u001b[0m\u001b[0ms\u001b[0m\u001b[1;33m.\u001b[0m\u001b[0marea\u001b[0m\u001b[1;33m(\u001b[0m\u001b[1;36m2\u001b[0m\u001b[1;33m)\u001b[0m\u001b[1;33m)\u001b[0m\u001b[1;33m\u001b[0m\u001b[1;33m\u001b[0m\u001b[0m\n\u001b[0m",
      "\u001b[1;31mTypeError\u001b[0m: area() missing 1 required positional argument: 'b'"
     ]
    }
   ],
   "source": [
    "class shape:\n",
    "    def area(self,a):\n",
    "        return 3.14*a*a\n",
    "    def area(self,a,b):\n",
    "        return a*b\n",
    "\n",
    "s = shape()\n",
    "print(s.area(3,4))\n",
    "print(s.area(2))\n"
   ]
  },
  {
   "cell_type": "code",
   "execution_count": 5,
   "metadata": {},
   "outputs": [
    {
     "name": "stdout",
     "output_type": "stream",
     "text": [
      "12\n"
     ]
    }
   ],
   "source": [
    "class shape:\n",
    "    def area(self,a):\n",
    "        return 3.14*a*a\n",
    "    def area(self,a,b):\n",
    "        return a*b\n",
    "\n",
    "s = shape()\n",
    "print(s.area(3,4))\n",
    "# print(s.area(2))"
   ]
  },
  {
   "cell_type": "markdown",
   "metadata": {},
   "source": [
    "### Method Overidding, Examples"
   ]
  },
  {
   "cell_type": "code",
   "execution_count": 12,
   "metadata": {},
   "outputs": [
    {
     "name": "stdout",
     "output_type": "stream",
     "text": [
      "Addition : 30\n",
      "Multiplication : 200\n"
     ]
    }
   ],
   "source": [
    " class Add:\n",
    "        def result(self,a,b):\n",
    "            print(f\"Addition : {a+b}\")\n",
    "\n",
    "class Multi(Add):\n",
    "    def result(self,a,b):\n",
    "        print(f\"Multiplication : {a*b}\")\n",
    "        \n",
    "m = Add()\n",
    "m.result(10,20)\n",
    "        \n",
    "a = Multi()\n",
    "a.result(10,20)\n",
    "\n"
   ]
  },
  {
   "cell_type": "code",
   "execution_count": 11,
   "metadata": {},
   "outputs": [
    {
     "name": "stdout",
     "output_type": "stream",
     "text": [
      "Addition : 30\n",
      "Multiplication : 200\n"
     ]
    }
   ],
   "source": [
    " class Add:\n",
    "        def result(self,a,b):\n",
    "            print(f\"Addition : {a+b}\")\n",
    "\n",
    "class Multi(Add):\n",
    "    def result(self,a,b):\n",
    "        super().result(10,20)\n",
    "        print(f\"Multiplication : {a*b}\")\n",
    "        \n",
    "a = Multi()\n",
    "a.result(10,20)\n",
    "\n",
    "# m = Add()\n",
    "# m.result(10,20)"
   ]
  },
  {
   "cell_type": "code",
   "execution_count": 17,
   "metadata": {},
   "outputs": [
    {
     "name": "stdout",
     "output_type": "stream",
     "text": [
      "First function of class A\n",
      "First function of class B\n",
      "_____________________\n",
      "Second function of class A\n",
      "Second function of class A\n",
      "_____________________\n",
      "Display function of child class A\n"
     ]
    },
    {
     "ename": "AttributeError",
     "evalue": "'A' object has no attribute 'display'",
     "output_type": "error",
     "traceback": [
      "\u001b[1;31m---------------------------------------------------------------------------\u001b[0m",
      "\u001b[1;31mAttributeError\u001b[0m                            Traceback (most recent call last)",
      "\u001b[1;32m<ipython-input-17-2c14935fac86>\u001b[0m in \u001b[0;36m<module>\u001b[1;34m\u001b[0m\n\u001b[0;32m     25\u001b[0m \u001b[1;33m\u001b[0m\u001b[0m\n\u001b[0;32m     26\u001b[0m \u001b[0mobj2\u001b[0m\u001b[1;33m.\u001b[0m\u001b[0mdisplay\u001b[0m\u001b[1;33m(\u001b[0m\u001b[1;33m)\u001b[0m\u001b[1;33m\u001b[0m\u001b[1;33m\u001b[0m\u001b[0m\n\u001b[1;32m---> 27\u001b[1;33m \u001b[0mobj1\u001b[0m\u001b[1;33m.\u001b[0m\u001b[0mdisplay\u001b[0m\u001b[1;33m(\u001b[0m\u001b[1;33m)\u001b[0m\u001b[1;33m\u001b[0m\u001b[1;33m\u001b[0m\u001b[0m\n\u001b[0m",
      "\u001b[1;31mAttributeError\u001b[0m: 'A' object has no attribute 'display'"
     ]
    }
   ],
   "source": [
    "class A:\n",
    "    def first(self):\n",
    "        print(\"First function of class A\")\n",
    "    \n",
    "    def second(self):\n",
    "        print(\"Second function of class A\")\n",
    "\n",
    "class B(A):\n",
    "    def first(self):\n",
    "        print(\"First function of class B\")\n",
    "    \n",
    "    def display(self):\n",
    "        print(\"Display function of child class A\")\n",
    "    \n",
    "obj1 = A()\n",
    "obj2 = B()\n",
    "\n",
    "obj1.first()\n",
    "obj2.first()\n",
    "print(\"_____________________\")\n",
    "\n",
    "obj1.second()\n",
    "obj2.second()\n",
    "print(\"_____________________\")\n",
    "\n",
    "obj2.display()\n",
    "obj1.display()\n"
   ]
  },
  {
   "cell_type": "markdown",
   "metadata": {},
   "source": [
    "# Operator Overloading\n",
    "- giving extended meaning beyond their predefined meaning :\n",
    "- Add two Strings\n",
    "- Join two Strings\n",
    "- Merge two lists\n"
   ]
  },
  {
   "cell_type": "code",
   "execution_count": 22,
   "metadata": {},
   "outputs": [
    {
     "name": "stdout",
     "output_type": "stream",
     "text": [
      "300\n"
     ]
    }
   ],
   "source": [
    "class A:\n",
    "    def __init__(self,x):\n",
    "        self.x=x\n",
    "    def __add__(self,other):\n",
    "        return self.x+other.x\n",
    "    \n",
    "\n",
    "class B:\n",
    "    def __init__(self,x):\n",
    "        self.x = x\n",
    "\n",
    "a = A(100)\n",
    "b = B(200)\n",
    "print(a+b)"
   ]
  },
  {
   "cell_type": "code",
   "execution_count": 26,
   "metadata": {},
   "outputs": [
    {
     "name": "stdout",
     "output_type": "stream",
     "text": [
      "3\n",
      "HelloHi\n",
      "_____________________\n",
      "3\n",
      "HelloHi\n",
      "_____________________\n",
      "3\n",
      "HelloHi\n"
     ]
    }
   ],
   "source": [
    "class A:\n",
    "    def __init__(self,x):\n",
    "        self.x=x\n",
    "    def __add__(self,other):\n",
    "        return self.x+other.x\n",
    "\n",
    "obj1 = A(1)\n",
    "obj2 = A(2)\n",
    "\n",
    "obj3 = A(\"Hello\")\n",
    "obj4 = A(\"Hi\")\n",
    "\n",
    "print(obj1+obj2)\n",
    "print(obj3+obj4)\n",
    "print(\"_____________________\")\n",
    "\n",
    "\n",
    "print(A.__add__(obj1,obj2))\n",
    "print(A.__add__(obj3,obj4))\n",
    "print(\"_____________________\")\n",
    "\n",
    "print(obj1.__add__(obj2))\n",
    "print(obj3.__add__(obj4))\n"
   ]
  },
  {
   "cell_type": "code",
   "execution_count": 31,
   "metadata": {},
   "outputs": [
    {
     "name": "stdout",
     "output_type": "stream",
     "text": [
      "False\n",
      "True\n",
      "_____________________\n",
      "obj2 is GREATER than obj1\n"
     ]
    }
   ],
   "source": [
    "class A:\n",
    "    def __init__(self,a):\n",
    "        self.a = a\n",
    "    def __gt__(self,other):\n",
    "        if self.a > other.a:\n",
    "            return True\n",
    "        else:\n",
    "            return False\n",
    "        \n",
    "obj1 = A(2)\n",
    "obj2 = A(3)\n",
    "\n",
    "print(obj1>obj2)\n",
    "print(obj2>obj1)\n",
    "print(\"_____________________\")\n",
    "\n",
    "if obj1 > obj2 :\n",
    "    print(\"obj1 is GREATER than obj2\")\n",
    "else:\n",
    "    print(\"obj2 is GREATER than obj1\")"
   ]
  },
  {
   "cell_type": "markdown",
   "metadata": {},
   "source": [
    "# Operator Overloading\n",
    "    +\t__add__(self, other)\tDefines behavior for addition (a + b)\n",
    "    -\t__sub__(self, other)\tDefines behavior for subtraction (a - b)\n",
    "    *\t__mul__(self, other)\tDefines behavior for multiplication (a * b)\n",
    "    /\t__truediv__(self, other)\tDefines behavior for division (a / b)\n",
    "    //\t__floordiv__(self, other)\tDefines behavior for floor division (a // b)\n",
    "    %\t__mod__(self, other)\tDefines behavior for modulo (a % b)\n",
    "    **\t__pow__(self, other)\tDefines behavior for exponentiation (a ** b)\n",
    "    <<\t__lshift__(self, other)\tDefines behavior for left shift (a << b)\n",
    "    >>\t__rshift__(self, other)\tDefines behavior for right shift (a >> b)\n",
    "    &\t__and__(self, other)\tDefines behavior for bitwise AND (a & b)\n",
    "    `\t`\t__or__(self, other)\n",
    "    ^\t__xor__(self, other)\tDefines behavior for bitwise XOR (a ^ b)\n",
    "    ~\t__invert__(self)\tDefines behavior for bitwise NOT (~a)- || "
   ]
  },
  {
   "cell_type": "markdown",
   "metadata": {},
   "source": [
    "# Comparison Operator\n",
    "    ==\t__eq__(self, other)\tDefines behavior for equality (a == b)\n",
    "    !=\t__ne__(self, other)\tDefines behavior for inequality (a != b)\n",
    "    <\t__lt__(self, other)\tDefines behavior for less than (a < b)\n",
    "    <=\t__le__(self, other)\tDefines behavior for less than or equal (a <= b)\n",
    "    >\t__gt__(self, other)\tDefines behavior for greater than (a > b)\n",
    "    >=\t__ge__(self, other)\tDefines behavior for greater than or equal (a >= b)"
   ]
  },
  {
   "cell_type": "code",
   "execution_count": null,
   "metadata": {},
   "outputs": [],
   "source": [
    "class A:\n",
    "    def __init__(self, a):\n",
    "        self.a = a\n",
    "    \n",
    "    # Overloading the '+' operator (addition for both numbers and strings)\n",
    "    def __add__(self, other):\n",
    "        return self.a + other.a\n",
    "    \n",
    "    # Overloading the '-' operator (subtraction for numbers)\n",
    "    def __sub__(self, other):\n",
    "        return self.a - other.a\n",
    "    \n",
    "    # Overloading the '*' operator (multiplication for numbers)\n",
    "    def __mul__(self, other):\n",
    "        return self.a * other.a\n",
    "    \n",
    "    # Overloading the '>' operator (greater than comparison)\n",
    "    def __gt__(self, other):\n",
    "        return self.a > other.a\n",
    "    \n",
    "    # Overloading the '<' operator (less than comparison)\n",
    "    def __lt__(self, other):\n",
    "        return self.a < other.a\n",
    "    \n",
    "    # Overloading the '==' operator (equal comparison)\n",
    "    def __eq__(self, other):\n",
    "        return self.a == other.a\n",
    "\n",
    "# Create objects with numeric values\n",
    "obj1 = A(10)\n",
    "obj2 = A(5)\n",
    "\n",
    "# Create objects with string values\n",
    "obj3 = A(\"Hello\")\n",
    "obj4 = A(\"World\")\n",
    "\n",
    "# Demonstrating mathematical operations\n",
    "print(obj1 + obj2)  # Output: 15 (10 + 5)\n",
    "print(obj1 - obj2)  # Output: 5  (10 - 5)\n",
    "print(obj1 * obj2)  # Output: 50 (10 * 5)\n",
    "\n",
    "# Demonstrating comparison operations\n",
    "print(obj1 > obj2)  # Output: True (10 > 5)\n",
    "print(obj1 < obj2)  # Output: False (10 < 5)\n",
    "print(obj1 == obj2) # Output: False (10 == 5)\n",
    "\n",
    "# Demonstrating string operations\n",
    "print(obj3 + obj4)  # Output: HelloWorld (\"Hello\" + \"World\")\n",
    "print(obj3 == obj4) # Output: False (\"Hello\" == \"World\")\n"
   ]
  },
  {
   "cell_type": "markdown",
   "metadata": {},
   "source": [
    "# Inheritance \n",
    "- Ability to inherit features or attributes from already written class into newer classes we make\n",
    "- These features and attributes  are defined data structures and the functions(methods) we can perform with them \n",
    "- It promotes code reuseability\n",
    "- It makes code base modular"
   ]
  },
  {
   "cell_type": "markdown",
   "metadata": {},
   "source": [
    "# Single Inheritance"
   ]
  },
  {
   "cell_type": "code",
   "execution_count": 38,
   "metadata": {},
   "outputs": [
    {
     "name": "stdout",
     "output_type": "stream",
     "text": [
      "Hello Parent\n",
      "Hello child\n"
     ]
    }
   ],
   "source": [
    "class Parent:\n",
    "    def func1(self):\n",
    "        print(\"Hello Parent\")\n",
    "        \n",
    "class child(Parent):\n",
    "    def func2(self):\n",
    "        print(\"Hello child\")\n",
    "test = child()\n",
    "\n",
    "test.func1()\n",
    "test.func2()\n"
   ]
  },
  {
   "cell_type": "code",
   "execution_count": 39,
   "metadata": {},
   "outputs": [
    {
     "name": "stdout",
     "output_type": "stream",
     "text": [
      "Hello child\n",
      "Hello Parent\n"
     ]
    }
   ],
   "source": [
    "class Parent:\n",
    "    def func1(self):\n",
    "        print(\"Hello Parent\")\n",
    "        \n",
    "class child(Parent):\n",
    "    def func2(self):\n",
    "        # Here super will also works in second line of the function\n",
    "        print(\"Hello child\")\n",
    "        super().func1()\n",
    "test = child()\n",
    "test.func2()\n",
    "\n",
    "# test.func1()\n"
   ]
  },
  {
   "cell_type": "markdown",
   "metadata": {},
   "source": [
    "# Multiple Inheritance"
   ]
  },
  {
   "cell_type": "code",
   "execution_count": 42,
   "metadata": {},
   "outputs": [
    {
     "name": "stdout",
     "output_type": "stream",
     "text": [
      "Hello Parent1\n",
      "Hello Parent2\n",
      "Hello Child\n",
      "_____________________\n",
      "(<class '__main__.child'>, <class '__main__.Parent1'>, <class '__main__.Parent2'>, <class '__main__.Parent3'>, <class 'object'>)\n"
     ]
    }
   ],
   "source": [
    "class Parent1:\n",
    "    def func1(self):\n",
    "        print(\"Hello Parent1\")\n",
    "\n",
    "class Parent2:\n",
    "    def func2(self):\n",
    "        print(\"Hello Parent2\")\n",
    "\n",
    "class Parent3:\n",
    "    def func2(self):\n",
    "        print(\"Hello Parent3\")\n",
    "        \n",
    "class child(Parent1,Parent2,Parent3):\n",
    "    def func3(self):\n",
    "        print(\"Hello Child\")\n",
    "\n",
    "test = child()\n",
    "test.func1()\n",
    "test.func2()\n",
    "test.func3()\n",
    "print(\"_____________________\")\n",
    "\n",
    "print(child.__mro__)"
   ]
  },
  {
   "cell_type": "markdown",
   "metadata": {},
   "source": [
    "# Multilevel Inheritance"
   ]
  },
  {
   "cell_type": "code",
   "execution_count": 43,
   "metadata": {},
   "outputs": [
    {
     "name": "stdout",
     "output_type": "stream",
     "text": [
      "Hello GrandPArent Class\n",
      "Hello parent\n",
      "Hello Child\n",
      "_____________________\n",
      "(<class '__main__.child'>, <class '__main__.Parent'>, <class '__main__.grandparent'>, <class 'object'>)\n"
     ]
    }
   ],
   "source": [
    "class grandparent:\n",
    "    def func1(self):\n",
    "        print(\"Hello GrandPArent Class\")\n",
    "class Parent(grandparent):\n",
    "    def func2(self):\n",
    "        print('Hello parent')\n",
    "class child(Parent):\n",
    "    def func3(self):\n",
    "        print(\"Hello Child\")\n",
    "\n",
    "test = child()\n",
    "test.func1()\n",
    "test.func2()\n",
    "test.func3()\n",
    "\n",
    "print(\"_____________________\")\n",
    "print(child.__mro__)"
   ]
  },
  {
   "cell_type": "markdown",
   "metadata": {},
   "source": [
    "# Hierarchical Inheritance"
   ]
  },
  {
   "cell_type": "code",
   "execution_count": 13,
   "metadata": {},
   "outputs": [
    {
     "name": "stdout",
     "output_type": "stream",
     "text": [
      "Hello Parent\n",
      "_____________________\n",
      "Hello Parent\n",
      "Hello Child1\n",
      "_____________________\n",
      "Hello Parent\n",
      "Hello Child2\n",
      "_____________________\n",
      "(<class '__main__.Parent'>, <class 'object'>)\n",
      "(<class '__main__.child1'>, <class '__main__.Parent'>, <class 'object'>)\n",
      "(<class '__main__.child2'>, <class '__main__.Parent'>, <class 'object'>)\n"
     ]
    }
   ],
   "source": [
    "class Parent:\n",
    "    def func1(self):\n",
    "        print(\"Hello Parent\")\n",
    "        \n",
    "class child1(Parent):\n",
    "    def func2(self):\n",
    "        print(\"Hello Child1\")\n",
    "\n",
    "class child2(Parent):\n",
    "    def func3(self):\n",
    "        print(\"Hello Child2\")\n",
    "\n",
    "obj1 = Parent()\n",
    "obj1.func1()\n",
    "# obj1.func2()\n",
    "# obj1.func3()\n",
    "print(\"_____________________\")\n",
    "\n",
    "\n",
    "obj2 = child1()\n",
    "obj2.func1()\n",
    "obj2.func2()\n",
    "# obj3.func3()\n",
    "print(\"_____________________\")\n",
    "\n",
    "\n",
    "obj3 = child2()\n",
    "obj3.func1()\n",
    "# obj3.func2()\n",
    "obj3.func3()\n",
    "print(\"_____________________\")\n",
    "\n",
    "print(Parent.__mro__)\n",
    "print(child1.__mro__)\n",
    "print(child2.__mro__)\n",
    "\n",
    "    "
   ]
  },
  {
   "cell_type": "markdown",
   "metadata": {},
   "source": [
    "# Hybrid Inheritance"
   ]
  },
  {
   "cell_type": "code",
   "execution_count": 16,
   "metadata": {},
   "outputs": [
    {
     "name": "stdout",
     "output_type": "stream",
     "text": [
      "Hello Parent1\n",
      "_____________________\n",
      "Hello Parent1\n",
      "Hello Parent2\n",
      "Hello Child1\n",
      "Hello Child2\n",
      "_____________________\n",
      "(<class '__main__.child1'>, <class '__main__.Parent1'>, <class 'object'>)\n",
      "(<class '__main__.child2'>, <class '__main__.child1'>, <class '__main__.Parent1'>, <class '__main__.Parent2'>, <class 'object'>)\n",
      "_____________________\n",
      "[<class '__main__.Parent1'>, <class 'object'>]\n"
     ]
    }
   ],
   "source": [
    "class Parent1:\n",
    "    def func1(self):\n",
    "        print(\"Hello Parent1\")\n",
    "class Parent2:\n",
    "    def func2(self):\n",
    "        print(\"Hello Parent2\")\n",
    "        \n",
    "class child1(Parent1):\n",
    "    def func3(self):\n",
    "        print(\"Hello Child1\")\n",
    "class child2(child1,Parent2):\n",
    "    def func4(self):\n",
    "        print(\"Hello Child2\")\n",
    "\n",
    "test1 = child1()\n",
    "test2 = child2()\n",
    "\n",
    "test1.func1()\n",
    "# test1.func2()\n",
    "print(\"_____________________\")\n",
    "test2.func1()\n",
    "test2.func2()\n",
    "test2.func3()\n",
    "test2.func4()\n",
    "print(\"_____________________\")\n",
    "\n",
    "print(child1.__mro__)\n",
    "print(child2.__mro__)\n",
    "print(\"_____________________\")\n",
    "print(Parent1.mro())\n"
   ]
  },
  {
   "cell_type": "markdown",
   "metadata": {},
   "source": [
    "# Super Function"
   ]
  },
  {
   "cell_type": "code",
   "execution_count": 15,
   "metadata": {},
   "outputs": [
    {
     "name": "stdout",
     "output_type": "stream",
     "text": [
      "50\n"
     ]
    }
   ],
   "source": [
    "class parent:\n",
    "    def __init__(self):\n",
    "        self.attr1 = 50\n",
    "        self.attr2 = 65\n",
    "\n",
    "class child(parent):\n",
    "    def __init__(self):\n",
    "        parent.__init__(self)\n",
    "        self.attr3 = 45\n",
    "        \n",
    "test = child()\n",
    "print(test.attr1)"
   ]
  },
  {
   "cell_type": "code",
   "execution_count": 12,
   "metadata": {},
   "outputs": [
    {
     "name": "stdout",
     "output_type": "stream",
     "text": [
      "50\n"
     ]
    }
   ],
   "source": [
    "class parent:\n",
    "    def __init__(self):\n",
    "        self.attr1 = 50\n",
    "        self.attr2 = 65\n",
    "\n",
    "class child(parent):\n",
    "    def __init__(self):\n",
    "#         parent.__init__(self)\n",
    "        self.attr3 = 45\n",
    "        super().__init__()\n",
    "        \n",
    "        \n",
    "        \n",
    "test = child()\n",
    "print(test.attr1)"
   ]
  },
  {
   "cell_type": "code",
   "execution_count": 3,
   "metadata": {},
   "outputs": [
    {
     "name": "stdout",
     "output_type": "stream",
     "text": [
      "50\n"
     ]
    }
   ],
   "source": [
    "class parent:\n",
    "    def __init__(self):\n",
    "        self.attr1 = 50\n",
    "        self.attr2 = 65\n",
    "\n",
    "class child():\n",
    "    def __init__(self):\n",
    "        parent.__init__(self)\n",
    "        self.attr3 = 45\n",
    "        \n",
    "test = child()\n",
    "print(test.attr1)"
   ]
  },
  {
   "cell_type": "markdown",
   "metadata": {},
   "source": [
    "# issubclass(child,parent)\n",
    "# isinstance(parent,child)\n"
   ]
  },
  {
   "cell_type": "code",
   "execution_count": 7,
   "metadata": {},
   "outputs": [
    {
     "name": "stdout",
     "output_type": "stream",
     "text": [
      "True\n",
      "False\n",
      "False\n",
      "True\n",
      "False\n",
      "False\n"
     ]
    }
   ],
   "source": [
    "class Parent:\n",
    "    def func1():\n",
    "        print(\"Hello Parent\")\n",
    "class child(Parent):\n",
    "    def func2():\n",
    "        print(\"Hello Child\")\n",
    "\n",
    "A=child()\n",
    "B = parent()\n",
    "\n",
    "print(isinstance(A,child))\n",
    "print(isinstance(A,parent))\n",
    "print(isinstance(B,child))\n",
    "print(isinstance(B,parent))\n",
    "\n",
    "print(issubclass(child,parent))\n",
    "print(issubclass(parent,child))\n"
   ]
  },
  {
   "cell_type": "code",
   "execution_count": 12,
   "metadata": {},
   "outputs": [
    {
     "name": "stdout",
     "output_type": "stream",
     "text": [
      "class B\n",
      "(<class '__main__.D'>, <class '__main__.B'>, <class '__main__.C'>, <class '__main__.A'>, <class 'object'>)\n",
      "(<class '__main__.C'>, <class '__main__.A'>, <class 'object'>)\n",
      "(<class '__main__.B'>, <class '__main__.A'>, <class 'object'>)\n"
     ]
    }
   ],
   "source": [
    "class A:\n",
    "    def rk(self):\n",
    "        print(\"class A\")\n",
    "class B(A):\n",
    "    def rk(self):\n",
    "        print(\"class B\")\n",
    "class C(A):\n",
    "    def rk(self):\n",
    "        print(\"Class C\")\n",
    "class D(B,C):\n",
    "    pass\n",
    "\n",
    "r = D()\n",
    "r.rk()\n",
    "\n",
    "print(D.__mro__)\n",
    "print(C.__mro__)\n",
    "print(B.__mro__)\n",
    "    "
   ]
  },
  {
   "cell_type": "code",
   "execution_count": 14,
   "metadata": {},
   "outputs": [
    {
     "ename": "TypeError",
     "evalue": "Cannot create a consistent method resolution\norder (MRO) for bases B, C",
     "output_type": "error",
     "traceback": [
      "\u001b[1;31m---------------------------------------------------------------------------\u001b[0m",
      "\u001b[1;31mTypeError\u001b[0m                                 Traceback (most recent call last)",
      "\u001b[1;32m<ipython-input-14-4bd2acfe2fd4>\u001b[0m in \u001b[0;36m<module>\u001b[1;34m\u001b[0m\n\u001b[0;32m      8\u001b[0m     \u001b[1;32mdef\u001b[0m \u001b[0mrk\u001b[0m\u001b[1;33m(\u001b[0m\u001b[0mself\u001b[0m\u001b[1;33m)\u001b[0m\u001b[1;33m:\u001b[0m\u001b[1;33m\u001b[0m\u001b[1;33m\u001b[0m\u001b[0m\n\u001b[0;32m      9\u001b[0m         \u001b[0mprint\u001b[0m\u001b[1;33m(\u001b[0m\u001b[1;34m\"Class C\"\u001b[0m\u001b[1;33m)\u001b[0m\u001b[1;33m\u001b[0m\u001b[1;33m\u001b[0m\u001b[0m\n\u001b[1;32m---> 10\u001b[1;33m \u001b[1;32mclass\u001b[0m \u001b[0mD\u001b[0m\u001b[1;33m(\u001b[0m\u001b[0mB\u001b[0m\u001b[1;33m,\u001b[0m\u001b[0mC\u001b[0m\u001b[1;33m)\u001b[0m\u001b[1;33m:\u001b[0m\u001b[1;33m\u001b[0m\u001b[1;33m\u001b[0m\u001b[0m\n\u001b[0m\u001b[0;32m     11\u001b[0m     \u001b[1;32mpass\u001b[0m\u001b[1;33m\u001b[0m\u001b[1;33m\u001b[0m\u001b[0m\n\u001b[0;32m     12\u001b[0m \u001b[1;33m\u001b[0m\u001b[0m\n",
      "\u001b[1;31mTypeError\u001b[0m: Cannot create a consistent method resolution\norder (MRO) for bases B, C"
     ]
    }
   ],
   "source": [
    "class A:\n",
    "    def rk(self):\n",
    "        print(\"class A\")\n",
    "class B(A):\n",
    "    def rk(self):\n",
    "        print(\"class B\")\n",
    "class C(B):\n",
    "    def rk(self):\n",
    "        print(\"Class C\")\n",
    "class D(B,C):\n",
    "    pass\n",
    "\n",
    "r = D()\n",
    "r.rk()\n",
    "\n",
    "print(D.__mro__)\n",
    "print(C.__mro__)\n",
    "print(B.__mro__)\n",
    "    "
   ]
  },
  {
   "cell_type": "code",
   "execution_count": 17,
   "metadata": {},
   "outputs": [
    {
     "name": "stdout",
     "output_type": "stream",
     "text": [
      "Bar from C2\n",
      "foo from P1\n"
     ]
    },
    {
     "data": {
      "text/plain": [
       "[__main__.GC, __main__.C1, __main__.P1, __main__.C2, __main__.P2, object]"
      ]
     },
     "execution_count": 17,
     "metadata": {},
     "output_type": "execute_result"
    }
   ],
   "source": [
    "class P1:\n",
    "    def foo(self):\n",
    "        print(\"foo from P1\")\n",
    "        \n",
    "class P2:\n",
    "    def foo(self):\n",
    "        print(\"foo from P2\")\n",
    "\n",
    "class C1(P1):\n",
    "    pass\n",
    "\n",
    "class C2(P2):\n",
    "    def bar(self):\n",
    "        print(\"Bar from C2\")\n",
    "\n",
    "class GC(C1,C2):\n",
    "    pass\n",
    "\n",
    "gc = GC()\n",
    "gc.bar()\n",
    "gc.foo()\n",
    "GC.mro()\n",
    "\n"
   ]
  },
  {
   "cell_type": "code",
   "execution_count": 18,
   "metadata": {},
   "outputs": [
    {
     "name": "stdout",
     "output_type": "stream",
     "text": [
      "Bar from C2\n",
      "foo from P2\n"
     ]
    },
    {
     "data": {
      "text/plain": [
       "[__main__.GC, __main__.C1, __main__.P2, __main__.C2, __main__.P1, object]"
      ]
     },
     "execution_count": 18,
     "metadata": {},
     "output_type": "execute_result"
    }
   ],
   "source": [
    "class P1:\n",
    "    def foo(self):\n",
    "        print(\"foo from P1\")\n",
    "        \n",
    "class P2:\n",
    "    def foo(self):\n",
    "        print(\"foo from P2\")\n",
    "\n",
    "class C1(P2):\n",
    "    pass\n",
    "\n",
    "class C2(P1):\n",
    "    def bar(self):\n",
    "        print(\"Bar from C2\")\n",
    "\n",
    "class GC(C1,C2):\n",
    "    pass\n",
    "\n",
    "gc = GC()\n",
    "gc.bar()\n",
    "gc.foo()\n",
    "GC.mro()\n",
    "\n"
   ]
  },
  {
   "cell_type": "code",
   "execution_count": 19,
   "metadata": {},
   "outputs": [
    {
     "name": "stdout",
     "output_type": "stream",
     "text": [
      "Bar from C2\n",
      "foo from P1\n"
     ]
    },
    {
     "data": {
      "text/plain": [
       "[__main__.GC, __main__.C1, __main__.C2, __main__.P1, object]"
      ]
     },
     "execution_count": 19,
     "metadata": {},
     "output_type": "execute_result"
    }
   ],
   "source": [
    "class P1:\n",
    "    def foo(self):\n",
    "        print(\"foo from P1\")\n",
    "        \n",
    "class P2:\n",
    "    def foo(self):\n",
    "        print(\"foo from P2\")\n",
    "\n",
    "class C1(P1):\n",
    "    pass\n",
    "\n",
    "class C2(P1):\n",
    "    def bar(self):\n",
    "        print(\"Bar from C2\")\n",
    "\n",
    "class GC(C1,C2):\n",
    "    pass\n",
    "\n",
    "gc = GC()\n",
    "gc.bar()\n",
    "gc.foo()\n",
    "GC.mro()\n",
    "\n"
   ]
  },
  {
   "cell_type": "code",
   "execution_count": 20,
   "metadata": {},
   "outputs": [
    {
     "name": "stdout",
     "output_type": "stream",
     "text": [
      "Bar from C2\n",
      "foo from P2\n"
     ]
    },
    {
     "data": {
      "text/plain": [
       "[__main__.GC, __main__.C1, __main__.C2, __main__.P2, object]"
      ]
     },
     "execution_count": 20,
     "metadata": {},
     "output_type": "execute_result"
    }
   ],
   "source": [
    "class P1:\n",
    "    def foo(self):\n",
    "        print(\"foo from P1\")\n",
    "        \n",
    "class P2:\n",
    "    def foo(self):\n",
    "        print(\"foo from P2\")\n",
    "\n",
    "class C1(P2):\n",
    "    pass\n",
    "\n",
    "class C2(P2):\n",
    "    def bar(self):\n",
    "        print(\"Bar from C2\")\n",
    "\n",
    "class GC(C1,C2):\n",
    "    pass\n",
    "\n",
    "gc = GC()\n",
    "gc.bar()\n",
    "gc.foo()\n",
    "GC.mro()\n",
    "\n"
   ]
  },
  {
   "cell_type": "code",
   "execution_count": 21,
   "metadata": {},
   "outputs": [
    {
     "name": "stdout",
     "output_type": "stream",
     "text": [
      "Bar from C2\n",
      "foo from P1\n"
     ]
    },
    {
     "data": {
      "text/plain": [
       "[__main__.GC, __main__.C1, __main__.C2, __main__.P1, __main__.P2, object]"
      ]
     },
     "execution_count": 21,
     "metadata": {},
     "output_type": "execute_result"
    }
   ],
   "source": [
    "class P1:\n",
    "    def foo(self):\n",
    "        print(\"foo from P1\")\n",
    "        \n",
    "class P2:\n",
    "    def foo(self):\n",
    "        print(\"foo from P2\")\n",
    "\n",
    "class C1(P1,P2):\n",
    "    pass\n",
    "\n",
    "class C2(P1,P2):\n",
    "    def bar(self):\n",
    "        print(\"Bar from C2\")\n",
    "\n",
    "class GC(C1,C2):\n",
    "    pass\n",
    "\n",
    "gc = GC()\n",
    "gc.bar()\n",
    "gc.foo()\n",
    "GC.mro()\n",
    "\n"
   ]
  },
  {
   "cell_type": "code",
   "execution_count": 23,
   "metadata": {},
   "outputs": [
    {
     "ename": "TypeError",
     "evalue": "Cannot create a consistent method resolution\norder (MRO) for bases P2, P1",
     "output_type": "error",
     "traceback": [
      "\u001b[1;31m---------------------------------------------------------------------------\u001b[0m",
      "\u001b[1;31mTypeError\u001b[0m                                 Traceback (most recent call last)",
      "\u001b[1;32m<ipython-input-23-a67d395626c1>\u001b[0m in \u001b[0;36m<module>\u001b[1;34m\u001b[0m\n\u001b[0;32m     14\u001b[0m         \u001b[0mprint\u001b[0m\u001b[1;33m(\u001b[0m\u001b[1;34m\"Bar from C2\"\u001b[0m\u001b[1;33m)\u001b[0m\u001b[1;33m\u001b[0m\u001b[1;33m\u001b[0m\u001b[0m\n\u001b[0;32m     15\u001b[0m \u001b[1;33m\u001b[0m\u001b[0m\n\u001b[1;32m---> 16\u001b[1;33m \u001b[1;32mclass\u001b[0m \u001b[0mGC\u001b[0m\u001b[1;33m(\u001b[0m\u001b[0mC1\u001b[0m\u001b[1;33m,\u001b[0m\u001b[0mC2\u001b[0m\u001b[1;33m)\u001b[0m\u001b[1;33m:\u001b[0m\u001b[1;33m\u001b[0m\u001b[1;33m\u001b[0m\u001b[0m\n\u001b[0m\u001b[0;32m     17\u001b[0m     \u001b[1;32mpass\u001b[0m\u001b[1;33m\u001b[0m\u001b[1;33m\u001b[0m\u001b[0m\n\u001b[0;32m     18\u001b[0m \u001b[1;33m\u001b[0m\u001b[0m\n",
      "\u001b[1;31mTypeError\u001b[0m: Cannot create a consistent method resolution\norder (MRO) for bases P2, P1"
     ]
    }
   ],
   "source": [
    "class P1:\n",
    "    def foo(self):\n",
    "        print(\"foo from P1\")\n",
    "        \n",
    "class P2:\n",
    "    def foo(self):\n",
    "        print(\"foo from P2\")\n",
    "\n",
    "class C1(P2,P1):\n",
    "    pass\n",
    "\n",
    "class C2(P1,P2):\n",
    "    def bar(self):\n",
    "        print(\"Bar from C2\")\n",
    "\n",
    "class GC(C1,C2):\n",
    "    pass\n",
    "\n",
    "gc = GC()\n",
    "gc.bar()\n",
    "gc.foo()\n",
    "GC.mro()\n",
    "\n"
   ]
  },
  {
   "cell_type": "code",
   "execution_count": 24,
   "metadata": {},
   "outputs": [
    {
     "name": "stdout",
     "output_type": "stream",
     "text": [
      "Bar from C2\n",
      "foo from P2\n"
     ]
    },
    {
     "data": {
      "text/plain": [
       "[__main__.GC, __main__.C1, __main__.P2, __main__.C2, __main__.P1, object]"
      ]
     },
     "execution_count": 24,
     "metadata": {},
     "output_type": "execute_result"
    }
   ],
   "source": [
    "class P1:\n",
    "    def foo(self):\n",
    "        print(\"foo from P1\")\n",
    "        \n",
    "class P2:\n",
    "    def foo(self):\n",
    "        print(\"foo from P2\")\n",
    "\n",
    "class C1(P2,P1):\n",
    "    pass\n",
    "\n",
    "class C2(P1):\n",
    "# class C2(P2):\n",
    "    def bar(self):\n",
    "        print(\"Bar from C2\")\n",
    "\n",
    "class GC(C1,C2):\n",
    "    pass\n",
    "\n",
    "gc = GC()\n",
    "gc.bar()\n",
    "gc.foo()\n",
    "GC.mro()\n",
    "\n"
   ]
  },
  {
   "cell_type": "markdown",
   "metadata": {},
   "source": [
    "# Abstract Class\n",
    "- Abstraction is implemented using abstarct class\n",
    "- Abstract class is created to declare a set of methods that must be created in any child class built on the top of this abstract class\n",
    "- Abstraction method doesn't have any implementation\n",
    "- ABC module required from abc(abstract base class)\n",
    "- Inherit ABC class from module abc\n",
    "- Decorator : \"@abstractmethod\""
   ]
  },
  {
   "cell_type": "code",
   "execution_count": 37,
   "metadata": {},
   "outputs": [
    {
     "name": "stdout",
     "output_type": "stream",
     "text": [
      "Draw Circle\n"
     ]
    }
   ],
   "source": [
    "from abc import ABC,abstractmethod\n",
    "\n",
    "class shape(ABC):\n",
    "    def __init__(self,shape_name):\n",
    "        self.shape_name = shape_name\n",
    "        \n",
    "        @abstractmethod\n",
    "        def draw(self):\n",
    "            pass\n",
    "            \n",
    "class Circle(shape):\n",
    "    def __init__(self):\n",
    "        super().__init__(\"Circle\")\n",
    "    def draw(self):\n",
    "        print(\"Draw Circle\")\n",
    "\n",
    "c = Circle()\n",
    "c.draw()\n",
    "    "
   ]
  },
  {
   "cell_type": "code",
   "execution_count": 38,
   "metadata": {},
   "outputs": [
    {
     "ename": "AttributeError",
     "evalue": "'Circle' object has no attribute 'draw'",
     "output_type": "error",
     "traceback": [
      "\u001b[1;31m---------------------------------------------------------------------------\u001b[0m",
      "\u001b[1;31mAttributeError\u001b[0m                            Traceback (most recent call last)",
      "\u001b[1;32m<ipython-input-38-c8da50fde6ce>\u001b[0m in \u001b[0;36m<module>\u001b[1;34m\u001b[0m\n\u001b[0;32m     16\u001b[0m \u001b[1;33m\u001b[0m\u001b[0m\n\u001b[0;32m     17\u001b[0m \u001b[0mc\u001b[0m \u001b[1;33m=\u001b[0m \u001b[0mCircle\u001b[0m\u001b[1;33m(\u001b[0m\u001b[1;33m)\u001b[0m\u001b[1;33m\u001b[0m\u001b[1;33m\u001b[0m\u001b[0m\n\u001b[1;32m---> 18\u001b[1;33m \u001b[0mc\u001b[0m\u001b[1;33m.\u001b[0m\u001b[0mdraw\u001b[0m\u001b[1;33m(\u001b[0m\u001b[1;33m)\u001b[0m\u001b[1;33m\u001b[0m\u001b[1;33m\u001b[0m\u001b[0m\n\u001b[0m",
      "\u001b[1;31mAttributeError\u001b[0m: 'Circle' object has no attribute 'draw'"
     ]
    }
   ],
   "source": [
    "from abc import ABC,abstractmethod\n",
    "\n",
    "class shape(ABC):\n",
    "    def __init__(self,shape_name):\n",
    "        self.shape_name = shape_name\n",
    "        \n",
    "        @abstractmethod\n",
    "        def draw_Circle(self):\n",
    "            pass\n",
    "            \n",
    "class Circle(shape):\n",
    "    def __init__(self):\n",
    "        super().__init__(\"Circle\")\n",
    "    def drawcircle(self):\n",
    "        print(\"Draw Circle\")\n",
    "\n",
    "c = Circle()\n",
    "c.draw()"
   ]
  },
  {
   "cell_type": "code",
   "execution_count": 43,
   "metadata": {},
   "outputs": [
    {
     "name": "stdout",
     "output_type": "stream",
     "text": [
      "Draw Circle\n"
     ]
    }
   ],
   "source": [
    "from abc import ABC,abstractmethod\n",
    "\n",
    "class shape(ABC):\n",
    "    def __init__(self,shape_name):\n",
    "        self.shape_name = shape_name\n",
    "        \n",
    "        @abstractmethod\n",
    "        def draw(self):\n",
    "            pass\n",
    "            \n",
    "class Circle():\n",
    "    def __init__(self):\n",
    "        shape.__init__(Circle,\"Circle\")\n",
    "    def draw(self):\n",
    "        print(\"Draw Circle\")\n",
    "\n",
    "c = Circle()\n",
    "c.draw()\n",
    "    "
   ]
  },
  {
   "cell_type": "code",
   "execution_count": 46,
   "metadata": {},
   "outputs": [
    {
     "name": "stdout",
     "output_type": "stream",
     "text": [
      "ABC || 3 || ['ABC', 'DEF', 'GHI'] || KKK\n"
     ]
    }
   ],
   "source": [
    "from abc import ABC, abstractmethod\n",
    "\n",
    "class book(ABC):\n",
    "    def __init__(self, name, noa, anl, pub):\n",
    "        self.Name = name\n",
    "        self.NumberOfAuthor = noa\n",
    "        self.AuthorNameList = anl\n",
    "        self.Publisher = pub\n",
    "        self.display()\n",
    "        \n",
    "    def display(self):\n",
    "        print(f\"{self.Name} || {self.NumberOfAuthor} || {self.AuthorNameList} || {self.Publisher}\")\n",
    "    \n",
    "class coursebook(book):\n",
    "    def __init__(self):\n",
    "        super().__init__(\"ABC\", 3, [\"ABC\", \"DEF\", \"GHI\"], \"KKK\")\n",
    "    \n",
    "obj1 = coursebook()\n"
   ]
  }
 ],
 "metadata": {
  "kernelspec": {
   "display_name": "Python 3",
   "language": "python",
   "name": "python3"
  },
  "language_info": {
   "codemirror_mode": {
    "name": "ipython",
    "version": 3
   },
   "file_extension": ".py",
   "mimetype": "text/x-python",
   "name": "python",
   "nbconvert_exporter": "python",
   "pygments_lexer": "ipython3",
   "version": "3.8.5"
  }
 },
 "nbformat": 4,
 "nbformat_minor": 4
}
