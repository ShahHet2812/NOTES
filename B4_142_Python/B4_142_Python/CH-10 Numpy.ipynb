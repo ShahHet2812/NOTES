{
 "cells": [
  {
   "cell_type": "markdown",
   "metadata": {},
   "source": [
    "# NumPy\n",
    "- NumPy is a Python library used for working with arrays. NumPy is short for \"Numerical Python\".  \n",
    "- It also has functions for working in domain of linear algebra, fourier transform, and matrices. NumPy was created in 2005 by Travis Oliphant\n",
    "- NumPy aims to provide an array object that is up to 50x faster than traditional Python lists.\n"
   ]
  },
  {
   "cell_type": "code",
   "execution_count": 1,
   "metadata": {},
   "outputs": [
    {
     "name": "stdout",
     "output_type": "stream",
     "text": [
      "Size of each element if list in bytes:  48\n",
      "Size of whole list in bytes:  48000\n",
      "Size of each element of numpy array in bytes:  4\n",
      "Size of whole numpy array in bytes:  4000\n"
     ]
    }
   ],
   "source": [
    "import numpy as np\n",
    "import sys\n",
    "\n",
    "#List\n",
    "s = range(1000)\n",
    "print(\"Size of each element if list in bytes: \", sys.getsizeof(s))\n",
    "print(\"Size of whole list in bytes: \",sys.getsizeof(s)*len(s))\n",
    "\n",
    "# Numpy Array\n",
    "D = np.arange(1000)\n",
    "print(\"Size of each element of numpy array in bytes: \",D.itemsize)\n",
    "print(\"Size of whole numpy array in bytes: \", D.itemsize * D.size)"
   ]
  },
  {
   "cell_type": "code",
   "execution_count": 4,
   "metadata": {},
   "outputs": [
    {
     "name": "stdout",
     "output_type": "stream",
     "text": [
      "41\n",
      "0\n",
      "<class 'numpy.ndarray'>\n",
      "______________________\n",
      "[1 2 3 4 5]\n",
      "1\n",
      "<class 'numpy.ndarray'>\n",
      "______________________\n",
      "[[1 2 3 4 5]]\n",
      "2\n",
      "<class 'numpy.ndarray'>\n"
     ]
    }
   ],
   "source": [
    "arr = np.array(41)\n",
    "print(arr)\n",
    "print(arr.ndim)\n",
    "print(type(arr))\n",
    "\n",
    "print(\"______________________\")\n",
    "arr1 = np.array([1,2,3,4,5])\n",
    "print(arr1)\n",
    "print(arr1.ndim)\n",
    "print(type(arr1))\n",
    "\n",
    "print(\"______________________\")\n",
    "arr2 = np.array([[1,2,3,4,5]])\n",
    "print(arr2)\n",
    "print(arr2.ndim)\n",
    "print(type(arr2))"
   ]
  },
  {
   "cell_type": "code",
   "execution_count": 19,
   "metadata": {},
   "outputs": [
    {
     "name": "stdout",
     "output_type": "stream",
     "text": [
      "[[1 2 3 4]\n",
      " [5 6 7 8]]\n",
      "7\n",
      "11\n"
     ]
    }
   ],
   "source": [
    "arr3 = np.array([[1,2,3,4],[5,6,7,8]])\n",
    "print(arr3)\n",
    "print(arr3[1][2])\n",
    "\n",
    "arr4 = np.array([[[1,2,3],[4,5,6]],[[7,8,9],[10,11,12]]])\n",
    "print(arr4[1][1][1])"
   ]
  },
  {
   "cell_type": "code",
   "execution_count": 16,
   "metadata": {},
   "outputs": [
    {
     "name": "stdout",
     "output_type": "stream",
     "text": [
      "[1 2 3 4 5]\n",
      "4\n",
      "9\n"
     ]
    }
   ],
   "source": [
    "arr5  = np.array([1,2,3,4,5])\n",
    "print(arr5)\n",
    "print(arr5[3])\n",
    "# print(arr5[5])\n",
    "print(arr5[3]+arr5[4])"
   ]
  },
  {
   "cell_type": "code",
   "execution_count": 18,
   "metadata": {},
   "outputs": [
    {
     "name": "stdout",
     "output_type": "stream",
     "text": [
      "6\n",
      "11\n",
      "2\n",
      "9\n",
      "12\n"
     ]
    }
   ],
   "source": [
    "arr6 = np.array([[[1,2,3],[4,5,6]],[[7,8,9],[10,11,12]]])\n",
    "print(arr6[0,1,2])\n",
    "print(arr6[1,1,1])\n",
    "print(arr6[0,0,1])\n",
    "print(arr6[1,0,2])\n",
    "print(arr6[1,1,2])\n"
   ]
  },
  {
   "cell_type": "code",
   "execution_count": 20,
   "metadata": {},
   "outputs": [
    {
     "name": "stdout",
     "output_type": "stream",
     "text": [
      "8\n",
      "6\n",
      "[5 6 7]\n"
     ]
    }
   ],
   "source": [
    "arr7 = np.array([[1,2,3,4],[5,6,7,8]])\n",
    "print(arr7[1,3])\n",
    "print(arr7[1,-3])\n",
    "print(arr7[1,0:3])"
   ]
  },
  {
   "cell_type": "code",
   "execution_count": 24,
   "metadata": {},
   "outputs": [
    {
     "name": "stdout",
     "output_type": "stream",
     "text": [
      "[2 3]\n",
      "[2 3 4 5]\n",
      "[1 3]\n",
      "[1 3 5]\n",
      "[3 4]\n",
      "[5 4 3 2 1]\n"
     ]
    }
   ],
   "source": [
    "arr8 = np.array([1,2,3,4,5])\n",
    "print(arr8[1:3])\n",
    "print(arr8[1:])\n",
    "print(arr8[0:4:2])\n",
    "print(arr8[0:5:2])\n",
    "print(arr8[-3:-1])\n",
    "print(arr8[::-1])\n"
   ]
  },
  {
   "cell_type": "code",
   "execution_count": 41,
   "metadata": {},
   "outputs": [
    {
     "name": "stdout",
     "output_type": "stream",
     "text": [
      "[3 7]\n",
      "[3 7]\n",
      "[3 7]\n",
      "________________\n",
      "[2 6]\n",
      "[4 8]\n"
     ]
    }
   ],
   "source": [
    "arr9 = np.array([[1,2,3,4],[5,6,7,8]])\n",
    "print(arr9[0:2,2])\n",
    "print(arr9[0:3,2])\n",
    "print(arr9[0:4,2])\n",
    "print(\"________________\")\n",
    "print(arr9[0:2,1])\n",
    "print(arr9[0:2,3])\n",
    "# Will give error\n",
    "# print(arr9[0:2,4])\n"
   ]
  },
  {
   "cell_type": "code",
   "execution_count": 50,
   "metadata": {},
   "outputs": [
    {
     "name": "stdout",
     "output_type": "stream",
     "text": [
      "[[[ 1  2]\n",
      "  [ 4  5]]\n",
      "\n",
      " [[ 7  8]\n",
      "  [10 11]]]\n",
      "_________________\n",
      "[[ 3  6]\n",
      " [ 9 12]]\n",
      "_________________\n",
      "[2]\n",
      "_________________\n",
      "[[ 4  5]\n",
      " [10 11]]\n",
      "_________________\n",
      "[[[ 4  5]]\n",
      "\n",
      " [[10 11]]]\n",
      "_________________\n",
      "[ 6 12]\n"
     ]
    }
   ],
   "source": [
    "arr10 = np.array([[[1,2,3],[4,5,6]],[[7,8,9],[10,11,12]]])\n",
    "\n",
    "print(arr10[0:2,0:2,0:2])\n",
    "print(\"_________________\")\n",
    "print(arr10[0:2,0:2,2])\n",
    "print(\"_________________\")\n",
    "print(arr1[1:2])\n",
    "print(\"_________________\")\n",
    "print(arr10[0:2,1,0:2])\n",
    "print(\"_________________\")\n",
    "print(arr10[0:2,1:2,0:2])\n",
    "print(\"_________________\")\n",
    "print(arr10[0:2,1,2])"
   ]
  },
  {
   "cell_type": "code",
   "execution_count": 52,
   "metadata": {},
   "outputs": [
    {
     "name": "stdout",
     "output_type": "stream",
     "text": [
      "1\n",
      "(5,)\n",
      "_________________\n",
      "2\n",
      "(2, 4)\n",
      "_________________\n",
      "3\n",
      "(2, 2, 3)\n"
     ]
    }
   ],
   "source": [
    "arr11 = np.array([1,2,3,4,5])\n",
    "arr12 = np.array([[1,2,3,4],[5,6,7,8]])\n",
    "arr13 = np.array([[[1,2,3],[4,5,6]],[[7,8,9],[10,11,12]]])\n",
    "\n",
    "print(arr11.ndim)\n",
    "print(arr11.shape)\n",
    "print(\"_________________\")\n",
    "print(arr12.ndim)\n",
    "print(arr12.shape)\n",
    "print(\"_________________\")\n",
    "print(arr13.ndim)\n",
    "print(arr13.shape)\n"
   ]
  },
  {
   "cell_type": "code",
   "execution_count": 53,
   "metadata": {},
   "outputs": [
    {
     "name": "stdout",
     "output_type": "stream",
     "text": [
      "5\n",
      "(1, 1, 1, 1, 5)\n"
     ]
    }
   ],
   "source": [
    "arr14 = np.array([[[[[1,2,3,4,5]]]]])\n",
    "print(arr14.ndim)\n",
    "print(arr14.shape)\n",
    "\n"
   ]
  },
  {
   "cell_type": "code",
   "execution_count": 65,
   "metadata": {},
   "outputs": [
    {
     "name": "stdout",
     "output_type": "stream",
     "text": [
      "[1 2 3 4 5 6]\n",
      "_________________\n",
      "[[1 2 3]\n",
      " [4 5 6]]\n",
      "_________________\n",
      "[[1 2]\n",
      " [3 4]\n",
      " [5 6]]\n",
      "_________________\n",
      "_________________\n",
      "[[[1 2 3]\n",
      "  [4 5 6]]]\n"
     ]
    }
   ],
   "source": [
    "arr15 = np.array([1,2,3,4,5,6])\n",
    "print(arr15)\n",
    "newarr15 = arr15.reshape(2,3)\n",
    "print(\"_________________\")\n",
    "print(newarr15)\n",
    "\n",
    "arr16 = np.array([1,2,3,4,5,6])\n",
    "newarr16 = arr16.reshape(3,2)\n",
    "print(\"_________________\")\n",
    "print(newarr16)\n",
    "\n",
    "arr17 = np.array([1,2,3,4,5,6])\n",
    "# cannot reshape array of size 6 into shape (4,5,6)\n",
    "# newarr17 = arr17.reshape(4,5,6)\n",
    "print(\"_________________\")\n",
    "# print(newarr17)\n",
    "\n",
    "arr18 = np.array([1,2,3,4,5,6])\n",
    "newarr18 = arr18.reshape(1,2,3)\n",
    "print(\"_________________\")\n",
    "print(newarr18)"
   ]
  },
  {
   "cell_type": "code",
   "execution_count": 70,
   "metadata": {},
   "outputs": [
    {
     "name": "stdout",
     "output_type": "stream",
     "text": [
      "_________________\n",
      "[[[1 2 3]\n",
      "  [4 5 6]]]\n",
      "_________________\n",
      "[[1 2 3]\n",
      " [4 5 6]]\n",
      "_________________\n",
      "[[1 2]\n",
      " [3 4]\n",
      " [5 6]]\n"
     ]
    }
   ],
   "source": [
    "arr19 = np.array([1,2,3,4,5,6])\n",
    "newarr19 = arr19.reshape(1,2,3).base\n",
    "print(\"_________________\")\n",
    "print(newarr18)\n",
    "\n",
    "arr20 = np.array([1,2,3,4,5,6])\n",
    "newarr20 = arr20.reshape(2,-1)\n",
    "print(\"_________________\")\n",
    "print(newarr20)\n",
    "\n",
    "arr21 = np.array([1,2,3,4,5,6])\n",
    "newarr21 = arr21.reshape(3,-1)\n",
    "print(\"_________________\")\n",
    "print(newarr21)\n",
    "\n",
    "\n"
   ]
  },
  {
   "cell_type": "markdown",
   "metadata": {},
   "source": [
    "# Iteration\n"
   ]
  },
  {
   "cell_type": "code",
   "execution_count": 76,
   "metadata": {},
   "outputs": [
    {
     "name": "stdout",
     "output_type": "stream",
     "text": [
      "1\n",
      "2\n",
      "3\n",
      "4\n",
      "5\n",
      "_________________\n",
      "1\n",
      "2\n",
      "3\n",
      "4\n",
      "5\n",
      "6\n",
      "7\n",
      "8\n",
      "_________________\n",
      "1\n",
      "2\n",
      "3\n",
      "4\n",
      "5\n",
      "6\n",
      "7\n",
      "8\n",
      "9\n",
      "10\n",
      "11\n",
      "12\n",
      "_________________\n",
      "(array(1), array(2), array(3), array(4), array(5))\n",
      "________________\n",
      "1\n",
      "3\n",
      "5\n",
      "________________\n",
      "1\n",
      "3\n",
      "5\n",
      "6\n",
      "8\n",
      "10\n"
     ]
    }
   ],
   "source": [
    "arr22 = np.array([1,2,3,4,5])\n",
    "\n",
    "for i in arr22:\n",
    "    print(i)\n",
    "\n",
    "print(\"_________________\")\n",
    "arr23 = np.array([[1,2,3,4],[5,6,7,8]])\n",
    "for i in arr23:\n",
    "    for j in i:\n",
    "        print(j)\n",
    "\n",
    "print(\"_________________\")\n",
    "arr24 = np.array([[[1,2,3],[4,5,6]],[[7,8,9],[10,11,12]]])\n",
    "\n",
    "\n",
    "for i in arr24:\n",
    "    for j in i:\n",
    "        for k in j:\n",
    "            print(k)\n",
    "            \n",
    "print(\"_________________\")\n",
    "for x in np.nditer([1,2,3,4,5]):\n",
    "    print(x)\n",
    "    \n",
    "print(\"________________\")\n",
    "\n",
    "\n",
    "arr25 = np.array([[1,2,3,4,5],[6,7,8,9,10]])\n",
    "for x in np.nditer(arr25[0:1,::2]):\n",
    "    print(x)\n",
    "\n",
    "print(\"________________\")\n",
    "for x in np.nditer(arr25[:,::2]):\n",
    "    print(x)\n",
    "\n",
    "    "
   ]
  },
  {
   "cell_type": "code",
   "execution_count": 83,
   "metadata": {},
   "outputs": [
    {
     "name": "stdout",
     "output_type": "stream",
     "text": [
      "[1 2 3 4 5 6 7 8 9]\n",
      "_________________\n",
      "[1 2 3 4 5 6 7 8 9]\n",
      "_________________\n",
      "[1 2 3 4 5 6 7 8 9]\n",
      "_________________\n"
     ]
    }
   ],
   "source": [
    "arr26 = np.array([1,2,3])\n",
    "arr27 = np.array([4,5,6])\n",
    "arr28 = np.array([7,8,9])\n",
    "\n",
    "arrr = np.concatenate((arr26,arr27,arr28))\n",
    "print(arrr)\n",
    "print(\"_________________\")\n",
    "\n",
    "arrr = np.concatenate((arr26,arr27,arr28),axis= 0)\n",
    "print(arrr)\n",
    "print(\"_________________\")\n",
    "\n",
    "arrr = np.concatenate((arr26,arr27,arr28))\n",
    "print(arrr)\n",
    "print(\"_________________\")"
   ]
  },
  {
   "cell_type": "code",
   "execution_count": 88,
   "metadata": {},
   "outputs": [
    {
     "name": "stdout",
     "output_type": "stream",
     "text": [
      "[[1 2]\n",
      " [3 4]\n",
      " [5 6]\n",
      " [7 8]]\n",
      "(4, 2)\n",
      "_________________\n",
      "[[1 2 5 6]\n",
      " [3 4 7 8]]\n",
      "(2, 4)\n",
      "_________________\n"
     ]
    }
   ],
   "source": [
    "arr29 = ([[1,2],[3,4]])\n",
    "arr30 = ([[5,6],[7,8]])\n",
    "\n",
    "arrr1 = np.concatenate((arr29,arr30),axis = 0)\n",
    "print(arrr1)\n",
    "\n",
    "print(arrr1.shape)\n",
    "print(\"_________________\")\n",
    "\n",
    "arrr1 = np.concatenate((arr29,arr30),axis = 1)\n",
    "print(arrr1)\n",
    "\n",
    "print(arrr1.shape)\n",
    "print(\"_________________\")\n",
    "\n"
   ]
  },
  {
   "cell_type": "markdown",
   "metadata": {},
   "source": [
    "# Split\n"
   ]
  },
  {
   "cell_type": "code",
   "execution_count": 96,
   "metadata": {},
   "outputs": [
    {
     "name": "stdout",
     "output_type": "stream",
     "text": [
      "[array([1, 2, 3, 4])]\n",
      "_________________\n",
      "[array([1, 2]), array([3, 4])]\n",
      "_________________\n",
      "[array([1, 2]), array([3]), array([4])]\n",
      "_________________\n",
      "[array([1]), array([2]), array([3]), array([4])]\n"
     ]
    }
   ],
   "source": [
    "arr31 = np.array([1,2,3,4])\n",
    "newarr31 = np.array_split(arr31,1)\n",
    "print(newarr31)\n",
    "\n",
    "print(\"_________________\")\n",
    "newarr31 = np.array_split(arr31,2)\n",
    "print(newarr31)\n",
    "\n",
    "print(\"_________________\")\n",
    "newarr31 = np.array_split(arr31,3)\n",
    "print(newarr31)\n",
    "\n",
    "print(\"_________________\")\n",
    "newarr31 = np.array_split(arr31,4)\n",
    "print(newarr31)\n"
   ]
  },
  {
   "cell_type": "code",
   "execution_count": 109,
   "metadata": {},
   "outputs": [
    {
     "name": "stdout",
     "output_type": "stream",
     "text": [
      "[array([[1, 2],\n",
      "       [3, 4],\n",
      "       [5, 6],\n",
      "       [7, 8]])]\n",
      "_________________\n",
      "[array([[1, 2],\n",
      "       [3, 4]]), array([[5, 6],\n",
      "       [7, 8]])]\n",
      "_________________\n",
      "[array([[1, 2],\n",
      "       [3, 4]]), array([[5, 6]]), array([[7, 8]])]\n",
      "_________________\n",
      "[array([[1, 2]]), array([[3, 4]]), array([[5, 6]]), array([[7, 8]])]\n",
      "_________________\n",
      "[array([[1, 2]]), array([[3, 4]]), array([[5, 6]]), array([[7, 8]]), array([], shape=(0, 2), dtype=int32), array([], shape=(0, 2), dtype=int32)]\n"
     ]
    }
   ],
   "source": [
    "arr32 = ([[1,2],[3,4],[5,6],[7,8]])\n",
    "newarr32 = np.array_split(arr32,1)\n",
    "print(newarr32)\n",
    "\n",
    "print(\"_________________\")\n",
    "newarr32 = np.array_split(arr32,2)\n",
    "print(newarr32)\n",
    "\n",
    "print(\"_________________\")\n",
    "newarr32 = np.array_split(arr32,3)\n",
    "print(newarr32)\n",
    "\n",
    "print(\"_________________\")\n",
    "newarr32 = np.array_split(arr32,4)\n",
    "print(newarr32)\n",
    "\n",
    "print(\"_________________\")\n",
    "newarr32 = np.array_split(arr32,6)\n",
    "print(newarr32)"
   ]
  },
  {
   "cell_type": "code",
   "execution_count": 106,
   "metadata": {},
   "outputs": [
    {
     "name": "stdout",
     "output_type": "stream",
     "text": [
      "_________________ 1 1\n",
      "[array([[1, 2],\n",
      "       [3, 4],\n",
      "       [5, 6],\n",
      "       [7, 8]])]\n",
      "_________________ 2 1\n",
      "[array([[1, 2],\n",
      "       [3, 4],\n",
      "       [5, 6],\n",
      "       [7, 8]]), array([], shape=(4, 0), dtype=int32)]\n",
      "_________________ 3 1 \n",
      "[array([[1, 2],\n",
      "       [3, 4],\n",
      "       [5, 6],\n",
      "       [7, 8]]), array([], shape=(4, 0), dtype=int32), array([], shape=(4, 0), dtype=int32)]\n",
      "_________________ 4 1\n",
      "[array([[1],\n",
      "       [3],\n",
      "       [5],\n",
      "       [7]]), array([[2],\n",
      "       [4],\n",
      "       [6],\n",
      "       [8]]), array([], shape=(4, 0), dtype=int32), array([], shape=(4, 0), dtype=int32)]\n",
      "_________________ 5 1\n",
      "[array([[1],\n",
      "       [3],\n",
      "       [5],\n",
      "       [7]]), array([[2],\n",
      "       [4],\n",
      "       [6],\n",
      "       [8]]), array([], shape=(4, 0), dtype=int32), array([], shape=(4, 0), dtype=int32), array([], shape=(4, 0), dtype=int32)]\n",
      "_________________ 6 1\n",
      "[array([[1],\n",
      "       [3],\n",
      "       [5],\n",
      "       [7]]), array([[2],\n",
      "       [4],\n",
      "       [6],\n",
      "       [8]]), array([], shape=(4, 0), dtype=int32), array([], shape=(4, 0), dtype=int32), array([], shape=(4, 0), dtype=int32), array([], shape=(4, 0), dtype=int32)]\n",
      "_________________ 1 0\n",
      "[array([[1, 2],\n",
      "       [3, 4],\n",
      "       [5, 6],\n",
      "       [7, 8]])]\n",
      "_________________ 2 0\n",
      "[array([[1, 2],\n",
      "       [3, 4]]), array([[5, 6],\n",
      "       [7, 8]])]\n",
      "_________________ 3 0\n",
      "[array([[1, 2],\n",
      "       [3, 4]]), array([[5, 6]]), array([[7, 8]])]\n",
      "_________________ 4 0\n",
      "[array([[1, 2]]), array([[3, 4]]), array([[5, 6]]), array([[7, 8]])]\n"
     ]
    }
   ],
   "source": [
    "arr32 = ([[1,2],[3,4],[5,6],[7,8]])\n",
    "print(\"_________________ 1 1\")\n",
    "newarr32 = np.array_split(arr32,1,axis = 1)\n",
    "print(newarr32)\n",
    "\n",
    "print(\"_________________ 2 1\")\n",
    "newarr32 = np.array_split(arr32,2,axis = 1)\n",
    "print(newarr32)\n",
    "\n",
    "print(\"_________________ 3 1 \")\n",
    "newarr32 = np.array_split(arr32,3,axis = 1)\n",
    "print(newarr32)\n",
    "\n",
    "print(\"_________________ 4 1\")\n",
    "newarr32 = np.array_split(arr32,4,axis = 1)\n",
    "print(newarr32)\n",
    "\n",
    "\n",
    "print(\"_________________ 5 1\")\n",
    "newarr32 = np.array_split(arr32,5,axis = 1)\n",
    "print(newarr32)\n",
    "\n",
    "print(\"_________________ 6 1\")\n",
    "newarr32 = np.array_split(arr32,6,axis = 1)\n",
    "print(newarr32)\n",
    "\n",
    "print(\"_________________ 1 0\")\n",
    "newarr32 = np.array_split(arr32,1,axis = 0)\n",
    "print(newarr32)\n",
    "\n",
    "\n",
    "print(\"_________________ 2 0\")\n",
    "newarr32 = np.array_split(arr32,2,axis = 0)\n",
    "print(newarr32)\n",
    "\n",
    "\n",
    "print(\"_________________ 3 0\")\n",
    "newarr32 = np.array_split(arr32,3,axis = 0)\n",
    "print(newarr32)\n",
    "\n",
    "\n",
    "print(\"_________________ 4 0\")\n",
    "newarr32 = np.array_split(arr32,4,axis = 0)\n",
    "print(newarr32)\n",
    "\n"
   ]
  },
  {
   "cell_type": "markdown",
   "metadata": {},
   "source": [
    "# Where Function\n"
   ]
  },
  {
   "cell_type": "code",
   "execution_count": 108,
   "metadata": {},
   "outputs": [
    {
     "name": "stdout",
     "output_type": "stream",
     "text": [
      "(array([1, 3, 5, 6, 8], dtype=int64),)\n",
      "_________________\n",
      "(array([1, 3, 5, 6, 8], dtype=int64),)\n",
      "_________________\n",
      "(array([1, 2], dtype=int64), array([1, 0], dtype=int64))\n"
     ]
    }
   ],
   "source": [
    "arr33 = np.array([1,2,3,4,5,6,4,3,2])\n",
    "\n",
    "x1 = np.where(arr33 == 4)\n",
    "print(x)\n",
    "\n",
    "print(\"_________________\")\n",
    "x = np.where(arr33 % 2 == 0)\n",
    "print(x)\n",
    "\n",
    "print(\"_________________\")\n",
    "\n",
    "xarr = np.array([[1,2],[3,4],[4,5],[7,8]])\n",
    "xarrans = np.where(xarr == 4)\n",
    "print(xarrans)"
   ]
  },
  {
   "cell_type": "code",
   "execution_count": null,
   "metadata": {},
   "outputs": [],
   "source": []
  },
  {
   "cell_type": "code",
   "execution_count": 132,
   "metadata": {},
   "outputs": [
    {
     "name": "stdout",
     "output_type": "stream",
     "text": [
      "[array([[1],\n",
      "       [3],\n",
      "       [5]]), array([[2],\n",
      "       [4],\n",
      "       [6]]), array([[3],\n",
      "       [5],\n",
      "       [4]])]\n"
     ]
    }
   ],
   "source": [
    "arr32 = ([[1,2,3],[3,4,5],[5,6,4]])\n",
    "newarr=np.array_split(arr32,3,axis=1)\n",
    "print(newarr)"
   ]
  },
  {
   "cell_type": "code",
   "execution_count": null,
   "metadata": {},
   "outputs": [],
   "source": []
  }
 ],
 "metadata": {
  "kernelspec": {
   "display_name": "Python 3",
   "language": "python",
   "name": "python3"
  },
  "language_info": {
   "codemirror_mode": {
    "name": "ipython",
    "version": 3
   },
   "file_extension": ".py",
   "mimetype": "text/x-python",
   "name": "python",
   "nbconvert_exporter": "python",
   "pygments_lexer": "ipython3",
   "version": "3.8.5"
  }
 },
 "nbformat": 4,
 "nbformat_minor": 4
}
