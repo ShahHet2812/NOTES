{
 "cells": [
  {
   "cell_type": "code",
   "execution_count": 11,
   "metadata": {},
   "outputs": [
    {
     "name": "stdout",
     "output_type": "stream",
     "text": [
      "[[1 2 2]\n",
      " [3 4 3]\n",
      " [4 7 5]]\n"
     ]
    }
   ],
   "source": [
    "import numpy as np\n",
    "arr1=np.array([1,2,3,4,5,6,4])\n",
    "print(np.sort(arr1))\n",
    "arr2=np.array([True,False,True])\n",
    "print(np.sort(arr2))\n",
    "arr3=np.array([[3,4,2],[1,7,3],[4,2,5]])\n",
    "print(np.sort(arr3,axis=0))\n",
    "arr4=np.array([[[3,2,8],[7,9,3]],[[6,7,2],[9,6,4]]])\n",
    "print(np.sort(arr4,axis=1))"
   ]
  }
 ],
 "metadata": {
  "kernelspec": {
   "display_name": "Python 3",
   "language": "python",
   "name": "python3"
  },
  "language_info": {
   "codemirror_mode": {
    "name": "ipython",
    "version": 3
   },
   "file_extension": ".py",
   "mimetype": "text/x-python",
   "name": "python",
   "nbconvert_exporter": "python",
   "pygments_lexer": "ipython3",
   "version": "3.8.5"
  }
 },
 "nbformat": 4,
 "nbformat_minor": 4
}
