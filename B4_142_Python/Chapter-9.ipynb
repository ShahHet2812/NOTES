{
 "cells": [
  {
   "cell_type": "markdown",
   "metadata": {},
   "source": [
    "### Advance OOPS\n",
    "1.Polymorphism\n",
    "2.Inheritance"
   ]
  },
  {
   "cell_type": "markdown",
   "metadata": {},
   "source": [
    "## Polymorphism\n",
    "Poly -> many\n",
    "morphos -> Forms\n",
    "-> Overloading\n",
    "-> Overriding\n",
    "### Method Overloading\n",
    "-> Compile time polymorphism\n",
    "-> It Occurs in same class\n",
    "-> Methods must have the same name and different parameters\n",
    "-> Python does no support method Overloading\n",
    "### Method Overriding\n",
    "-> Run Time Polymorphism\n",
    "-> It occurs in two classes via inheritance\n",
    "-> Methods must have same name and same parameters\n",
    "-> Python supports method overriding"
   ]
  },
  {
   "cell_type": "code",
   "execution_count": null,
   "metadata": {},
   "outputs": [],
   "source": [
    "class Shape:\n",
    "    def area(self,a):\n",
    "        return 3.14*a*a\n",
    "    def area(self,a,b):\n",
    "        return a*b\n",
    "s=Shape()\n",
    "print(s.area(3,4))\n",
    "print(s.area(2))"
   ]
  },
  {
   "cell_type": "code",
   "execution_count": null,
   "metadata": {},
   "outputs": [],
   "source": [
    "class Add:\n",
    "    def result(self,a,b):\n",
    "        print(\"Addition\",a+b)\n",
    "class Multi(Add):\n",
    "    def result(self,a,b):\n",
    "        super().result(10,20)\n",
    "        print(\"Multiplication\",a*b)\n",
    "a=Multi()\n",
    "a.result(10,20)\n",
    "m=Add()\n",
    "m.result(10,20)"
   ]
  },
  {
   "cell_type": "code",
   "execution_count": null,
   "metadata": {},
   "outputs": [],
   "source": [
    "class A:\n",
    "    def first(self):\n",
    "        print(\"First Function of class A\")\n",
    "    def second(self):\n",
    "        print(\"Second Function of Class A\")\n",
    "class B(A):\n",
    "    def first(self):\n",
    "        print(\"First Function of class B\")\n",
    "    def display(self):\n",
    "        print(\"Second Function of Class B\")\n",
    "obj1=A()\n",
    "obj2=B()\n",
    "obj1.first()\n",
    "obj2.first()\n",
    "obj1.second()\n",
    "obj2.second()\n",
    "obj2.display()\n",
    "obj1.display()"
   ]
  },
  {
   "cell_type": "markdown",
   "metadata": {},
   "source": [
    "### Operation Overloading\n",
    "-> Giving extended meaning beyond their predefined meaning\n",
    "(+)-->Add two integers\n",
    "   -->join two strings\n",
    "   -->merge two lists"
   ]
  },
  {
   "cell_type": "code",
   "execution_count": 2,
   "metadata": {},
   "outputs": [
    {
     "name": "stdout",
     "output_type": "stream",
     "text": [
      "300\n"
     ]
    }
   ],
   "source": [
    "class A:\n",
    "    def __init__(self,x):\n",
    "        self.x=x\n",
    "    def __add__(self,other):\n",
    "        return self.x+other.x\n",
    "class B:\n",
    "    def __init__(self,x):\n",
    "        self.x=x\n",
    "a=A(100)\n",
    "b=B(200)\n",
    "print(a+b)"
   ]
  },
  {
   "cell_type": "code",
   "execution_count": 8,
   "metadata": {},
   "outputs": [
    {
     "name": "stdout",
     "output_type": "stream",
     "text": [
      "3\n",
      "HelloHi\n",
      "3\n",
      "HelloHi\n",
      "3\n",
      "HelloHi\n"
     ]
    }
   ],
   "source": [
    "class A:\n",
    "    def __init__(self,a):\n",
    "        self.a=a\n",
    "    def __add__(self,other):\n",
    "        return self.a+other.a\n",
    "obj1=A(1)\n",
    "obj2=A(2)\n",
    "obj3=A(\"Hello\")\n",
    "obj4=A(\"Hi\")\n",
    "print(obj1+obj2)\n",
    "print(obj3+obj4)\n",
    "print(A.__add__(obj1,obj2))\n",
    "print(A.__add__(obj3,obj4))\n",
    "print(obj1.__add__(obj2))\n",
    "print(obj3.__add__(obj4))"
   ]
  },
  {
   "cell_type": "code",
   "execution_count": 10,
   "metadata": {},
   "outputs": [
    {
     "name": "stdout",
     "output_type": "stream",
     "text": [
      "obj2 is greater than obj1\n"
     ]
    }
   ],
   "source": [
    "class A:\n",
    "    def __init__(self,a):\n",
    "        self.a=a\n",
    "    def __gt__(self,other):\n",
    "        if self.a>other.a:\n",
    "            return True\n",
    "        else:\n",
    "            return False\n",
    "obj1=A(2)\n",
    "obj2=A(8)\n",
    "if obj1>obj2:\n",
    "    print(\"obj1 is greater than obj2\")\n",
    "else:\n",
    "    print(\"obj2 is greater than obj1\")"
   ]
  },
  {
   "cell_type": "code",
   "execution_count": 16,
   "metadata": {},
   "outputs": [
    {
     "name": "stdout",
     "output_type": "stream",
     "text": [
      "30\n",
      "-10\n",
      "200\n",
      "0.5\n",
      "0\n",
      "10\n",
      "100000000000000000000\n",
      "Less\n",
      "Less or equal to\n",
      "Not Equals\n"
     ]
    }
   ],
   "source": [
    "class Calculus:\n",
    "    def __init__(self,a):\n",
    "        self.a=a\n",
    "    def __add__(self,other):\n",
    "        return self.a+other.a\n",
    "    def __sub__(self,other):\n",
    "        return self.a-other.a\n",
    "    def __mul__(self,other):\n",
    "        return self.a*other.a\n",
    "    def __truediv__(self,other):\n",
    "        return self.a/other.a\n",
    "    def __floordiv__(self,other):\n",
    "        return self.a//other.a\n",
    "    def __mod__(self,other):\n",
    "        return self.a%other.a\n",
    "    def __pow__(self,other):\n",
    "        return self.a**other.a\n",
    "class Comparator:\n",
    "    def __init__(self,a):\n",
    "        self.a=a\n",
    "    def __gt__(self,other):\n",
    "        if self.a>other.a:\n",
    "            print(\"Greater\")\n",
    "    def __lt__(self,other):\n",
    "        if self.a<other.a:\n",
    "            print(\"Less\")\n",
    "    def __le__(self,other):\n",
    "        if self.a<=other.a:\n",
    "            print(\"Less or equal to\")\n",
    "    def __ge__(self,other):\n",
    "        if self.a>=other.a:\n",
    "            print(\"Greater or Equal to\")\n",
    "    def __eq__(self,other):\n",
    "        if self.a==other.a:\n",
    "            print(\"Equals to\")\n",
    "    def __ne__(self,other):\n",
    "        if self.a!=other.a:\n",
    "            print(\"Not Equals\")\n",
    "a=Calculus(10)\n",
    "b=Calculus(20)\n",
    "print(a.__add__(b))\n",
    "print(a.__sub__(b))\n",
    "print(a.__mul__(b))\n",
    "print(a.__truediv__(b))\n",
    "print(a.__floordiv__(b))\n",
    "print(a.__mod__(b))\n",
    "print(a.__pow__(b))\n",
    "c=Comparator(10)\n",
    "d=Comparator(20)\n",
    "c.__gt__(d)\n",
    "c.__lt__(d)\n",
    "c.__le__(d)\n",
    "c.__ge__(d)\n",
    "c.__eq__(d)\n",
    "c.__ne__(d)"
   ]
  },
  {
   "cell_type": "markdown",
   "metadata": {},
   "source": [
    "### Inheritance\n",
    "-> Ability to inherit features or attributes from already written classes into newer class we make\n",
    "->These features and attributes are defined date structures and the functions(methods) we can perform with them\n",
    "-> It Promotes code reusability\n",
    "-> It makes code base modular"
   ]
  },
  {
   "cell_type": "code",
   "execution_count": 18,
   "metadata": {},
   "outputs": [
    {
     "name": "stdout",
     "output_type": "stream",
     "text": [
      "Hello Parent\n",
      "Hello Child\n",
      "Hello Parent\n"
     ]
    },
    {
     "ename": "AttributeError",
     "evalue": "'Parent' object has no attribute 'func2'",
     "output_type": "error",
     "traceback": [
      "\u001b[1;31m---------------------------------------------------------------------------\u001b[0m",
      "\u001b[1;31mAttributeError\u001b[0m                            Traceback (most recent call last)",
      "\u001b[1;32m<ipython-input-18-5ea8096ee5ca>\u001b[0m in \u001b[0;36m<module>\u001b[1;34m\u001b[0m\n\u001b[0;32m     11\u001b[0m \u001b[0mtest2\u001b[0m\u001b[1;33m=\u001b[0m\u001b[0mParent\u001b[0m\u001b[1;33m(\u001b[0m\u001b[1;33m)\u001b[0m\u001b[1;33m\u001b[0m\u001b[1;33m\u001b[0m\u001b[0m\n\u001b[0;32m     12\u001b[0m \u001b[0mtest2\u001b[0m\u001b[1;33m.\u001b[0m\u001b[0mfunc1\u001b[0m\u001b[1;33m(\u001b[0m\u001b[1;33m)\u001b[0m\u001b[1;33m\u001b[0m\u001b[1;33m\u001b[0m\u001b[0m\n\u001b[1;32m---> 13\u001b[1;33m \u001b[0mtest2\u001b[0m\u001b[1;33m.\u001b[0m\u001b[0mfunc2\u001b[0m\u001b[1;33m(\u001b[0m\u001b[1;33m)\u001b[0m\u001b[1;33m\u001b[0m\u001b[1;33m\u001b[0m\u001b[0m\n\u001b[0m",
      "\u001b[1;31mAttributeError\u001b[0m: 'Parent' object has no attribute 'func2'"
     ]
    }
   ],
   "source": [
    "#Single Inheritance\n",
    "class Parent:\n",
    "    def func1(self):\n",
    "        print(\"Hello Parent\")\n",
    "class Child(Parent):\n",
    "    def func2(self):\n",
    "        print(\"Hello Child\")\n",
    "test=Child()\n",
    "test.func1()\n",
    "test.func2()\n",
    "test2=Parent()\n",
    "test2.func1()\n",
    "test2.func2()"
   ]
  },
  {
   "cell_type": "code",
   "execution_count": 22,
   "metadata": {},
   "outputs": [
    {
     "name": "stdout",
     "output_type": "stream",
     "text": [
      "Hello Parent 1\n",
      "Hello Parent 2\n",
      "Hello child\n",
      "(<class '__main__.Child'>, <class '__main__.Parent1'>, <class '__main__.Parent2'>, <class '__main__.Parent3'>, <class 'object'>)\n"
     ]
    }
   ],
   "source": [
    "class Parent1:\n",
    "    def func1(self):\n",
    "        print(\"Hello Parent 1\")\n",
    "class Parent2:\n",
    "    def func2(self):\n",
    "        print(\"Hello Parent 2\")\n",
    "class Parent3:\n",
    "    def func2(self):\n",
    "        print(\"Hello Parent 3\")\n",
    "class Child(Parent1,Parent2,Parent3):\n",
    "    def func3(self):\n",
    "        print(\"Hello child\")\n",
    "a=Child()\n",
    "a.func1()\n",
    "a.func2()\n",
    "a.func3()\n",
    "print(Child.__mro__)"
   ]
  },
  {
   "cell_type": "code",
   "execution_count": 25,
   "metadata": {},
   "outputs": [
    {
     "name": "stdout",
     "output_type": "stream",
     "text": [
      "Hello Grand Parent\n",
      "Hello Parent\n",
      "Hello Child\n",
      "(<class '__main__.Child'>, <class '__main__.Parent'>, <class '__main__.Grandparent'>, <class 'object'>)\n"
     ]
    }
   ],
   "source": [
    "class Grandparent:\n",
    "    def func1(self):\n",
    "        print('Hello Grand Parent')\n",
    "class Parent(Grandparent):\n",
    "    def func2(self):\n",
    "        print(\"Hello Parent\")\n",
    "class Child(Parent):\n",
    "    def func3(self):\n",
    "        print(\"Hello Child\")\n",
    "a=Child()\n",
    "a.func1()\n",
    "a.func2()\n",
    "a.func3()\n",
    "print(Child.__mro__)"
   ]
  },
  {
   "cell_type": "code",
   "execution_count": null,
   "metadata": {},
   "outputs": [],
   "source": []
  }
 ],
 "metadata": {
  "kernelspec": {
   "display_name": "Python 3",
   "language": "python",
   "name": "python3"
  },
  "language_info": {
   "codemirror_mode": {
    "name": "ipython",
    "version": 3
   },
   "file_extension": ".py",
   "mimetype": "text/x-python",
   "name": "python",
   "nbconvert_exporter": "python",
   "pygments_lexer": "ipython3",
   "version": "3.8.5"
  }
 },
 "nbformat": 4,
 "nbformat_minor": 4
}
