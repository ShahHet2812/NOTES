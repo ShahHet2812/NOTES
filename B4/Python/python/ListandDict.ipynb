{
 "cells": [
  {
   "cell_type": "code",
   "execution_count": 24,
   "metadata": {},
   "outputs": [
    {
     "ename": "AttributeError",
     "evalue": "'list' object has no attribute 'max'",
     "output_type": "error",
     "traceback": [
      "\u001b[1;31m---------------------------------------------------------------------------\u001b[0m",
      "\u001b[1;31mAttributeError\u001b[0m                            Traceback (most recent call last)",
      "\u001b[1;32m<ipython-input-24-56d84e5619a2>\u001b[0m in \u001b[0;36m<module>\u001b[1;34m\u001b[0m\n\u001b[0;32m      2\u001b[0m \u001b[0mn\u001b[0m\u001b[1;33m=\u001b[0m\u001b[1;33m[\u001b[0m\u001b[1;36m1\u001b[0m\u001b[1;33m,\u001b[0m\u001b[1;36m2\u001b[0m\u001b[1;33m,\u001b[0m\u001b[1;36m3\u001b[0m\u001b[1;33m]\u001b[0m\u001b[1;33m\u001b[0m\u001b[1;33m\u001b[0m\u001b[0m\n\u001b[0;32m      3\u001b[0m \u001b[0mn2\u001b[0m \u001b[1;33m=\u001b[0m \u001b[1;33m[\u001b[0m\u001b[1;36m55\u001b[0m\u001b[1;33m,\u001b[0m\u001b[1;36m6\u001b[0m\u001b[1;33m,\u001b[0m\u001b[1;36m26\u001b[0m\u001b[1;33m]\u001b[0m\u001b[1;33m\u001b[0m\u001b[1;33m\u001b[0m\u001b[0m\n\u001b[1;32m----> 4\u001b[1;33m \u001b[0mprint\u001b[0m\u001b[1;33m(\u001b[0m\u001b[0mn2\u001b[0m\u001b[1;33m.\u001b[0m\u001b[0mmax\u001b[0m\u001b[1;33m(\u001b[0m\u001b[1;33m)\u001b[0m\u001b[1;33m)\u001b[0m\u001b[1;33m\u001b[0m\u001b[1;33m\u001b[0m\u001b[0m\n\u001b[0m\u001b[0;32m      5\u001b[0m \u001b[0mn\u001b[0m\u001b[1;33m.\u001b[0m\u001b[0mreverse\u001b[0m\u001b[1;33m(\u001b[0m\u001b[1;33m)\u001b[0m\u001b[1;33m\u001b[0m\u001b[1;33m\u001b[0m\u001b[0m\n\u001b[0;32m      6\u001b[0m \u001b[0mprint\u001b[0m\u001b[1;33m(\u001b[0m\u001b[0mn\u001b[0m\u001b[1;33m)\u001b[0m\u001b[1;33m\u001b[0m\u001b[1;33m\u001b[0m\u001b[0m\n",
      "\u001b[1;31mAttributeError\u001b[0m: 'list' object has no attribute 'max'"
     ]
    }
   ],
   "source": [
    "# reverse() --> Use to reverse list.\n",
    "n=[1,2,3]\n",
    "n2 = [55,6,26]\n",
    "n.reverse()\n",
    "print(n)\n",
    "n2.sort()\n",
    "print(n2)"
   ]
  },
  {
   "cell_type": "code",
   "execution_count": 12,
   "metadata": {},
   "outputs": [
    {
     "name": "stdout",
     "output_type": "stream",
     "text": [
      "True\n",
      "True\n",
      "False\n",
      "\n",
      "False\n",
      "False\n",
      "True\n",
      "True\n",
      "\n",
      "True\n",
      "True\n",
      "False\n"
     ]
    }
   ],
   "source": [
    "x = ['Dog','Cat',\"Rat\"]\n",
    "y = ['Dog','Cat','Rat']\n",
    "z = ['Dog','Cat',\"Rat\"]\n",
    "\n",
    "print(x==y)\n",
    "print(x==z)\n",
    "print(x!=z)\n",
    "\n",
    "x = ['Dog','Cat',\"Rat\"]\n",
    "y = ['Rat','Cat','Dog']\n",
    "\n",
    "print()\n",
    "print(x>y)\n",
    "print(x>=y)\n",
    "print(x<y)\n",
    "print(x<=y)\n",
    "\n",
    "# Membership Opreators for list.\n",
    "a = [10,20,30,50,80]\n",
    "print()\n",
    "print(10 in a)\n",
    "print(20 in a)\n",
    "print(65 in a)"
   ]
  },
  {
   "cell_type": "code",
   "execution_count": 14,
   "metadata": {},
   "outputs": [
    {
     "name": "stdout",
     "output_type": "stream",
     "text": [
      "[10, 20, 25]\n",
      "[10, 20, 25]\n",
      "[10, 20, 25]\n",
      "[10, 20, 30]\n"
     ]
    }
   ],
   "source": [
    "# When a list is being copied the new variable is pointed towards the old variable list, and if any changes are made in any\n",
    "# of the variable it leads to change the other one. \n",
    "n = [10,20,30]\n",
    "x = n\n",
    "x[2]= 25\n",
    "print(x)\n",
    "print(n)\n",
    "\n",
    "# to cure this we use x = n[:] or x = n.copy() This makes a sepreate,variable.\n",
    "\n",
    "n = [10,20,30]\n",
    "x = n[:]\n",
    "x[2]= 25\n",
    "print(x)\n",
    "print(n)"
   ]
  },
  {
   "cell_type": "markdown",
   "metadata": {},
   "source": [
    "## Nested list as matrix\n"
   ]
  },
  {
   "cell_type": "code",
   "execution_count": 20,
   "metadata": {},
   "outputs": [
    {
     "name": "stdout",
     "output_type": "stream",
     "text": [
      "[10, 20, 30]\n",
      "[40, 50, 60]\n",
      "[70, 80, 90]\n",
      "\n",
      "10 20 30 \n",
      "40 50 60 \n",
      "70 80 90 \n"
     ]
    }
   ],
   "source": [
    "l = [[10,20,30],[40,50,60],[70,80,90]]\n",
    "for i in l:\n",
    "    print(i)\n",
    "print()\n",
    "for i in range(len(l)):\n",
    "    for j in range(len(l[i])):\n",
    "        print(l[i][j],end=\" \")\n",
    "    print()"
   ]
  },
  {
   "cell_type": "code",
   "execution_count": 23,
   "metadata": {},
   "outputs": [
    {
     "name": "stdout",
     "output_type": "stream",
     "text": [
      "[1, 4, 9, 16, 25, 36, 49, 64, 81, 100]\n",
      "[2, 4, 8, 16, 32]\n",
      "[4, 16, 36, 64, 100]\n"
     ]
    }
   ],
   "source": [
    "# list = ['expression'-'for item in list'-' if condition']\n",
    "s = [x*x for x in range(1,11)]\n",
    "print(s)\n",
    "v = [2**x for x in range(1,6)]\n",
    "print(v)\n",
    "m = [x for x in s if x%2==0]\n",
    "print(m)"
   ]
  },
  {
   "cell_type": "code",
   "execution_count": 36,
   "metadata": {},
   "outputs": [
    {
     "name": "stdout",
     "output_type": "stream",
     "text": [
      "-10 -1\n",
      "0 0\n"
     ]
    }
   ],
   "source": [
    "# Wap to find largest even and odd num of list.\n",
    "l = [-65,-1,-66,-3,-10]\n",
    "\n",
    "odd = [x for x in l if x%2!=0]\n",
    "even = [x for x in l if x%2==0]\n",
    "\n",
    "print(max(even),max(odd))\n",
    "\n"
   ]
  },
  {
   "cell_type": "code",
   "execution_count": 38,
   "metadata": {},
   "outputs": [
    {
     "name": "stdout",
     "output_type": "stream",
     "text": [
      "{2: 'Ridham'}\n"
     ]
    }
   ],
   "source": [
    "d = {1:'Moksh',2:'Ridham'}\n",
    "del d[1]\n",
    "print(d)"
   ]
  },
  {
   "cell_type": "code",
   "execution_count": 40,
   "metadata": {},
   "outputs": [
    {
     "name": "stdout",
     "output_type": "stream",
     "text": [
      "{1: 1, 2: 4, 3: 27, 4: 256, 5: 3125}\n"
     ]
    }
   ],
   "source": [
    "# d.clear() --> Removes all the element.\n",
    "# del d --> del whole the list including variable.\n",
    "d = {x:x**x for x in range(1,6)}\n",
    "print(d)"
   ]
  },
  {
   "cell_type": "code",
   "execution_count": 42,
   "metadata": {},
   "outputs": [
    {
     "name": "stdout",
     "output_type": "stream",
     "text": [
      "{1: 'A', 2: 'B', 3: 'C', 4: 'D'}\n",
      "{3: 'C', 4: 'D'}\n"
     ]
    }
   ],
   "source": [
    "d = {1:'A',2:'B'}\n",
    "x = {3:'C',4:'D'}\n",
    "d.update(x)  # adds the element in d from x\n",
    "print(d)\n",
    "print(x)"
   ]
  },
  {
   "cell_type": "code",
   "execution_count": 46,
   "metadata": {},
   "outputs": [
    {
     "name": "stdout",
     "output_type": "stream",
     "text": [
      "A\n",
      "B\n",
      "None\n",
      "Key Not available\n"
     ]
    }
   ],
   "source": [
    "print(d[1])\n",
    "print(d.get(2))\n",
    "print(d.get(10))\n",
    "print(d.get(10,\"Key Not available\"))"
   ]
  },
  {
   "cell_type": "code",
   "execution_count": 49,
   "metadata": {},
   "outputs": [
    {
     "name": "stdout",
     "output_type": "stream",
     "text": [
      "(2, 'B')\n",
      "{1: 'A'}\n",
      "1 A 1 --> A\n"
     ]
    }
   ],
   "source": [
    "print(d.popitem()) # used to del the last item from the dict, \n",
    "print(d)           #and it stores the value in form of tupple\n",
    "for i in d.keys():\n",
    "    print(i,end=\" \")\n",
    "for i in d.values():\n",
    "    print(i,end=\" \")\n",
    "for i,j in d.items():\n",
    "    print(i,'-->',j)"
   ]
  },
  {
   "cell_type": "code",
   "execution_count": null,
   "metadata": {},
   "outputs": [],
   "source": []
  }
 ],
 "metadata": {
  "kernelspec": {
   "display_name": "Python 3",
   "language": "python",
   "name": "python3"
  },
  "language_info": {
   "codemirror_mode": {
    "name": "ipython",
    "version": 3
   },
   "file_extension": ".py",
   "mimetype": "text/x-python",
   "name": "python",
   "nbconvert_exporter": "python",
   "pygments_lexer": "ipython3",
   "version": "3.8.5"
  }
 },
 "nbformat": 4,
 "nbformat_minor": 4
}
