{
 "cells": [
  {
   "cell_type": "code",
   "execution_count": 2,
   "metadata": {},
   "outputs": [
    {
     "name": "stdout",
     "output_type": "stream",
     "text": [
      "Enter the Index number : 5\n",
      "HelloWorld\n"
     ]
    }
   ],
   "source": [
    "# Remove the ith index from the String.\n",
    "s = \"Hello World\";\n",
    "while True:\n",
    "    i = int(input(\"Enter the Index number : \"))\n",
    "    if i in range(0,len(s)):\n",
    "        break\n",
    "    else :\n",
    "        print('Give a valid index : ')\n",
    "s = s[:i]+s[i+1:]\n",
    "print(s)"
   ]
  },
  {
   "cell_type": "code",
   "execution_count": 4,
   "metadata": {},
   "outputs": [
    {
     "name": "stdout",
     "output_type": "stream",
     "text": [
      "Enter the String. \n",
      "40\n"
     ]
    }
   ],
   "source": [
    "# Write a prog to find all occurances of a subString in a given string by ignoring the case.\n",
    "s = \"Hello my name is Suzy, Suzy with the Z.\"\n",
    "find = input(\"Enter the String. \")\n",
    "s1 = s.lower()\n",
    "c = s1.count(find.lower())\n",
    "print(c)"
   ]
  },
  {
   "cell_type": "code",
   "execution_count": 10,
   "metadata": {},
   "outputs": [
    {
     "name": "stdout",
     "output_type": "stream",
     "text": [
      "py123th 4237\n",
      "Sum :  22  Avg :  3.142857142857143\n"
     ]
    }
   ],
   "source": [
    "# Write the prog to calc sum and avg of the digits present in the string\n",
    "s = \"py@$123th %4237\"\n",
    "count,sum=0,0\n",
    "for i in s :\n",
    "    if i.isdigit() :\n",
    "        sum+=int(i)\n",
    "        count+=1\n",
    "print(\"Sum : \",sum,\" Avg : \",sum/count)"
   ]
  },
  {
   "cell_type": "code",
   "execution_count": 2,
   "metadata": {},
   "outputs": [
    {
     "name": "stdout",
     "output_type": "stream",
     "text": [
      "pyt##123th #4237\n"
     ]
    }
   ],
   "source": [
    "# WAP to replace each special sysmbol with hash in the given string.\n",
    "import string\n",
    "s = \"pyt@$123th %4237\"\n",
    "for i in string.punctuation:\n",
    " s=s.replace(i,\"#\")\n",
    "print(s)"
   ]
  },
  {
   "cell_type": "code",
   "execution_count": 11,
   "metadata": {},
   "outputs": [
    {
     "name": "stdout",
     "output_type": "stream",
     "text": [
      "-1 3453\n",
      "-1 3453\n"
     ]
    }
   ],
   "source": [
    "# wap to print min and max element in a given tuple, without use of min max function.\n",
    "t = (1,4,654,656,34,3453,65,-1)\n",
    "t=sorted(t)\n",
    "print(t[0],t[len(t)-1])\n",
    "# without using sorted.\n",
    "max = t[0]\n",
    "min=t[0]\n",
    "for i in t:\n",
    "    if max<i:\n",
    "        max=i\n",
    "    if min>i:\n",
    "        min=i\n",
    "print(min,max)"
   ]
  },
  {
   "cell_type": "code",
   "execution_count": 14,
   "metadata": {},
   "outputs": [
    {
     "name": "stdout",
     "output_type": "stream",
     "text": [
      "to Lj University "
     ]
    }
   ],
   "source": [
    "#WAP to print evenlenght words in a given String.\n",
    "s = \"Welcome to Lj University\"\n",
    "s1=s.split()\n",
    "for i in s1:\n",
    "    if len(i)%2==0:\n",
    "        print(i,end=\" \")"
   ]
  },
  {
   "cell_type": "code",
   "execution_count": 2,
   "metadata": {},
   "outputs": [
    {
     "name": "stdout",
     "output_type": "stream",
     "text": [
      "UNIVErsity\n"
     ]
    }
   ],
   "source": [
    "#WAP to uppercase the half string.\n",
    "s=\"University\"\n",
    "print(s[:len(s)//2].upper()+s[len(s)//2:])"
   ]
  },
  {
   "cell_type": "code",
   "execution_count": 8,
   "metadata": {},
   "outputs": [
    {
     "ename": "TypeError",
     "evalue": "unsupported operand type(s) for -: 'str' and 'int'",
     "output_type": "error",
     "traceback": [
      "\u001b[1;31m---------------------------------------------------------------------------\u001b[0m",
      "\u001b[1;31mTypeError\u001b[0m                                 Traceback (most recent call last)",
      "\u001b[1;32m<ipython-input-8-84967659bede>\u001b[0m in \u001b[0;36m<module>\u001b[1;34m\u001b[0m\n\u001b[0;32m      5\u001b[0m \u001b[1;32mfor\u001b[0m \u001b[0mi\u001b[0m \u001b[1;32min\u001b[0m \u001b[0ms1\u001b[0m\u001b[1;33m:\u001b[0m\u001b[1;33m\u001b[0m\u001b[1;33m\u001b[0m\u001b[0m\n\u001b[0;32m      6\u001b[0m     \u001b[0ms1\u001b[0m\u001b[1;33m[\u001b[0m\u001b[0mcount\u001b[0m\u001b[1;33m]\u001b[0m\u001b[1;33m=\u001b[0m\u001b[0mi\u001b[0m\u001b[1;33m.\u001b[0m\u001b[0mreplace\u001b[0m\u001b[1;33m(\u001b[0m\u001b[0mi\u001b[0m\u001b[1;33m[\u001b[0m\u001b[1;36m0\u001b[0m\u001b[1;33m]\u001b[0m\u001b[1;33m,\u001b[0m\u001b[0mi\u001b[0m\u001b[1;33m[\u001b[0m\u001b[1;36m0\u001b[0m\u001b[1;33m]\u001b[0m\u001b[1;33m.\u001b[0m\u001b[0mupper\u001b[0m\u001b[1;33m(\u001b[0m\u001b[1;33m)\u001b[0m\u001b[1;33m)\u001b[0m\u001b[1;33m\u001b[0m\u001b[1;33m\u001b[0m\u001b[0m\n\u001b[1;32m----> 7\u001b[1;33m     \u001b[0ms1\u001b[0m\u001b[1;33m[\u001b[0m\u001b[0mcount\u001b[0m\u001b[1;33m]\u001b[0m\u001b[1;33m=\u001b[0m\u001b[0mi\u001b[0m\u001b[1;33m.\u001b[0m\u001b[0mreplace\u001b[0m\u001b[1;33m(\u001b[0m\u001b[0mi\u001b[0m\u001b[1;33m[\u001b[0m\u001b[0mlen\u001b[0m\u001b[1;33m(\u001b[0m\u001b[0ms1\u001b[0m\u001b[1;33m[\u001b[0m\u001b[0mcount\u001b[0m\u001b[1;33m]\u001b[0m\u001b[1;33m-\u001b[0m\u001b[1;36m1\u001b[0m\u001b[1;33m)\u001b[0m\u001b[1;33m]\u001b[0m\u001b[1;33m,\u001b[0m\u001b[0mi\u001b[0m\u001b[1;33m[\u001b[0m\u001b[0mlen\u001b[0m\u001b[1;33m(\u001b[0m\u001b[0ms1\u001b[0m\u001b[1;33m[\u001b[0m\u001b[0mcount\u001b[0m\u001b[1;33m]\u001b[0m\u001b[1;33m-\u001b[0m\u001b[1;36m1\u001b[0m\u001b[1;33m)\u001b[0m\u001b[1;33m]\u001b[0m\u001b[1;33m.\u001b[0m\u001b[0mupper\u001b[0m\u001b[1;33m(\u001b[0m\u001b[1;33m)\u001b[0m\u001b[1;33m)\u001b[0m\u001b[1;33m\u001b[0m\u001b[1;33m\u001b[0m\u001b[0m\n\u001b[0m\u001b[0;32m      8\u001b[0m \u001b[1;33m\u001b[0m\u001b[0m\n\u001b[0;32m      9\u001b[0m     \u001b[0mcount\u001b[0m\u001b[1;33m+=\u001b[0m\u001b[1;36m1\u001b[0m\u001b[1;33m\u001b[0m\u001b[1;33m\u001b[0m\u001b[0m\n",
      "\u001b[1;31mTypeError\u001b[0m: unsupported operand type(s) for -: 'str' and 'int'"
     ]
    }
   ],
   "source": [
    "# in --> tejas thakker out--> TejaS ThakkeR\n",
    "s = \"tejas thakker\"\n",
    "s1=s.split()\n",
    "count=0\n",
    "for i in s1:\n",
    "    s1[count]=i.replace(i[0],i[0].upper())\n",
    "    s1[count]=i.replace(i[len(s1[count]-1)],i[len(s1[count]-1)].upper())\n",
    "    \n",
    "    count+=1\n",
    "print(s1)"
   ]
  },
  {
   "cell_type": "code",
   "execution_count": 26,
   "metadata": {},
   "outputs": [
    {
     "name": "stdout",
     "output_type": "stream",
     "text": [
      "True\n"
     ]
    }
   ],
   "source": [
    "# WAP to check if 2 strings are balanced.\n",
    "# s1 and s2 are balanced if \n",
    "# --> all char of s1 are in s2\n",
    "# --> char position doesn't matter\n",
    "s1 = ' '\n",
    "s2 = 'Halse '\n",
    "present=True\n",
    "for i in s1 :\n",
    "    if i in s2:\n",
    "        continue\n",
    "    else:\n",
    "        present=False\n",
    "        break\n",
    "print(present)"
   ]
  },
  {
   "cell_type": "code",
   "execution_count": 31,
   "metadata": {},
   "outputs": [
    {
     "name": "stdout",
     "output_type": "stream",
     "text": [
      "Enter a number : 12345\n",
      "Enter shift : 6\n",
      "54321\n"
     ]
    }
   ],
   "source": [
    "# input n=12345, shift=3\n",
    "# out--> 45123\n",
    "# WAP to shift the decimal digits to left and wraping the other digits around.\n",
    "#If the shift is greater then length the reverse the string\n",
    "N = int(input(\"Enter a number : \"))\n",
    "shift = int(input(\"Enter shift : \"))\n",
    "num = str(N)\n",
    "if len(num)>shift:\n",
    "    num = num[shift:] + num[:shift]\n",
    "else:\n",
    "    num = num[::-1]\n",
    "print(str(num))"
   ]
  },
  {
   "cell_type": "code",
   "execution_count": null,
   "metadata": {},
   "outputs": [],
   "source": []
  }
 ],
 "metadata": {
  "kernelspec": {
   "display_name": "Python 3",
   "language": "python",
   "name": "python3"
  },
  "language_info": {
   "codemirror_mode": {
    "name": "ipython",
    "version": 3
   },
   "file_extension": ".py",
   "mimetype": "text/x-python",
   "name": "python",
   "nbconvert_exporter": "python",
   "pygments_lexer": "ipython3",
   "version": "3.8.5"
  }
 },
 "nbformat": 4,
 "nbformat_minor": 4
}
