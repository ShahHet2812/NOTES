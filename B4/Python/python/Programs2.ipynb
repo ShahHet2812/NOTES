{
 "cells": [
  {
   "cell_type": "code",
   "execution_count": 5,
   "metadata": {},
   "outputs": [
    {
     "name": "stdout",
     "output_type": "stream",
     "text": [
      " CampusX is best for DS Students. \n"
     ]
    }
   ],
   "source": [
    "#WAP to replace, words from dict, you are given a string replaces its words from group of dict\n",
    "s = 'CampusX is best for DS Students.'\n",
    "d = {\"best\":'the best channel','DS':'Data-Structure'}\n",
    "l = s.split()\n",
    "l2 = []\n",
    "for i in l:\n",
    "    if i in d:\n",
    "        i = d[i]\n",
    "        l2.append(i)\n",
    "    else:\n",
    "       l2.append(i) \n",
    "s = ' '\n",
    "for i in l:\n",
    "    s = s + i +\" \"\n",
    "print(s)"
   ]
  },
  {
   "cell_type": "code",
   "execution_count": 2,
   "metadata": {},
   "outputs": [
    {
     "name": "stdout",
     "output_type": "stream",
     "text": [
      "the best channel\n"
     ]
    }
   ],
   "source": [
    "print(d['best'])"
   ]
  },
  {
   "cell_type": "code",
   "execution_count": 14,
   "metadata": {},
   "outputs": [
    {
     "name": "stdout",
     "output_type": "stream",
     "text": [
      "Enter the num you wan a remove : 4\n",
      "[1, 2, 3, 4, 4, 4, 5, 5, 6, 6]\n",
      "[1, 2, 3, 4, 4, 4, 5, 5, 6, 6]\n",
      "[1, 2, 3, 4, 4, 4, 5, 5, 6, 6]\n",
      "[1, 2, 3, 4, 4, 5, 5, 6, 6]\n",
      "[1, 2, 3, 4, 5, 5, 6, 6]\n",
      "[1, 2, 3, 4, 5, 5, 6, 6]\n",
      "[1, 2, 3, 4, 5, 5, 6, 6]\n",
      "[1, 2, 3, 4, 5, 5, 6, 6]\n",
      "[1, 2, 3, 4, 5, 5, 6, 6]\n"
     ]
    }
   ],
   "source": [
    "# WAP to remove all occurance of an element from a give list.\n",
    "l=[1,2,3,4,4,4,5,5,6,6]\n",
    "n = int(input(\"Enter the num you wan a remove : \"))\n",
    "count=0\n",
    "for i in l:\n",
    "    if i==n:\n",
    "        l.remove(n)\n",
    "    print(l)\n",
    "print(l)\n",
    "        "
   ]
  },
  {
   "cell_type": "code",
   "execution_count": null,
   "metadata": {},
   "outputs": [],
   "source": []
  },
  {
   "cell_type": "code",
   "execution_count": null,
   "metadata": {},
   "outputs": [],
   "source": []
  }
 ],
 "metadata": {
  "kernelspec": {
   "display_name": "Python 3",
   "language": "python",
   "name": "python3"
  },
  "language_info": {
   "codemirror_mode": {
    "name": "ipython",
    "version": 3
   },
   "file_extension": ".py",
   "mimetype": "text/x-python",
   "name": "python",
   "nbconvert_exporter": "python",
   "pygments_lexer": "ipython3",
   "version": "3.8.5"
  }
 },
 "nbformat": 4,
 "nbformat_minor": 4
}
