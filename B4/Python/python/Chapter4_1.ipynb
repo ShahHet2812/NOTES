{
 "cells": [
  {
   "cell_type": "markdown",
   "metadata": {},
   "source": [
    "# CH-4 Immutable data Structure\n",
    "## String\n",
    "## Tuple"
   ]
  },
  {
   "cell_type": "code",
   "execution_count": 14,
   "metadata": {},
   "outputs": [
    {
     "name": "stdout",
     "output_type": "stream",
     "text": [
      "Apple-Banana-Lemon\n"
     ]
    }
   ],
   "source": [
    "t = ('Apple',\"Banana\",\"Lemon\")\n",
    "s = \"-\".join(t)\n",
    "print(s)"
   ]
  },
  {
   "cell_type": "code",
   "execution_count": 19,
   "metadata": {},
   "outputs": [
    {
     "name": "stdout",
     "output_type": "stream",
     "text": [
      "Rohit's has a salary of 12000 and his age is\n"
     ]
    }
   ],
   "source": [
    "salary = 12000\n",
    "name= \"Rohit\"\n",
    "age = 22\n",
    "print(\"{}'s has a salary of {} and his age is\".format(name,salary,age))"
   ]
  },
  {
   "cell_type": "code",
   "execution_count": 28,
   "metadata": {},
   "outputs": [
    {
     "name": "stdout",
     "output_type": "stream",
     "text": [
      "42   Hello My Name is Suzy, Suzy with the Z  \n",
      "40   Hello My Name is Suzy, Suzy with the Z\n",
      "40 Hello My Name is Suzy, Suzy with the Z  \n",
      "38 Hello My Name is Suzy, Suzy with the Z\n",
      "0\n",
      "b\n",
      "band\n",
      "nana\n"
     ]
    }
   ],
   "source": [
    "s = \"  Hello My Name is Suzy, Suzy with the Z  \"\n",
    "print(len(s),s)\n",
    "print(len(s.rstrip()),s.rstrip()) # rstrip() Removes the spaces from last(rightside).\n",
    "print(len(s.lstrip()),s.lstrip()) # rstrip() Removes the spaces from ahead(leftside).\n",
    "print(len(s.strip()),s.strip()) # strip() Removes the space from both sides.\n",
    "print(len(s.strip(s)))\n",
    "b = 'banana'\n",
    "b2 = \"bandan\"\n",
    "b3 = \"bbbnana\"\n",
    "print(b.rstrip(\"an\"))\n",
    "print(b2.rstrip(\"an\"))\n",
    "print(b3.lstrip(\"b\"))\n"
   ]
  },
  {
   "cell_type": "code",
   "execution_count": 37,
   "metadata": {},
   "outputs": [
    {
     "name": "stdout",
     "output_type": "stream",
     "text": [
      "HELLO MY NAME IS SUZY, SUZY WITH THE Z  \n",
      "hello my name is suzy, suzy with the z  \n",
      "hELLO mY nAME IS sUZY, sUZY WITH THE z  \n",
      "Hello My Name Is Suzy, Suzy With The Z  \n",
      "Hello my name is suzy, suzy with the z  \n"
     ]
    }
   ],
   "source": [
    "s = \"Hello My Name is Suzy, Suzy with the Z  \"\n",
    "print(s.upper())\n",
    "print(s.lower())\n",
    "print(s.swapcase()) # makes a swap in case of the character.\n",
    "print(s.title()) #  the first letter of the word gets to uppercase. \n",
    "print(s.capitalize()) # first char gets upper case."
   ]
  },
  {
   "cell_type": "code",
   "execution_count": 53,
   "metadata": {},
   "outputs": [
    {
     "name": "stdout",
     "output_type": "stream",
     "text": [
      "True\n",
      "False\n",
      "True\n",
      "True True\n"
     ]
    }
   ],
   "source": [
    "an =  \"12Ka4\"\n",
    "an2 = \"1 2 ka 4\"\n",
    "a = \"hello\"\n",
    "num = \"123\"\n",
    "print(an.isalnum()) # checks weather the str contains alpha-numeric characters?\n",
    "print(an2.isalnum())  # gives false becz of space.\n",
    "print(a.isalpha()) # checks weather the str contains only alphabats or not.\n",
    "print(num.isnumeric(),num.isdigit())"
   ]
  },
  {
   "cell_type": "code",
   "execution_count": 55,
   "metadata": {},
   "outputs": [
    {
     "name": "stdout",
     "output_type": "stream",
     "text": [
      "False\n",
      "True\n",
      "True\n",
      "True\n"
     ]
    }
   ],
   "source": [
    "a= \"HELLO\"\n",
    "b = \"Hello\"\n",
    "c = \"22 Names\"\n",
    "d = \"This Is %!\"\n",
    "print(a.istitle())\n",
    "print(b.istitle())\n",
    "print(c.istitle())\n",
    "print(d.istitle())  # for true, only the first letter should be uppercase, other char do not affect."
   ]
  },
  {
   "cell_type": "code",
   "execution_count": 56,
   "metadata": {},
   "outputs": [
    {
     "name": "stdout",
     "output_type": "stream",
     "text": [
      "False\n",
      "True\n",
      "False\n"
     ]
    }
   ],
   "source": [
    "a = \"My Folder\"\n",
    "b = \"Demo124\"\n",
    "c = \"124 Demo\"\n",
    "print(a.isidentifier())\n",
    "print(b.isidentifier())\n",
    "print(c.isidentifier()) # checks weather the str can be an identifier or not."
   ]
  },
  {
   "cell_type": "code",
   "execution_count": 58,
   "metadata": {},
   "outputs": [
    {
     "name": "stdout",
     "output_type": "stream",
     "text": [
      "True False\n"
     ]
    }
   ],
   "source": [
    "t = \"  \"\n",
    "t2 = \"  Hello\"\n",
    "print(t.isspace(),t2.isspace())"
   ]
  },
  {
   "cell_type": "code",
   "execution_count": 67,
   "metadata": {},
   "outputs": [
    {
     "name": "stdout",
     "output_type": "stream",
     "text": [
      "26\n",
      "Letters :  16\n",
      "Digits :  2\n",
      "Spaces :  4\n",
      "upper :  3\n",
      "lower :  13\n",
      "Special Char :  4\n"
     ]
    }
   ],
   "source": [
    "s = \"Pyt@$ho%n is 12 Very Ea$sy\"\n",
    "print(len(s))\n",
    "letters,uppers,lowers,specialchar,digits,spaces=0,0,0,0,0,0\n",
    "for i in s:\n",
    "    if i.isalpha():\n",
    "        letters+=1\n",
    "        if i.islower():\n",
    "            lowers+=1\n",
    "        else:\n",
    "            uppers+=1\n",
    "    elif i.isdigit():\n",
    "        digits+=1\n",
    "    elif i.isspace():\n",
    "        spaces+=1\n",
    "    else:\n",
    "        specialchar+=1\n",
    "print(\"Letters : \",letters)\n",
    "print(\"Digits : \",digits)\n",
    "print(\"Spaces : \",spaces)\n",
    "print(\"upper : \",uppers)\n",
    "print(\"lower : \",lowers)\n",
    "print(\"Special Char : \",specialchar)"
   ]
  },
  {
   "cell_type": "code",
   "execution_count": 5,
   "metadata": {},
   "outputs": [
    {
     "name": "stdout",
     "output_type": "stream",
     "text": [
      "17\n"
     ]
    }
   ],
   "source": [
    "s = \"Hello My Name is Suzy, Suzy with the Z  \"\n",
    "print(s.find(\"Suzy\"))"
   ]
  }
 ],
 "metadata": {
  "kernelspec": {
   "display_name": "Python 3",
   "language": "python",
   "name": "python3"
  },
  "language_info": {
   "codemirror_mode": {
    "name": "ipython",
    "version": 3
   },
   "file_extension": ".py",
   "mimetype": "text/x-python",
   "name": "python",
   "nbconvert_exporter": "python",
   "pygments_lexer": "ipython3",
   "version": "3.8.5"
  }
 },
 "nbformat": 4,
 "nbformat_minor": 4
}
