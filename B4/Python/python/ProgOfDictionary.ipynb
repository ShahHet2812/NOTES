{
 "cells": [
  {
   "cell_type": "code",
   "execution_count": 11,
   "metadata": {},
   "outputs": [
    {
     "name": "stdout",
     "output_type": "stream",
     "text": [
      "{1: 'A', 2: 'B'}\n",
      "{1: 'A', 2: 'B', 3: 'C'}\n"
     ]
    }
   ],
   "source": [
    "#d.setdefault(k,v) \n",
    "d = {1:'A',2:'B'}\n",
    "print(d)\n",
    "d.setdefault(3,'C')\n",
    "print(d)"
   ]
  },
  {
   "cell_type": "code",
   "execution_count": 4,
   "metadata": {},
   "outputs": [
    {
     "name": "stdout",
     "output_type": "stream",
     "text": [
      "Enter a string here : Hello My name is Suzy , Suzy with the Z \n",
      "{'Hello': 1, 'My': 1, 'name': 1, 'is': 1, 'Suzy': 2, ',': 1, 'with': 1, 'the': 1, 'Z': 1}\n"
     ]
    }
   ],
   "source": [
    "# wap that reads the word from paragraph and stores in the dict and count the freq of it.\n",
    "s = input(\"Enter a string here : \")\n",
    "l=s.split()\n",
    "word_count = {}\n",
    "for i in l:\n",
    "    if i in word_count:\n",
    "        word_count[i]+=1\n",
    "    else:\n",
    "        word_count[i]=1\n",
    "print(word_count)"
   ]
  },
  {
   "cell_type": "code",
   "execution_count": 7,
   "metadata": {},
   "outputs": [
    {
     "name": "stdout",
     "output_type": "stream",
     "text": [
      "Enter a string : My Name is Moksh Kothari, i study in Lj University\n",
      "{'M': ['My', 'Moksh'], 'N': ['Name'], 'i': ['is', 'i', 'in'], 'K': ['Kothari,'], 's': ['study'], 'L': ['Lj'], 'U': ['University']}\n"
     ]
    }
   ],
   "source": [
    "#WAp to create dict, with the key as the first char and values with the list of word, straing with that char.\n",
    "s = input(\"Enter a string : \")\n",
    "l = s.split()\n",
    "alfa_count={}\n",
    "for i in l:\n",
    "    if i[0] in alfa_count:\n",
    "        alfa_count[i[0]].append(i)   # append here is used to add here as list\n",
    "    else:\n",
    "        alfa_count[i[0]]=[i]\n",
    "print(alfa_count)"
   ]
  },
  {
   "cell_type": "code",
   "execution_count": null,
   "metadata": {},
   "outputs": [],
   "source": []
  }
 ],
 "metadata": {
  "kernelspec": {
   "display_name": "Python 3",
   "language": "python",
   "name": "python3"
  },
  "language_info": {
   "codemirror_mode": {
    "name": "ipython",
    "version": 3
   },
   "file_extension": ".py",
   "mimetype": "text/x-python",
   "name": "python",
   "nbconvert_exporter": "python",
   "pygments_lexer": "ipython3",
   "version": "3.8.5"
  }
 },
 "nbformat": 4,
 "nbformat_minor": 4
}
