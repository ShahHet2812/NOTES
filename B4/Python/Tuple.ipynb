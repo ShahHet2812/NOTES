{
 "cells": [
  {
   "cell_type": "code",
   "execution_count": 3,
   "metadata": {},
   "outputs": [
    {
     "name": "stdout",
     "output_type": "stream",
     "text": [
      "(10, 12, 14, 16, 18)\n",
      "(18, 16, 14)\n"
     ]
    }
   ],
   "source": [
    "t = (10)  # not considered as a tuple, need a coma --> (10,)\n",
    "t = tuple(range(10,20,2))\n",
    "print(t)\n",
    "print(t[-1:-4:-1])"
   ]
  },
  {
   "cell_type": "markdown",
   "metadata": {},
   "source": [
    "### Mathematical Operators\n"
   ]
  },
  {
   "cell_type": "code",
   "execution_count": 4,
   "metadata": {},
   "outputs": [
    {
     "name": "stdout",
     "output_type": "stream",
     "text": [
      "(10, 20, 30, 12, 11, 12)\n",
      "(10, 20, 30, 10, 20, 30)\n"
     ]
    }
   ],
   "source": [
    "t1 = (10,20,30)\n",
    "t2 = (12,11,12)\n",
    "print(t1+t2)\n",
    "print(t1*2)"
   ]
  },
  {
   "cell_type": "markdown",
   "metadata": {},
   "source": [
    "### Important Function"
   ]
  },
  {
   "cell_type": "code",
   "execution_count": 5,
   "metadata": {},
   "outputs": [],
   "source": [
    "# t=tuple\n",
    "# len(t) --> gives lenght of tuple.\n",
    "# t.count(element) --> gives count of the element.\n",
    "# t.index(element) --> gives index of the element number.\n",
    "# list = sorted(t) --> returns sorted list. and sorted(tuple,revese=true) gives revesed list\n",
    "# min(t) and max(t) returns min and max and string are compaired on Ascii"
   ]
  },
  {
   "cell_type": "code",
   "execution_count": 2,
   "metadata": {},
   "outputs": [
    {
     "name": "stdout",
     "output_type": "stream",
     "text": [
      "packing :  (1, 2, 3, 4)\n",
      "unpacking :  1 2 3 4\n"
     ]
    }
   ],
   "source": [
    "# TUPLE PACKING AND UNPACKING\n",
    "t = 1,2,3,4\n",
    "print(\"packing : \",t)\n",
    "a,b,c,d = t\n",
    "print(\"unpacking : \",a,b,c,d)\n",
    "#x,y,z = t"
   ]
  },
  {
   "cell_type": "code",
   "execution_count": 1,
   "metadata": {},
   "outputs": [
    {
     "name": "stdout",
     "output_type": "stream",
     "text": [
      "apple\n",
      "Banana\n",
      "mango\n"
     ]
    }
   ],
   "source": [
    "t = ('apple','Banana',\"mango\")\n",
    "count=0\n",
    "while count!=len(t):\n",
    "    print(t[count])\n",
    "    count+=1"
   ]
  },
  {
   "cell_type": "code",
   "execution_count": 13,
   "metadata": {},
   "outputs": [
    {
     "name": "stdout",
     "output_type": "stream",
     "text": [
      "['n', 'o', 'h', 't', 'y', 'P']\n"
     ]
    }
   ],
   "source": [
    "# reversed() makes the tuple,list all reversed\n",
    "s = \"Python\"\n",
    "print(list(reversed(s)))"
   ]
  },
  {
   "cell_type": "code",
   "execution_count": 16,
   "metadata": {},
   "outputs": [
    {
     "name": "stdout",
     "output_type": "stream",
     "text": [
      "[(10, 'eat'), (11, 'sleep'), (12, 'walk')]\n",
      "0 --> H\n",
      "1 --> e\n",
      "2 --> l\n",
      "3 --> l\n",
      "4 --> o\n",
      "5 -->  \n",
      "6 --> W\n",
      "7 --> o\n",
      "8 --> r\n",
      "9 --> l\n",
      "10 --> d\n",
      "11 -->  \n",
      "12 --> H\n",
      "13 --> o\n",
      "14 --> w\n",
      "15 -->  \n",
      "16 --> a\n",
      "17 --> r\n",
      "18 --> e\n",
      "19 -->  \n",
      "20 --> u\n"
     ]
    }
   ],
   "source": [
    "# enumerate(iterable,start=0)\n",
    "l1 = (\"eat\",\"sleep\",\"walk\")\n",
    "print(list(enumerate(l1,10)))\n",
    "s = \"Hello World How are u\"\n",
    "for i,j in enumerate(s):\n",
    "    print(i,\"-->\",j)"
   ]
  },
  {
   "cell_type": "code",
   "execution_count": 5,
   "metadata": {},
   "outputs": [
    {
     "name": "stdout",
     "output_type": "stream",
     "text": [
      "Enter a String:Het\n",
      "Enter Index:1\n",
      "Ht\n"
     ]
    }
   ],
   "source": [
    "#WAPP to remove ith character from a string\n",
    "s=input(\"Enter a String:\")\n",
    "i=int(input(\"Enter Index:\"))\n",
    "x=s[:i]+s[i+1:]\n",
    "print(x)"
   ]
  },
  {
   "cell_type": "code",
   "execution_count": 7,
   "metadata": {},
   "outputs": [
    {
     "name": "stdout",
     "output_type": "stream",
     "text": [
      "4\n"
     ]
    }
   ],
   "source": [
    "#WAPP to  find all occurances of a subbstring in the given string by ignoring the case\n",
    "s=\"Welcome to USA.usa is awesome,isn't it?Usain is from USA\"\n",
    "p=s.upper()\n",
    "x=p.count(\"USA\")\n",
    "print(x)"
   ]
  }
 ],
 "metadata": {
  "kernelspec": {
   "display_name": "Python 3",
   "language": "python",
   "name": "python3"
  },
  "language_info": {
   "codemirror_mode": {
    "name": "ipython",
    "version": 3
   },
   "file_extension": ".py",
   "mimetype": "text/x-python",
   "name": "python",
   "nbconvert_exporter": "python",
   "pygments_lexer": "ipython3",
   "version": "3.8.5"
  }
 },
 "nbformat": 4,
 "nbformat_minor": 4
}
