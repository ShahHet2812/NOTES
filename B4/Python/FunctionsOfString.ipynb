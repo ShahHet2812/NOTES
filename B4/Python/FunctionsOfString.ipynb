{
 "cells": [
  {
   "cell_type": "code",
   "execution_count": 30,
   "metadata": {},
   "outputs": [
    {
     "name": "stdout",
     "output_type": "stream",
     "text": [
      "0\n",
      "2\n"
     ]
    }
   ],
   "source": [
    "s = \"abcdefaaajdgfjdskjdffkjff\"\n",
    "print(s.count('z')) # gives the count of the subString.\n",
    "print(s.count('ff'))"
   ]
  },
  {
   "cell_type": "code",
   "execution_count": 1,
   "metadata": {},
   "outputs": [
    {
     "data": {
      "text/plain": [
       "'Moksh is My n.'"
      ]
     },
     "execution_count": 1,
     "metadata": {},
     "output_type": "execute_result"
    }
   ],
   "source": [
    "s = \"Moksh is My Name.\"\n",
    "s.replace('Name','n') # replace the Name with n and gives the same output if word not found."
   ]
  },
  {
   "cell_type": "code",
   "execution_count": 8,
   "metadata": {},
   "outputs": [
    {
     "name": "stdout",
     "output_type": "stream",
     "text": [
      "['Moksh'] ['Lj', 'University']\n",
      "['10', '12', '2006']\n",
      "['10-12-200', '']\n"
     ]
    }
   ],
   "source": [
    "# split() Splits the string by substring(by default Space) and store them in list\n",
    "s = \"Moksh\"\n",
    "s1 = \"Lj University\"\n",
    "s2 = \"10-12-2006\"\n",
    "print(s.split(),s1.split())\n",
    "print(s2.split('-'))\n",
    "print(s2.split('6'))  # If the last one is the spliter the the function genrates the blanck space."
   ]
  },
  {
   "cell_type": "code",
   "execution_count": 5,
   "metadata": {},
   "outputs": [
    {
     "name": "stdout",
     "output_type": "stream",
     "text": [
      "!\"#$%&'()*+,-./:;<=>?@[\\]^_`{|}~\n",
      "32\n",
      "{32: 32, 33: None, 34: None, 35: None, 36: None, 37: None, 38: None, 39: None, 40: None, 41: None, 42: None, 43: None, 44: None, 45: None, 46: None, 47: None, 58: None, 59: None, 60: None, 61: None, 62: None, 63: None, 64: None, 91: None, 92: None, 93: None, 94: None, 95: None, 96: None, 123: None, 124: None, 125: None, 126: None}\n",
      "M name Hs , wHth the Z.\n"
     ]
    }
   ],
   "source": [
    "# translate() with maketrans function\n",
    "# the main Diffrence betw, combination of (translate and maketrans) and replace is,\n",
    "# replace makes a particular word or char replace, where as here all the char (irrespect of the sequance of word.)\n",
    "import string\n",
    "print(string.punctuation) # gives all the special char\n",
    "print(len(string.punctuation))\n",
    "print(str.maketrans(\" \",\" \",string.punctuation)) # maketrans(\"To replace\",\"Replace from\",\"and to remove\")\n",
    "# print(str.maketrans(\"a\",\"bc\",\"$@\"))  ValueError: the first two maketrans arguments must have equal length\n",
    "s = \"My name is Suzy,Suzy with the Z.\"\n",
    "X = \"iS\"\n",
    "Y = \"He\"\n",
    "print(s.translate(s.maketrans(X,Y,'Suzy')))"
   ]
  },
  {
   "cell_type": "code",
   "execution_count": 7,
   "metadata": {},
   "outputs": [
    {
     "name": "stdout",
     "output_type": "stream",
     "text": [
      "Sum: 22\n",
      "Average: 3.142857142857143\n"
     ]
    }
   ],
   "source": [
    "#WAPP to calculate sum and average of the digits present in a string\n",
    "s=\"pyt@$123yh%4237\"\n",
    "sum=0\n",
    "count=0\n",
    "for i in s:\n",
    "    if i.isdigit():\n",
    "        sum+=int(i)\n",
    "        count+=1\n",
    "print(\"Sum:\",sum)\n",
    "average=sum/count\n",
    "print(\"Average:\",average)"
   ]
  },
  {
   "cell_type": "code",
   "execution_count": 2,
   "metadata": {},
   "outputs": [
    {
     "name": "stdout",
     "output_type": "stream",
     "text": [
      "pyt##123th#4237\n"
     ]
    }
   ],
   "source": [
    "#WAPP to replace each special symbol with # in the given string\n",
    "import string\n",
    "s=\"pyt@$123th%4237\"\n",
    "for i in string.punctuation:\n",
    "    s=s.replace(i,\"#\")\n",
    "print(s)"
   ]
  },
  {
   "cell_type": "code",
   "execution_count": 5,
   "metadata": {},
   "outputs": [
    {
     "name": "stdout",
     "output_type": "stream",
     "text": [
      "MIN: 10 MAX: 60\n"
     ]
    }
   ],
   "source": [
    "#WAPP to print minimum and maximum element in a given tuple without use of min,max fn\n",
    "t=(30,10,20,50,60)\n",
    "max=t[0]\n",
    "min=t[0]\n",
    "for i in t:\n",
    "    if max<i:\n",
    "        max=i\n",
    "    if min>i:\n",
    "        min=i\n",
    "print(\"MIN:\",min,\"MAX:\",max)"
   ]
  },
  {
   "cell_type": "code",
   "execution_count": 9,
   "metadata": {},
   "outputs": [
    {
     "name": "stdout",
     "output_type": "stream",
     "text": [
      "to LJ University "
     ]
    }
   ],
   "source": [
    "#WAPP to print even length words in a given string\n",
    "s=\"Welcome to LJ University\"\n",
    "x=s.split()\n",
    "for i in x:\n",
    "    if len(i)%2==0:\n",
    "        print(i,end=\" \")"
   ]
  },
  {
   "cell_type": "code",
   "execution_count": 11,
   "metadata": {},
   "outputs": [
    {
     "name": "stdout",
     "output_type": "stream",
     "text": [
      "Het\n"
     ]
    }
   ],
   "source": [
    "#WAPP to uppercase the half string\n",
    "s=\"University\"\n",
    "print(s[:len(s)//2].upper()+s[len(s)//2:])"
   ]
  },
  {
   "cell_type": "code",
   "execution_count": 29,
   "metadata": {},
   "outputs": [
    {
     "name": "stdout",
     "output_type": "stream",
     "text": [
      "TejaS ThakkaR IS\n"
     ]
    }
   ],
   "source": [
    "#WAP to capitalize 1st and last letter of each word\n",
    "s=\"tejas thakkar is\"\n",
    "s=s.title()\n",
    "x=s.split()\n",
    "result=\"\"\n",
    "for i in x:\n",
    "    result+=i[:-1]+i[-1].upper()+\" \"\n",
    "print(result.rstrip())"
   ]
  },
  {
   "cell_type": "code",
   "execution_count": 39,
   "metadata": {},
   "outputs": [
    {
     "name": "stdout",
     "output_type": "stream",
     "text": [
      "Balanced\n"
     ]
    }
   ],
   "source": [
    "#WAP to check if 2 strings are balanced\n",
    "#If all the chars of s1 are present in s2 position doesn't matter\n",
    "s1=\"tejas\"\n",
    "s2=\"satejxyz\"\n",
    "flag=0\n",
    "for i in s1:\n",
    "    if i in s2:\n",
    "        continue\n",
    "    else:\n",
    "        flag=1\n",
    "        break\n",
    "if flag==1:\n",
    "    print(\"Not Balanced\")\n",
    "else:\n",
    "    print(\"Balanced\")"
   ]
  },
  {
   "cell_type": "code",
   "execution_count": 56,
   "metadata": {},
   "outputs": [
    {
     "name": "stdout",
     "output_type": "stream",
     "text": [
      "Enter a digit:123654\n",
      "Enter no of shifts:7\n",
      "456321\n"
     ]
    }
   ],
   "source": [
    "#WAPP TO shift the decimal digits and places to the left wrapping the extra digits aroung if shift is greater than the no of digits than reverse the digits\n",
    "a=int(input(\"Enter a digit:\"))\n",
    "s=str(a)\n",
    "n=int(input(\"Enter no of shifts:\"))\n",
    "result=\"\"\n",
    "if n>len(s):\n",
    "    print(s[::-1])\n",
    "else:\n",
    "    print(s[n:]+s[:n])"
   ]
  }
 ],
 "metadata": {
  "kernelspec": {
   "display_name": "Python 3",
   "language": "python",
   "name": "python3"
  },
  "language_info": {
   "codemirror_mode": {
    "name": "ipython",
    "version": 3
   },
   "file_extension": ".py",
   "mimetype": "text/x-python",
   "name": "python",
   "nbconvert_exporter": "python",
   "pygments_lexer": "ipython3",
   "version": "3.8.5"
  }
 },
 "nbformat": 4,
 "nbformat_minor": 4
}
