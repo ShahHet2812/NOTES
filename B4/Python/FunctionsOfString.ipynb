{
 "cells": [
  {
   "cell_type": "code",
   "execution_count": 2,
   "metadata": {},
   "outputs": [
    {
     "name": "stdout",
     "output_type": "stream",
     "text": [
      "4\n",
      "2\n"
     ]
    }
   ],
   "source": [
    "s = \"abcdefaaajdgfjdskjdffkjff\"\n",
    "print(s.count('a')) # gives the count of the subString.\n",
    "print(s.count('ff'))"
   ]
  },
  {
   "cell_type": "code",
   "execution_count": 1,
   "metadata": {},
   "outputs": [
    {
     "data": {
      "text/plain": [
       "'Moksh is My n.'"
      ]
     },
     "execution_count": 1,
     "metadata": {},
     "output_type": "execute_result"
    }
   ],
   "source": [
    "s = \"Moksh is My Name.\"\n",
    "s.replace('Name','n') # replace the Name with n and gives the same output if word not found."
   ]
  },
  {
   "cell_type": "code",
   "execution_count": 8,
   "metadata": {},
   "outputs": [
    {
     "name": "stdout",
     "output_type": "stream",
     "text": [
      "['Moksh'] ['Lj', 'University']\n",
      "['10', '12', '2006']\n",
      "['10-12-200', '']\n"
     ]
    }
   ],
   "source": [
    "# split() Splits the string by substring(by default Space) and store them in list\n",
    "s = \"Moksh\"\n",
    "s1 = \"Lj University\"\n",
    "s2 = \"10-12-2006\"\n",
    "print(s.split(),s1.split())\n",
    "print(s2.split('-'))\n",
    "print(s2.split('6'))  # If the last one is the spliter the the function genrates the blanck space."
   ]
  },
  {
   "cell_type": "code",
   "execution_count": 5,
   "metadata": {},
   "outputs": [
    {
     "name": "stdout",
     "output_type": "stream",
     "text": [
      "!\"#$%&'()*+,-./:;<=>?@[\\]^_`{|}~\n",
      "32\n",
      "{32: 32, 33: None, 34: None, 35: None, 36: None, 37: None, 38: None, 39: None, 40: None, 41: None, 42: None, 43: None, 44: None, 45: None, 46: None, 47: None, 58: None, 59: None, 60: None, 61: None, 62: None, 63: None, 64: None, 91: None, 92: None, 93: None, 94: None, 95: None, 96: None, 123: None, 124: None, 125: None, 126: None}\n",
      "M name Hs , wHth the Z.\n"
     ]
    }
   ],
   "source": [
    "# translate() with maketrans function\n",
    "# the main Diffrence betw, combination of (translate and maketrans) and replace is,\n",
    "# replace makes a particular word or char replace, where as here all the char (irrespect of the sequance of word.)\n",
    "import string\n",
    "print(string.punctuation) # gives all the special char\n",
    "print(len(string.punctuation))\n",
    "print(str.maketrans(\" \",\" \",string.punctuation)) # maketrans(\"To replace\",\"Replace from\",\"and to remove\")\n",
    "# print(str.maketrans(\"a\",\"bc\",\"$@\"))  ValueError: the first two maketrans arguments must have equal length\n",
    "s = \"My name is Suzy,Suzy with the Z.\"\n",
    "X = \"iS\"\n",
    "Y = \"He\"\n",
    "print(s.translate(s.maketrans(X,Y,'Suzy')))"
   ]
  },
  {
   "cell_type": "code",
   "execution_count": null,
   "metadata": {},
   "outputs": [],
   "source": []
  }
 ],
 "metadata": {
  "kernelspec": {
   "display_name": "Python 3",
   "language": "python",
   "name": "python3"
  },
  "language_info": {
   "codemirror_mode": {
    "name": "ipython",
    "version": 3
   },
   "file_extension": ".py",
   "mimetype": "text/x-python",
   "name": "python",
   "nbconvert_exporter": "python",
   "pygments_lexer": "ipython3",
   "version": "3.8.5"
  }
 },
 "nbformat": 4,
 "nbformat_minor": 4
}
