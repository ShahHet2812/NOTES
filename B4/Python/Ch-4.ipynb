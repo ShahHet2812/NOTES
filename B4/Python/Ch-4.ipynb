{
 "cells": [
  {
   "cell_type": "markdown",
   "metadata": {},
   "source": [
    "### Chapter:4 Immutable Data Structure"
   ]
  },
  {
   "cell_type": "markdown",
   "metadata": {},
   "source": [
    "1)String\n",
    "2)Tuple"
   ]
  },
  {
   "cell_type": "markdown",
   "metadata": {},
   "source": [
    "*Accessing character of String\n",
    "1)By using index\n",
    "2)By using Slicing Operation"
   ]
  },
  {
   "cell_type": "code",
   "execution_count": 2,
   "metadata": {},
   "outputs": [
    {
     "name": "stdout",
     "output_type": "stream",
     "text": [
      "J\n",
      "y\n",
      "r\n"
     ]
    }
   ],
   "source": [
    "s=\"LJ University\"\n",
    "print(s[1])\n",
    "print(s[-1])\n",
    "print(s[-5])\n",
    "#print(s[20])  #ERROR"
   ]
  },
  {
   "cell_type": "markdown",
   "metadata": {},
   "source": [
    "Syntax of Slicing:\n",
    "s[begin index:end index:step]"
   ]
  },
  {
   "cell_type": "code",
   "execution_count": 11,
   "metadata": {},
   "outputs": [
    {
     "name": "stdout",
     "output_type": "stream",
     "text": [
      "earnin\n",
      "eri\n",
      "Learnin\n",
      "Python is very easy!!\n",
      "Learning Python is very easy!!\n",
      "Learning Python is very easy!!\n",
      "!!ysae yrev si nohtyP gninraeL\n",
      "!!y\n"
     ]
    }
   ],
   "source": [
    "s='Learning Python is very easy!!'\n",
    "print(s[1:7:1])\n",
    "print(s[1:7:2])\n",
    "print(s[:7])\n",
    "print(s[9:])\n",
    "print(s[::])\n",
    "print(s[:])\n",
    "print(s[::-1])\n",
    "print(s[-1:-4:-1])"
   ]
  },
  {
   "cell_type": "markdown",
   "metadata": {},
   "source": [
    "*Mathematical Operator for String\n",
    "+ --> Concatination\n",
    "* -->Repetation or String Multiplation"
   ]
  },
  {
   "cell_type": "code",
   "execution_count": 12,
   "metadata": {},
   "outputs": [
    {
     "name": "stdout",
     "output_type": "stream",
     "text": [
      "ArmanDhairya\n",
      "LuckyLuckyLuckyLucky\n"
     ]
    }
   ],
   "source": [
    "print(\"Arman\"+\"Dhairya\")\n",
    "print(\"Lucky\"*4)"
   ]
  },
  {
   "cell_type": "markdown",
   "metadata": {},
   "source": [
    "*Compairision of String"
   ]
  },
  {
   "cell_type": "code",
   "execution_count": 18,
   "metadata": {},
   "outputs": [
    {
     "name": "stdout",
     "output_type": "stream",
     "text": [
      "Enter first String:het\n",
      "Enter second String:hets\n",
      "Second String is greater\n"
     ]
    }
   ],
   "source": [
    "s1=input(\"Enter first String:\")\n",
    "s2=input(\"Enter second String:\")\n",
    "if s1==s2:\n",
    "    print(\"Both Strings are Equal\")\n",
    "elif s1<s2:\n",
    "    print(\"Second String is greater\")\n",
    "else:\n",
    "    print(\"First String is Greater\")"
   ]
  },
  {
   "cell_type": "markdown",
   "metadata": {},
   "source": [
    "*Joining of String\n",
    "Syntax:\n",
    "s=separator.join(group of strings)"
   ]
  },
  {
   "cell_type": "code",
   "execution_count": 22,
   "metadata": {},
   "outputs": [
    {
     "name": "stdout",
     "output_type": "stream",
     "text": [
      "Apple-Banana-Cherry\n"
     ]
    }
   ],
   "source": [
    "t=(\"Apple\",\"Banana\",\"Cherry\")\n",
    "s=\"-\".join(t)\n",
    "print(s)"
   ]
  },
  {
   "cell_type": "raw",
   "metadata": {},
   "source": [
    "*Formatting of String"
   ]
  },
  {
   "cell_type": "code",
   "execution_count": 27,
   "metadata": {},
   "outputs": [
    {
     "name": "stdout",
     "output_type": "stream",
     "text": [
      "Arman's salary is 50000 and his age is 24\n",
      "Arman's salary is 50000 and his age is 24\n",
      "50000's salary is Arman and his age is 24\n",
      "Arman's salary is and his age is 50000\n"
     ]
    }
   ],
   "source": [
    "name=\"Arman\"\n",
    "salary=50000\n",
    "age=24\n",
    "print(\"{}'s salary is {} and his age is {}\".format(name,salary,age))\n",
    "print(\"{0}'s salary is {1} and his age is {2}\".format(name,salary,age))\n",
    "print(\"{1}'s salary is {0} and his age is {2}\".format(name,salary,age))\n",
    "print(\"{}'s salary is and his age is {}\".format(name,salary,age))\n",
    "#print(\"{}'s salary is {} and his age is {} {}\".format(name,salary,age)) #ERROR"
   ]
  },
  {
   "cell_type": "markdown",
   "metadata": {},
   "source": [
    "*Important functions of String\n",
    "1)len()\n",
    "2)Removing spaces from String:1)lstrip 2)rstrip 3)strip"
   ]
  },
  {
   "cell_type": "code",
   "execution_count": 37,
   "metadata": {},
   "outputs": [
    {
     "name": "stdout",
     "output_type": "stream",
     "text": [
      "13\n",
      "LJ UNIVERSITY    \n",
      "    LJ UNIVERSITY\n",
      "LJ UNIVERSITY\n",
      "17\n",
      "17\n",
      "13\n",
      "b\n",
      "m\n"
     ]
    }
   ],
   "source": [
    "a=\"LJ University\"\n",
    "print(len(a))\n",
    "b=\"    LJ UNIVERSITY    \"\n",
    "x=b.lstrip()\n",
    "y=b.rstrip()\n",
    "z=b.strip()\n",
    "print(x)\n",
    "print(y)\n",
    "print(z)\n",
    "print(len(x))\n",
    "print(len(y))\n",
    "print(len(z))\n",
    "c=\"banana\"\n",
    "print(c.rstrip(\"an\"))\n",
    "d=\"naman\"\n",
    "print(d.strip(\"na\"))"
   ]
  },
  {
   "cell_type": "markdown",
   "metadata": {},
   "source": [
    "*Changing the case of String\n",
    "1)upper()\n",
    "2)lower()\n",
    "3)swapcase()\n",
    "4)title()\n",
    "5)capitalize()"
   ]
  },
  {
   "cell_type": "code",
   "execution_count": 44,
   "metadata": {},
   "outputs": [
    {
     "name": "stdout",
     "output_type": "stream",
     "text": [
      "HELLO FRIENDS\n",
      "hello friends\n",
      "hELLO fRIENDS\n",
      "Hello Friends\n",
      "Hello friends\n"
     ]
    }
   ],
   "source": [
    "t=\"Hello Friends\"\n",
    "print(t.upper())\n",
    "print(t.lower())\n",
    "print(t.swapcase())\n",
    "print(t.title())\n",
    "print(t.capitalize())"
   ]
  },
  {
   "cell_type": "markdown",
   "metadata": {},
   "source": [
    "*To check type of character present in a string\n",
    "*Answer only in true or false\n",
    "1)isalnum():Returns true if all characters are alpha nums(a to z,A to Z,0 to 9)\n",
    "2)isalpha():Returns true if all characters are alpha(a to z,A to Z)\n",
    "3)isnumeric() or isdigit():Returns true if all characters are nums(0 to 9)\n",
    "4)islower():Returns true if all alphabets are in lower case\n",
    "5)isupper():Returns true if all alphabets are in upper case\n",
    "6)istitle():Returns true if first letter of all words are in upper case\n",
    "7)isidentifier():\n",
    "8)isspace()"
   ]
  },
  {
   "cell_type": "code",
   "execution_count": 3,
   "metadata": {},
   "outputs": [
    {
     "name": "stdout",
     "output_type": "stream",
     "text": [
      "True\n",
      "False\n"
     ]
    }
   ],
   "source": [
    "t=\"Company123\"\n",
    "x=t.isalnum()\n",
    "print(x)\n",
    "q=\"Company 123\"\n",
    "y=q.isalnum()\n",
    "print(y)"
   ]
  },
  {
   "cell_type": "code",
   "execution_count": 4,
   "metadata": {},
   "outputs": [
    {
     "name": "stdout",
     "output_type": "stream",
     "text": [
      "True\n"
     ]
    }
   ],
   "source": [
    "t=\"Company\"\n",
    "x=t.isalpha()\n",
    "print(x)"
   ]
  },
  {
   "cell_type": "code",
   "execution_count": 5,
   "metadata": {},
   "outputs": [
    {
     "name": "stdout",
     "output_type": "stream",
     "text": [
      "True True\n"
     ]
    }
   ],
   "source": [
    "t=\"500500\"\n",
    "x=t.isdigit()\n",
    "y=t.isnumeric()\n",
    "print(x,y)"
   ]
  },
  {
   "cell_type": "code",
   "execution_count": 10,
   "metadata": {},
   "outputs": [
    {
     "name": "stdout",
     "output_type": "stream",
     "text": [
      "True\n",
      "True\n",
      "True\n"
     ]
    }
   ],
   "source": [
    "t=\"het12\"\n",
    "x=t.islower()\n",
    "print(x)\n",
    "q=\"HET@28\"\n",
    "y=q.isupper()\n",
    "print(y)"
   ]
  },
  {
   "cell_type": "code",
   "execution_count": 17,
   "metadata": {},
   "outputs": [
    {
     "name": "stdout",
     "output_type": "stream",
     "text": [
      "False\n",
      "True\n",
      "True\n",
      "True\n",
      "True\n"
     ]
    }
   ],
   "source": [
    "w=\"Hello World\"\n",
    "a=\"HELLO HOW ARE YOU\"\n",
    "b=\"Hello\"\n",
    "c=\"22 Names\"\n",
    "d=\"This Is $\"\n",
    "print(a.istitle())\n",
    "print(b.istitle())\n",
    "print(c.istitle())\n",
    "print(d.istitle())\n",
    "print(w.istitle())"
   ]
  },
  {
   "cell_type": "code",
   "execution_count": 19,
   "metadata": {},
   "outputs": [
    {
     "name": "stdout",
     "output_type": "stream",
     "text": [
      "True\n",
      "True\n",
      "False\n",
      "False\n"
     ]
    }
   ],
   "source": [
    "s=\"MyFolder\"\n",
    "b=\"Demo002\"\n",
    "c=\"2Demo\"\n",
    "d=\"my demo\"\n",
    "print(s.isidentifier())\n",
    "print(b.isidentifier())\n",
    "print(c.isidentifier())\n",
    "print(d.isidentifier())"
   ]
  },
  {
   "cell_type": "code",
   "execution_count": 22,
   "metadata": {},
   "outputs": [
    {
     "name": "stdout",
     "output_type": "stream",
     "text": [
      "True\n"
     ]
    }
   ],
   "source": [
    "t=\"         \"\n",
    "print(t.isspace())"
   ]
  },
  {
   "cell_type": "code",
   "execution_count": 28,
   "metadata": {},
   "outputs": [
    {
     "name": "stdout",
     "output_type": "stream",
     "text": [
      "Letters: 16\n",
      "Digits: 2\n",
      "Spaces: 4\n",
      "Special Characters: 4\n",
      "Upper Cased Letters: 3\n",
      "Lower Cased Letters: 13\n"
     ]
    }
   ],
   "source": [
    "s=\"Pyt@$ho%n is 12 Very Ea$sy\"\n",
    "letter=0\n",
    "digits=0\n",
    "space=0\n",
    "special=0\n",
    "uc=0\n",
    "lc=0\n",
    "for i in range(0,len(s)):\n",
    "    if s[i].isalpha():\n",
    "        letter=letter+1\n",
    "        if s[i].islower():\n",
    "            lc=lc+1\n",
    "        elif s[i].isupper():\n",
    "            uc=uc+1\n",
    "    elif s[i].isdigit():\n",
    "        digits=digits+1\n",
    "    elif s[i].isspace():\n",
    "        space=space+1\n",
    "    else:\n",
    "        special=special+1\n",
    "print(\"Letters:\",letter)\n",
    "print(\"Digits:\",digits)\n",
    "print(\"Spaces:\",space)\n",
    "print(\"Special Characters:\",special)\n",
    "print(\"Upper Cased Letters:\",uc)\n",
    "print(\"Lower Cased Letters:\",lc)"
   ]
  },
  {
   "cell_type": "markdown",
   "metadata": {},
   "source": [
    "*find()\n",
    "Syntax:\n",
    "s.find(substring)\n",
    "s.find(substring,begin,end)"
   ]
  },
  {
   "cell_type": "code",
   "execution_count": 40,
   "metadata": {},
   "outputs": [
    {
     "name": "stdout",
     "output_type": "stream",
     "text": [
      "-1\n"
     ]
    }
   ],
   "source": [
    "s=\"Learning Python is very Easy\"\n",
    "print(s.find(\"Python  \"))"
   ]
  }
 ],
 "metadata": {
  "kernelspec": {
   "display_name": "Python 3",
   "language": "python",
   "name": "python3"
  },
  "language_info": {
   "codemirror_mode": {
    "name": "ipython",
    "version": 3
   },
   "file_extension": ".py",
   "mimetype": "text/x-python",
   "name": "python",
   "nbconvert_exporter": "python",
   "pygments_lexer": "ipython3",
   "version": "3.8.5"
  }
 },
 "nbformat": 4,
 "nbformat_minor": 4
}
