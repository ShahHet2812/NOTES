{
 "cells": [
  {
   "cell_type": "code",
   "execution_count": 4,
   "metadata": {},
   "outputs": [],
   "source": [
    "#WAPP to find the index at which the elements of do list does not match\n",
    "l=[1,2,3,4,5,6]\n",
    "m=[1,5,3,4,7,8]\n"
   ]
  },
  {
   "cell_type": "code",
   "execution_count": 32,
   "metadata": {},
   "outputs": [
    {
     "name": "stdout",
     "output_type": "stream",
     "text": [
      "Enter list:[1,2,3,4,5]\n",
      "Original List [1, 2, 3, 4, 5]\n",
      "Total no of special characters 0\n"
     ]
    }
   ],
   "source": [
    "'''Given  list l of size n you need to count the number of special elements in the given list and element \n",
    "is special if the removal of the element makes the list balanced the list will be balanced if the sum of \n",
    "even index element is equal to the sum of odd index elements also print the updated list after removal of \n",
    "special elements'''\n",
    "l=eval(input(\"Enter list:\"))\n",
    "print(\"Original List\",l)\n",
    "count=0\n",
    "for i in range(len(l)):\n",
    "    x=l.copy()\n",
    "    x.pop(i)\n",
    "    sumo=sume=0\n",
    "    for k in x[::2]:\n",
    "        sume=sume+k\n",
    "    for k in x[1::2]:\n",
    "        sumo+=k\n",
    "    if sumo==sume:\n",
    "        print(\"Index to be removed\",i)\n",
    "        count+=1\n",
    "        print(\"List after removing index\",i,\"is\",l[0:i]+l[i+1:])\n",
    "print(\"Total no of special characters\",count)"
   ]
  },
  {
   "cell_type": "markdown",
   "metadata": {},
   "source": [
    "#### Lambda Function\n",
    "Function without any name is called anonymous or lambda function\n",
    "Syntax:lambda argument_list:expression\n",
    "\n",
    "1)map\n",
    "2)reduce\n",
    "3)filter\n",
    "\n",
    "1)map:Syntax:map(function,sequence)\n",
    "==>for every element present in given sequence,apply some functionality and generate new element with required modification\n",
    "\n",
    "2)reduce:Syntax:reduce(function,sequence)\n",
    "==>reduce sequence of elements into a single element by applying the specific function\n",
    "==>reduce function present in functools module so we need to import that first to use reduce() function\n",
    "\n",
    "3)filter:Syntax:filter(function,sequence)\n",
    "==>We can use filter function to filter values from given sequence based on some condition\n",
    "==>function argument is responsible to perform condition check\n",
    "==>sequence can be list,tuple,string"
   ]
  },
  {
   "cell_type": "code",
   "execution_count": 35,
   "metadata": {},
   "outputs": [
    {
     "name": "stdout",
     "output_type": "stream",
     "text": [
      "64\n"
     ]
    }
   ],
   "source": [
    "def square(n):\n",
    "    return n**2\n",
    "print(square(8))"
   ]
  },
  {
   "cell_type": "code",
   "execution_count": 39,
   "metadata": {},
   "outputs": [
    {
     "name": "stdout",
     "output_type": "stream",
     "text": [
      "The square is: 100\n"
     ]
    }
   ],
   "source": [
    "s=lambda n:n*n\n",
    "print(\"The square is:\",s(10))"
   ]
  },
  {
   "cell_type": "code",
   "execution_count": 42,
   "metadata": {},
   "outputs": [
    {
     "name": "stdout",
     "output_type": "stream",
     "text": [
      "The sum is: 25\n"
     ]
    }
   ],
   "source": [
    "s=lambda a,b:a+b\n",
    "print(\"The sum is:\",s(10,15))"
   ]
  },
  {
   "cell_type": "code",
   "execution_count": 43,
   "metadata": {},
   "outputs": [
    {
     "name": "stdout",
     "output_type": "stream",
     "text": [
      "[2, 4, 6, 8, 10]\n"
     ]
    }
   ],
   "source": [
    "l=[1,2,3,4,5]\n",
    "def double(x):\n",
    "    return 2*x\n",
    "l1=list(map(double,l))\n",
    "print(l1)"
   ]
  },
  {
   "cell_type": "code",
   "execution_count": 45,
   "metadata": {},
   "outputs": [
    {
     "name": "stdout",
     "output_type": "stream",
     "text": [
      "[2, 4, 6, 8, 10]\n"
     ]
    }
   ],
   "source": [
    "l=[1,2,3,4,5]\n",
    "l1=list(map(lambda n:2*n,l))\n",
    "print(l1)"
   ]
  },
  {
   "cell_type": "code",
   "execution_count": 50,
   "metadata": {},
   "outputs": [
    {
     "name": "stdout",
     "output_type": "stream",
     "text": [
      "[5, 7, 9, 11, 13]\n"
     ]
    }
   ],
   "source": [
    "l1=[1,2,3,4,5]\n",
    "l2=[4,5,6,7,8]\n",
    "l=list(map(lambda x,y:x+y,l1,l2))\n",
    "print(l)"
   ]
  },
  {
   "cell_type": "code",
   "execution_count": 48,
   "metadata": {},
   "outputs": [
    {
     "name": "stdout",
     "output_type": "stream",
     "text": [
      "150\n",
      "12000000\n"
     ]
    }
   ],
   "source": [
    "from functools import *\n",
    "l=[10,20,30,40,50]\n",
    "sum=reduce(lambda x,y:x+y,l)\n",
    "print(sum)\n",
    "mul=reduce(lambda x,y:x*y,l)\n",
    "print(mul)"
   ]
  },
  {
   "cell_type": "code",
   "execution_count": 51,
   "metadata": {},
   "outputs": [
    {
     "name": "stdout",
     "output_type": "stream",
     "text": [
      "[0, 10, 20, 30]\n"
     ]
    }
   ],
   "source": [
    "def isEven(x):\n",
    "    if x%2==0:\n",
    "        return True\n",
    "    else:\n",
    "        return False\n",
    "l=[0,5,10,15,20,25,30]\n",
    "l1=list(filter(isEven,l))\n",
    "print(l1)"
   ]
  },
  {
   "cell_type": "code",
   "execution_count": 56,
   "metadata": {},
   "outputs": [
    {
     "name": "stdout",
     "output_type": "stream",
     "text": [
      "[0, 10, 20, 30]\n"
     ]
    }
   ],
   "source": [
    "l=[0,5,10,15,20,25,30]\n",
    "l1=list(filter(lambda x:x%2==0,l))\n",
    "print(l1)"
   ]
  },
  {
   "cell_type": "code",
   "execution_count": 57,
   "metadata": {},
   "outputs": [
    {
     "name": "stdout",
     "output_type": "stream",
     "text": [
      "Enter list of strings[\"het\",\"aayush\"]\n",
      "['HET', 'AAYUSH']\n"
     ]
    }
   ],
   "source": [
    "#WAPP to convert strings to uppercase using map function\n",
    "l=eval(input(\"Enter list of strings\"))\n",
    "l1=list(map(lambda s:s.upper(),l))\n",
    "print(l1)"
   ]
  },
  {
   "cell_type": "code",
   "execution_count": 58,
   "metadata": {},
   "outputs": [
    {
     "name": "stdout",
     "output_type": "stream",
     "text": [
      "Enter list of strings[\"het\",\"aayush\"]\n",
      "['aayush']\n"
     ]
    }
   ],
   "source": [
    "#WAPP to filter words with length>5\n",
    "l=eval(input(\"Enter list of strings\"))\n",
    "l1=list(filter(lambda s:len(s)>5,l))\n",
    "print(l1)"
   ]
  }
 ],
 "metadata": {
  "kernelspec": {
   "display_name": "Python 3",
   "language": "python",
   "name": "python3"
  },
  "language_info": {
   "codemirror_mode": {
    "name": "ipython",
    "version": 3
   },
   "file_extension": ".py",
   "mimetype": "text/x-python",
   "name": "python",
   "nbconvert_exporter": "python",
   "pygments_lexer": "ipython3",
   "version": "3.8.5"
  }
 },
 "nbformat": 4,
 "nbformat_minor": 4
}
