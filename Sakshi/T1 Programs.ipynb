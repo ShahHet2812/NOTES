{
 "cells": [
  {
   "cell_type": "markdown",
   "metadata": {},
   "source": [
    "<b><font color=\"blue\">WAP to convert Celsius to Fahrenheit and vice-versa.</b>"
   ]
  },
  {
   "cell_type": "code",
   "execution_count": 10,
   "metadata": {},
   "outputs": [
    {
     "name": "stdout",
     "output_type": "stream",
     "text": [
      "Enter Your Choice:\n",
      "1.Celsius to Fahrenheit\n",
      "2.Fahrenheit to Celsius\n",
      "1\n",
      "Enter Celsius : 28\n",
      "Fahrenheit: 82.4\n"
     ]
    }
   ],
   "source": [
    "def celToFer(cel):\n",
    "    return ((9*cel/5)+32)\n",
    "\n",
    "def ferToCel(fer):\n",
    "    return ((fer-32)*(5/9))\n",
    "\n",
    "x = int(input(\"Enter Your Choice:\\n1.Celsius to Fahrenheit\\n2.Fahrenheit to Celsius\\n\"))\n",
    "\n",
    "if x==1:\n",
    "    y = int(input(\"Enter Celsius : \"))\n",
    "    print(\"Fahrenheit:\",celToFer(y))\n",
    "elif x==2:\n",
    "    y = int(input(\"Enter Fahrenheit: \"))\n",
    "    print(\"Celsius :\",ferToCel(y))\n",
    "else:\n",
    "    print(\"Invalid Choice\")"
   ]
  },
  {
   "cell_type": "code",
   "execution_count": 15,
   "metadata": {},
   "outputs": [
    {
     "name": "stdout",
     "output_type": "stream",
     "text": [
      "Enter Number : 5\n",
      "Enter Starting range : 1\n",
      "Enter Ending range : 10\n",
      "Yes\n"
     ]
    }
   ],
   "source": [
    "def checkNum(num,sr,er):\n",
    "    if(num>=sr and num<=er):\n",
    "        return \"Yes\"\n",
    "    return\"No\"\n",
    "\n",
    "num = int(input(\"Enter Number : \"))\n",
    "sr = int(input(\"Enter Starting range : \"))\n",
    "er = int(input(\"Enter Ending range : \"))\n",
    "\n",
    "print(checkNum(num,sr,er))"
   ]
  },
  {
   "cell_type": "code",
   "execution_count": 33,
   "metadata": {},
   "outputs": [
    {
     "name": "stdout",
     "output_type": "stream",
     "text": [
      "Enter Number : 130\n",
      "  1.Palindrome\n",
      "  2.Armstrong\n",
      "  3.Prime\n",
      "  4.Happy Number\n",
      "Enter Your Choice : 4\n",
      "Happy Number\n"
     ]
    }
   ],
   "source": [
    "def palindrome(num):\n",
    "    n=num\n",
    "    rev=0\n",
    "    while n!=0:\n",
    "        rev = (rev*10) + (n%10)\n",
    "        n//=10\n",
    "    if(num==rev):\n",
    "        return \"Palindrome\"\n",
    "    else:\n",
    "        return \"Not a Palindrome\"\n",
    "    \n",
    "def armstrong(num):\n",
    "    n=num\n",
    "    sum=0\n",
    "    while n!=0:\n",
    "        sum += (n%10)**3\n",
    "        n//=10\n",
    "    if(num==sum):\n",
    "        return \"Armstrong\"\n",
    "    else:\n",
    "        return \"Not a Armstrong\"\n",
    "\n",
    "def prime(num):\n",
    "    for i in range(2,num):\n",
    "        if(num%i==0):\n",
    "            return \"Prime\"\n",
    "    return \"Not Prime\"\n",
    "    \n",
    "def happy(num):\n",
    "    n = num\n",
    "    while True:\n",
    "        sum=0\n",
    "        while n!=0:\n",
    "            temp=n%10\n",
    "            sum += temp**2\n",
    "            n//=10\n",
    "        n = sum\n",
    "        if sum==1:\n",
    "            return \"Happy Number\"\n",
    "        elif sum==4:\n",
    "            return \"Not a Happy Number\"\n",
    "        \n",
    "num = int(input(\"Enter Number : \"))\n",
    "\n",
    "if (len(str(num))!=3):\n",
    "    print(\"Number Must be 3 Digit\")\n",
    "else:\n",
    "    c = int(input(\"  1.Palindrome\\n  2.Armstrong\\n  3.Prime\\n  4.Happy Number\\nEnter Your Choice : \"))\n",
    "    if c==1:\n",
    "        print(palindrome(num))\n",
    "    elif c==2:\n",
    "        print(armstrong(num))\n",
    "    elif c==3:\n",
    "        print(prime(num))\n",
    "    elif c==4:\n",
    "        print(happy(num))\n",
    "    else:\n",
    "        print(\"Invalid\")"
   ]
  },
  {
   "cell_type": "markdown",
   "metadata": {},
   "source": [
    "<h1>WAP that enters a single digit int num and produces all possible six digit nums for which the product of that digit equals to the enterd number</h1>"
   ]
  },
  {
   "cell_type": "code",
   "execution_count": 37,
   "metadata": {},
   "outputs": [
    {
     "name": "stdout",
     "output_type": "stream",
     "text": [
      "Enter single digit number : 4\n",
      "111114\n",
      "111122\n",
      "111141\n",
      "111212\n",
      "111221\n",
      "111411\n",
      "112112\n",
      "112121\n",
      "112211\n",
      "114111\n",
      "121112\n",
      "121121\n",
      "121211\n",
      "122111\n",
      "141111\n",
      "211112\n",
      "211121\n",
      "211211\n",
      "212111\n",
      "221111\n",
      "411111\n"
     ]
    }
   ],
   "source": [
    "num = int(input(\"Enter single digit number : \"))\n",
    "\n",
    "for i in range(100000,1000000):\n",
    "    temp=i\n",
    "    prod=1\n",
    "    \n",
    "    while(temp!=0):\n",
    "        prod *= (temp%10)\n",
    "        temp//=10\n",
    "    \n",
    "    if(prod==num):\n",
    "        print(i)\n",
    "    "
   ]
  },
  {
   "cell_type": "markdown",
   "metadata": {},
   "source": [
    "WAP that prompts the user to enter the num and stop only when the user enters stop after this print min and max and avg."
   ]
  },
  {
   "cell_type": "code",
   "execution_count": 3,
   "metadata": {},
   "outputs": [
    {
     "name": "stdout",
     "output_type": "stream",
     "text": [
      "You can enter 'Stop' to exit\n",
      "Enter number : 1\n",
      "You can enter 'Stop' to exit\n",
      "Enter number : 2\n",
      "You can enter 'Stop' to exit\n",
      "Enter number : 3\n",
      "You can enter 'Stop' to exit\n",
      "Enter number : Stop\n",
      "max: 3\n",
      "min: 0\n",
      "Avg: 3.0\n"
     ]
    }
   ],
   "source": [
    "min,max,avg,sum,c=0,0,0,0,0\n",
    "while True:\n",
    "    print(\"You can enter 'Stop' to exit\")\n",
    "    num = input(\"Enter number : \")\n",
    "    if num==\"Stop\":\n",
    "        break\n",
    "        \n",
    "    sum += int(num)\n",
    "    \n",
    "    if int(num)>max:\n",
    "        max = int(num)\n",
    "    if int(num)<min:\n",
    "        min = int(num)\n",
    "    c++\n",
    "    \n",
    "print(\"max:\",max)\n",
    "print(\"min:\",min)\n",
    "print(\"Avg:\",avg)"
   ]
  },
  {
   "cell_type": "markdown",
   "metadata": {},
   "source": [
    "<b>Gross pay, Annual Income, Income Tax Calculator</b>\n",
    "\n",
    "-> Gross pay consist of Basic pay, HRA, DA, Other Allowance, Profession Tax, Providend fund, Transport Allowance.<br>\n",
    "-> Gross pay = Basic pay + HRA + DA + Other Allowance + Transport Allowance - Profession Tax - Providend fund<br>\n",
    "-> Profession Tax = 200 Rs. for each grade level and each month<br>\n",
    "\n",
    "-> HRA - 0.3 times of basic pay -> class 1 cities\n",
    "         0.2 times of basic pay -> class 1 cities\n",
    "         0.1 times of basic pay -> class 1 cities"
   ]
  },
  {
   "cell_type": "code",
   "execution_count": 15,
   "metadata": {},
   "outputs": [
    {
     "name": "stdout",
     "output_type": "stream",
     "text": [
      "Enter Grade Level(A to F):B\n",
      "Enter City Class(1/2/3):1\n",
      "Gross Pay: 92200.0\n",
      "Annual Pay: 1106400.0\n",
      "Income Tax: 96280.0\n"
     ]
    }
   ],
   "source": [
    "gradeLevel = input(\"Enter Grade Level(A to F):\")\n",
    "cityClass = int(input(\"Enter City Class(1/2/3):\"))\n",
    "\n",
    "profTax=200\n",
    "TA = 900\n",
    "basicPay = 0\n",
    "OA = 0\n",
    "\n",
    "if gradeLevel=='A':\n",
    "    basicPay = 60000 \n",
    "    OA = 8000\n",
    "elif gradeLevel=='B':\n",
    "    basicPay = 50000 \n",
    "    OA = 7000\n",
    "elif gradeLevel=='C':\n",
    "    basicPay = 40000 \n",
    "    OA = 6000\n",
    "elif gradeLevel=='D':\n",
    "    basicPay = 30000 \n",
    "    OA = 5000\n",
    "elif gradeLevel=='E':\n",
    "    basicPay = 20000 \n",
    "    OA = 4000\n",
    "elif gradeLevel=='F':\n",
    "    basicPay = 10000 \n",
    "    OA = 3000\n",
    "else:\n",
    "    print(\"Invalid Choice\")\n",
    "    \n",
    "DA = basicPay*0.5\n",
    "PF = basicPay*0.11\n",
    "\n",
    "HRA = 0\n",
    "\n",
    "if cityClass==1:\n",
    "    HRA = basicPay*0.3\n",
    "elif cityClass==2:\n",
    "    HRA = basicPay*0.2\n",
    "elif cityClass==3:\n",
    "    HRA = basicPay*0.1\n",
    "else:\n",
    "    print(\"Invalid Choice\")\n",
    "    \n",
    "grossPay = basicPay + HRA + DA + OA + TA - profTax - PF\n",
    "annualPay = grossPay*12\n",
    "IT = 0\n",
    "\n",
    "if annualPay>250000 and annualPay<=500000:\n",
    "    IT = (annualPay-250000)*0.05\n",
    "elif annualPay>500000 and annualPay<=750000:\n",
    "    IT = (annualPay-500000)*0.1 + 12500\n",
    "elif annualPay>750000 and annualPay<=1000000:\n",
    "    IT = (annualPay-750000)*0.15 + 37500\n",
    "elif annualPay>1000000 and annualPay<=1250000:\n",
    "    IT = (annualPay-1000000)*0.2 + 75000\n",
    "elif annualPay>1250000 and annualPay<=1500000:\n",
    "    IT = (annualPay-1250000)*0.25 + 125000\n",
    "elif annualPay>1500000:\n",
    "    IT = (annualPay-1500000)*0.3 + 187500\n",
    "\n",
    "print(\"\\nGross Pay:\",grossPay)\n",
    "print(\"Annual Pay:\",annualPay)\n",
    "print(\"Income Tax:\",IT)"
   ]
  },
  {
   "cell_type": "markdown",
   "metadata": {},
   "source": [
    "WAP to get next day date of a given date."
   ]
  },
  {
   "cell_type": "code",
   "execution_count": 16,
   "metadata": {},
   "outputs": [
    {
     "name": "stdout",
     "output_type": "stream",
     "text": [
      "Enter Year:1\n",
      "Enter Month:1\n",
      "Enter Day:1\n",
      "hello\n"
     ]
    }
   ],
   "source": [
    "Year = int(input(\"Enter Year:\"))\n",
    "month = int(input(\"Enter Month:\"))\n",
    "day = int(input(\"Enter Day:\"))\n",
    "ny,nm,nd=0,0,0\n",
    "\n",
    "if (month<1 or month>12) or (day<1 or day>31):\n",
    "    print(\"invalid date\")\n",
    "elif month in (1,3,5,7,8,10,12):\n",
    "    if day==31:\n",
    "        if month==12:\n",
    "            ny=year+1\n",
    "            nm=1\n",
    "        else:\n",
    "            nm = month+1\n",
    "        nd=1\n",
    "    else:\n",
    "        nd = day + 1\n",
    "elif month==2:\n",
    "    if (y%4==0 and y%100!=0) or y%400==0:'\n",
    "        if day>29:\n",
    "            print(\"29 days in this month\")\n",
    "    else:\n",
    "        if day>28:\n",
    "            print(\"28 days in this month\")\n",
    "else:\n",
    "    if day==31:\n",
    "         print(\"30 days in this month\")\n",
    "    elif day==30:\n",
    "            nm=1\n",
    "    \n",
    "print(ny,\"-\",nm,\"-\",nd)"
   ]
  },
  {
   "cell_type": "code",
   "execution_count": 2,
   "metadata": {},
   "outputs": [
    {
     "name": "stdout",
     "output_type": "stream",
     "text": [
      "Enter Number:123\n",
      "91\n"
     ]
    }
   ],
   "source": [
    "num = int(input(\"Enter Number:\"))\n",
    "temp = num\n",
    "n=1\n",
    "while temp!=0:\n",
    "    t = temp%10\n",
    "    if t==9:\n",
    "        t=0\n",
    "    else:\n",
    "        t=t+1\n",
    "    n = (t*10) + n\n",
    "    temp //= 10\n",
    "print(n)"
   ]
  },
  {
   "cell_type": "code",
   "execution_count": null,
   "metadata": {},
   "outputs": [],
   "source": []
  }
 ],
 "metadata": {
  "kernelspec": {
   "display_name": "Python 3",
   "language": "python",
   "name": "python3"
  },
  "language_info": {
   "codemirror_mode": {
    "name": "ipython",
    "version": 3
   },
   "file_extension": ".py",
   "mimetype": "text/x-python",
   "name": "python",
   "nbconvert_exporter": "python",
   "pygments_lexer": "ipython3",
   "version": "3.8.5"
  }
 },
 "nbformat": 4,
 "nbformat_minor": 4
}
