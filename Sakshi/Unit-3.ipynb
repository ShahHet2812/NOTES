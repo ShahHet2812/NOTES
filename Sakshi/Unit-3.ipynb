{
 "cells": [
  {
   "cell_type": "markdown",
   "metadata": {},
   "source": [
    "# Functions\n",
    "\n",
    "    1.Built-in functions\n",
    "    2.User defined function(UDF)"
   ]
  },
  {
   "cell_type": "markdown",
   "metadata": {},
   "source": [
    "Syntax:\n",
    "    def function-name(parameter):\n",
    "        Body of function\n",
    "        return value"
   ]
  },
  {
   "cell_type": "code",
   "execution_count": 4,
   "metadata": {},
   "outputs": [
    {
     "name": "stdout",
     "output_type": "stream",
     "text": [
      "Hello , Sakshi Good Morning!!\n",
      "Hello , Me Good Morning!!\n"
     ]
    }
   ],
   "source": [
    "def wish(name):\n",
    "    print(\"Hello ,\",name,\"Good Morning!!\")\n",
    "    \n",
    "wish(\"Sakshi\")\n",
    "wish(\"Me\")\n",
    "\n",
    "# wish() #TypeError                                 "
   ]
  },
  {
   "cell_type": "markdown",
   "metadata": {},
   "source": [
    "# Different categories of UDF\n",
    "\n",
    "    1.Function with no parameter and no return type\n",
    "    2.Function with parameter and no return type\n",
    "    3.Function with parameter and return type\n",
    "    4.Function with no parameter and with return type"
   ]
  },
  {
   "cell_type": "code",
   "execution_count": 15,
   "metadata": {},
   "outputs": [
    {
     "name": "stdout",
     "output_type": "stream",
     "text": [
      "30\n"
     ]
    }
   ],
   "source": [
    "def add(a,b):\n",
    "    return a+b\n",
    "s = add(10,20)\n",
    "print(s)"
   ]
  },
  {
   "cell_type": "code",
   "execution_count": 19,
   "metadata": {},
   "outputs": [
    {
     "name": "stdout",
     "output_type": "stream",
     "text": [
      "30\n",
      "-10\n",
      "200\n",
      "0.5\n",
      "(30, -10, 200, 0.5)\n"
     ]
    }
   ],
   "source": [
    "def calc(a,b):\n",
    "    sum = a+b\n",
    "    sub = a-b\n",
    "    mul = a*b\n",
    "    div = a/b\n",
    "    \n",
    "    return sum,sub,mul,div\n",
    "\n",
    "a=10\n",
    "b=20\n",
    "\n",
    "t = calc(a,b)\n",
    "\n",
    "for i in t:\n",
    "    print(i)\n",
    "\n",
    "print(t)"
   ]
  },
  {
   "cell_type": "markdown",
   "metadata": {},
   "source": [
    "#  Function Specification \n",
    "\n",
    "    *Docstring - The text between the triple quotation marks is called a docstring in python. It is used to provide                          specification of function."
   ]
  },
  {
   "cell_type": "code",
   "execution_count": 6,
   "metadata": {},
   "outputs": [
    {
     "name": "stdout",
     "output_type": "stream",
     "text": [
      "Argument passed into x return x squared\n"
     ]
    }
   ],
   "source": [
    "def squared_number(x):\n",
    "    \"\"\"Argument passed into x return x squared\"\"\"\n",
    "    return x*x\n",
    "\n",
    "print(squared_number.__doc__)"
   ]
  },
  {
   "cell_type": "code",
   "execution_count": 9,
   "metadata": {},
   "outputs": [
    {
     "name": "stdout",
     "output_type": "stream",
     "text": [
      "Return the Sum of two decimal numbers.\n",
      "    Parameters:\n",
      "        a(int): A decimal number\n",
      "        b(int): Another decimal number\n",
      "    Returns:\n",
      "        sum : Sum of a and b\n"
     ]
    }
   ],
   "source": [
    "def add(a,b):\n",
    "    \"\"\"Return the Sum of two decimal numbers.\n",
    "    Parameters:\n",
    "        a(int): A decimal number\n",
    "        b(int): Another decimal number\n",
    "    Returns:\n",
    "        sum : Sum of a and b\"\"\"\n",
    "    sum = a+b\n",
    "    return sum\n",
    "\n",
    "print(add.__doc__)"
   ]
  },
  {
   "cell_type": "markdown",
   "metadata": {},
   "source": [
    "# Types of Arguments\n",
    "\n",
    "\n",
    "1.Positional Argument\n",
    "        \n",
    "            \n",
    "    "
   ]
  },
  {
   "cell_type": "code",
   "execution_count": 10,
   "metadata": {},
   "outputs": [
    {
     "name": "stdout",
     "output_type": "stream",
     "text": [
      "-100\n",
      "100\n"
     ]
    }
   ],
   "source": [
    "def sub(a,b):\n",
    "    print(a-b)\n",
    "sub(100,200)\n",
    "sub(200,100)"
   ]
  },
  {
   "cell_type": "markdown",
   "metadata": {},
   "source": [
    "2.Keyword Argument"
   ]
  },
  {
   "cell_type": "code",
   "execution_count": 11,
   "metadata": {},
   "outputs": [
    {
     "ename": "SyntaxError",
     "evalue": "positional argument follows keyword argument (<ipython-input-11-ff59ded3c0d1>, line 8)",
     "output_type": "error",
     "traceback": [
      "\u001b[1;36m  File \u001b[1;32m\"<ipython-input-11-ff59ded3c0d1>\"\u001b[1;36m, line \u001b[1;32m8\u001b[0m\n\u001b[1;33m    wish(name=\"Arman\",\"Good Morning\")\u001b[0m\n\u001b[1;37m                      ^\u001b[0m\n\u001b[1;31mSyntaxError\u001b[0m\u001b[1;31m:\u001b[0m positional argument follows keyword argument\n"
     ]
    }
   ],
   "source": [
    "def wish(name,msg):\n",
    "    print(\"Hello ,\",name,msg)\n",
    "    \n",
    "wish(name=\"Arman\",msg=\"Good Morning\")\n",
    "wish(msg=\"Good Morning\",name=\"Arman\")\n",
    "wish(\"Arman\",\"Good Morning\")\n",
    "wish(\"Arman\",msg=\"Good Morning\")\n",
    "# wish(name=\"Arman\",\"Good Morning\") #SyntaxError: positional argument follows keyword argument"
   ]
  },
  {
   "cell_type": "markdown",
   "metadata": {},
   "source": [
    "# Default Arguments"
   ]
  },
  {
   "cell_type": "code",
   "execution_count": 13,
   "metadata": {},
   "outputs": [
    {
     "name": "stdout",
     "output_type": "stream",
     "text": [
      "Hello, Sakshi Good Morning\n",
      "Hello, Guest Good Morning\n"
     ]
    }
   ],
   "source": [
    "def wish(name=\"Guest\"):\n",
    "    print(\"Hello,\",name,\"Good Morning\")\n",
    "wish(\"Sakshi\")\n",
    "wish()"
   ]
  },
  {
   "cell_type": "markdown",
   "metadata": {},
   "source": [
    "# Variable Length Argument"
   ]
  },
  {
   "cell_type": "code",
   "execution_count": 17,
   "metadata": {},
   "outputs": [
    {
     "name": "stdout",
     "output_type": "stream",
     "text": [
      "The Sum = 10\n",
      "The Sum = 150\n",
      "The Sum = 60\n"
     ]
    }
   ],
   "source": [
    "def f1(*n):\n",
    "    total = 0\n",
    "    for n1 in n:\n",
    "        total += n1\n",
    "    print (\"The Sum =\",total)\n",
    "f1(10)\n",
    "f1(10,20,30,40,50)\n",
    "f1(10,20,30)"
   ]
  },
  {
   "cell_type": "code",
   "execution_count": 27,
   "metadata": {},
   "outputs": [
    {
     "name": "stdout",
     "output_type": "stream",
     "text": [
      "10 *\n",
      "10 *\n",
      "20\n",
      "30\n",
      "10 *\n",
      "A\n",
      "20\n",
      "B\n"
     ]
    }
   ],
   "source": [
    "def sum(n1,*s): #sum(*s,n1) missing 1 required keyword-only argument: 'n1'\n",
    "    print(n1,\"*\")\n",
    "    for s1 in s:\n",
    "        print(s1)\n",
    "sum(10)\n",
    "sum(10,20,30)\n",
    "sum(10,\"A\",20,\"B\")"
   ]
  },
  {
   "cell_type": "markdown",
   "metadata": {},
   "source": [
    "# kwargs (Key Word Argument)"
   ]
  },
  {
   "cell_type": "code",
   "execution_count": 34,
   "metadata": {},
   "outputs": [
    {
     "name": "stdout",
     "output_type": "stream",
     "text": [
      "{'m1': 200, 'm2': 300}\n",
      "m1 : 200\n",
      "m2 : 300\n"
     ]
    }
   ],
   "source": [
    "def display(**kwargs):\n",
    "    print(kwargs)\n",
    "    for j,k in kwargs.items(): #kwargs.keys()-> m1,m2 and kwargs.values()-> 100,200\n",
    "        print(j,\":\",k)\n",
    "display(m1=200,m2=300)"
   ]
  }
 ],
 "metadata": {
  "kernelspec": {
   "display_name": "Python 3",
   "language": "python",
   "name": "python3"
  },
  "language_info": {
   "codemirror_mode": {
    "name": "ipython",
    "version": 3
   },
   "file_extension": ".py",
   "mimetype": "text/x-python",
   "name": "python",
   "nbconvert_exporter": "python",
   "pygments_lexer": "ipython3",
   "version": "3.8.5"
  }
 },
 "nbformat": 4,
 "nbformat_minor": 4
}
