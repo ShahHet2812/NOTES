{
 "cells": [
  {
   "cell_type": "markdown",
   "metadata": {},
   "source": [
    "#                    Unit-2 Conditional Execution & Iteration"
   ]
  },
  {
   "cell_type": "markdown",
   "metadata": {},
   "source": [
    "# 1.Simple if Statement\n",
    "\n",
    "    if Condition:\n",
    "            Statement"
   ]
  },
  {
   "cell_type": "code",
   "execution_count": 1,
   "metadata": {},
   "outputs": [
    {
     "name": "stdout",
     "output_type": "stream",
     "text": [
      "Enter Name:s\n",
      "Hello Guest, How are you?\n",
      "How are you?\n"
     ]
    }
   ],
   "source": [
    "name = input(\"Enter Name:\")\n",
    "if name == \"Arman\":\n",
    "    print(\"Hello Arman, How are you?\")\n",
    "print (\"How are you?\")"
   ]
  },
  {
   "cell_type": "markdown",
   "metadata": {},
   "source": [
    "# if-else"
   ]
  },
  {
   "cell_type": "code",
   "execution_count": 2,
   "metadata": {},
   "outputs": [
    {
     "name": "stdout",
     "output_type": "stream",
     "text": [
      "Enter Name:sa\n",
      "Hello Guest, How are you?\n",
      "How are you?\n"
     ]
    }
   ],
   "source": [
    "name = input(\"Enter Name:\")\n",
    "if name == \"Arman\":\n",
    "    print(\"Hello Arman, How are you?\")\n",
    "else:\n",
    "    print(\"Hello Guest, How are you?\")\n",
    "print (\"How are you?\")"
   ]
  },
  {
   "cell_type": "markdown",
   "metadata": {},
   "source": [
    "# if-elif-else\n",
    "\n",
    "    if Condition-1:\n",
    "            Action-1\n",
    "    elif Condition-2:\n",
    "            Action-2\n",
    "    elif Condition-3:\n",
    "            Action-3\n",
    "    .\n",
    "    .\n",
    "    .\n",
    "    .\n",
    "    else:\n",
    "        Default Action"
   ]
  },
  {
   "cell_type": "code",
   "execution_count": 3,
   "metadata": {},
   "outputs": [
    {
     "name": "stdout",
     "output_type": "stream",
     "text": [
      "Enter 1st Number:1\n",
      "Enter 2nd Number:2\n",
      "Enter 3rd Number:3\n",
      "Biggest Number: 3\n"
     ]
    }
   ],
   "source": [
    "n1 = int(input(\"Enter 1st Number:\"))\n",
    "n2 = int(input(\"Enter 2nd Number:\"))\n",
    "n3 = int(input(\"Enter 3rd Number:\"))\n",
    "\n",
    "if n1>n2 and n1>n3:\n",
    "    print(\"Biggest Number:\",n1)\n",
    "elif n2>n3:\n",
    "    print(\"Biggest Number:\",n2)\n",
    "else:\n",
    "    print(\"Biggest Number:\",n3)"
   ]
  },
  {
   "cell_type": "markdown",
   "metadata": {},
   "source": [
    "# nested if"
   ]
  },
  {
   "cell_type": "code",
   "execution_count": 5,
   "metadata": {},
   "outputs": [
    {
     "name": "stdout",
     "output_type": "stream",
     "text": [
      "Above 10\n",
      "Above 20\n"
     ]
    }
   ],
   "source": [
    "x = 41\n",
    "if x>10:\n",
    "    print(\"Above 10\")\n",
    "    if x>20:\n",
    "        print(\"Above 20\")\n",
    "    else:\n",
    "        print(\"but under 20\")\n",
    "else:\n",
    "    print(\"Below 10\")"
   ]
  },
  {
   "cell_type": "markdown",
   "metadata": {},
   "source": [
    "# Iterative Statements\n"
   ]
  },
  {
   "cell_type": "markdown",
   "metadata": {},
   "source": [
    "# 1.for loop:\n",
    "    \n",
    "    Syntax: for x in sequence:\n",
    "                body\n",
    "               "
   ]
  },
  {
   "cell_type": "markdown",
   "metadata": {},
   "source": [
    "# 2.while loop:\n",
    "\n",
    "    Syntax: while condition:\n",
    "                body"
   ]
  },
  {
   "cell_type": "code",
   "execution_count": 25,
   "metadata": {},
   "outputs": [
    {
     "name": "stdout",
     "output_type": "stream",
     "text": [
      "A r m a n range(0, 5)\n",
      "5 6 7 8 9 10 11 12 13 14 \n",
      "10 9 8 7 6 5 4 3 2 1 \n",
      "Hello \n",
      "Hello \n",
      "Hello \n",
      "Hello \n",
      "Hello \n",
      "\n",
      "Hello\n",
      "Hello\n",
      "Hello\n",
      "Hello\n",
      "Hello\n"
     ]
    }
   ],
   "source": [
    "s = \"Arman\"\n",
    "\n",
    "for i in s:\n",
    "    print(i,end=\" \")\n",
    "    \n",
    "s = range(5)\n",
    "print(s)\n",
    "\n",
    "for i in range(5,15):\n",
    "    print(i,end=\" \")\n",
    "print()\n",
    "    \n",
    "for i in range(10,0,-1):\n",
    "    print(i,end=\" \")\n",
    "print()\n",
    "\n",
    "for i in range(5):\n",
    "    print(\"Hello \")\n",
    "print()\n",
    "\n",
    "i=1\n",
    "while i<=5:\n",
    "    print(\"Hello\")\n",
    "    i+=1"
   ]
  },
  {
   "cell_type": "code",
   "execution_count": 28,
   "metadata": {},
   "outputs": [
    {
     "name": "stdout",
     "output_type": "stream",
     "text": [
      "Thanks for Confirmation\n"
     ]
    }
   ],
   "source": [
    "name = \"\"\n",
    "while name != \"Sakshi\":\n",
    "    name = input(\"Enter Name:\")\n",
    "print(\"Thanks for Confirmation\")"
   ]
  },
  {
   "cell_type": "markdown",
   "metadata": {},
   "source": [
    "# Nested Loop"
   ]
  },
  {
   "cell_type": "code",
   "execution_count": 30,
   "metadata": {},
   "outputs": [
    {
     "name": "stdout",
     "output_type": "stream",
     "text": [
      "i= 0 j= 0\n",
      "i= 0 j= 1\n",
      "i= 1 j= 0\n",
      "i= 1 j= 1\n"
     ]
    }
   ],
   "source": [
    "for i in range(2):\n",
    "    for j in range(2):\n",
    "        print(\"i=\",i,\"j=\",j)"
   ]
  },
  {
   "cell_type": "markdown",
   "metadata": {},
   "source": [
    "# Break Statement"
   ]
  },
  {
   "cell_type": "code",
   "execution_count": 31,
   "metadata": {},
   "outputs": [
    {
     "name": "stdout",
     "output_type": "stream",
     "text": [
      "0\n",
      "1\n",
      "2\n",
      "3\n",
      "4\n",
      "5\n",
      "6\n",
      "Stop here!!\n"
     ]
    }
   ],
   "source": [
    "for i in range(10):\n",
    "    if i==7:\n",
    "        print(\"Stop here!!\")\n",
    "        break\n",
    "    print(i)"
   ]
  },
  {
   "cell_type": "markdown",
   "metadata": {},
   "source": [
    "# Continue"
   ]
  },
  {
   "cell_type": "code",
   "execution_count": null,
   "metadata": {},
   "outputs": [],
   "source": [
    "for i in range(10):\n",
    "    if i%2==0:\n",
    "        continue\n",
    "    print(i)"
   ]
  },
  {
   "cell_type": "markdown",
   "metadata": {},
   "source": [
    "# Pass Statement\n",
    "    if True:\n",
    "        pass\n",
    "    def test():\n",
    "        pass"
   ]
  },
  {
   "cell_type": "markdown",
   "metadata": {},
   "source": [
    "WAP to check if the ch is vowel or conso..."
   ]
  },
  {
   "cell_type": "code",
   "execution_count": 1,
   "metadata": {},
   "outputs": [
    {
     "name": "stdout",
     "output_type": "stream",
     "text": [
      "Enter char:A\n",
      "Vowel\n"
     ]
    }
   ],
   "source": [
    "x = input(\"Enter char:\")\n",
    "\n",
    "if x in 'AEIOUaeiou':\n",
    "    print(\"Vowel\")\n",
    "else:\n",
    "    print(\"Not Vowel\")"
   ]
  },
  {
   "cell_type": "markdown",
   "metadata": {},
   "source": [
    "WAP to check given year is Leap year or not."
   ]
  },
  {
   "cell_type": "code",
   "execution_count": 3,
   "metadata": {
    "scrolled": true
   },
   "outputs": [
    {
     "name": "stdout",
     "output_type": "stream",
     "text": [
      "Enter Year:2005\n",
      "Not a Leap Year\n"
     ]
    }
   ],
   "source": [
    "y = int(input(\"Enter Year:\"))\n",
    "\n",
    "if (y%4==0 and y%100!=0) or y%400==0:\n",
    "    print(\"Leap Year\")\n",
    "else:\n",
    "    print(\"Not a Leap Year\")"
   ]
  },
  {
   "cell_type": "markdown",
   "metadata": {},
   "source": [
    "WAP to perform arithmetic operation according to choice given."
   ]
  },
  {
   "cell_type": "code",
   "execution_count": 6,
   "metadata": {},
   "outputs": [
    {
     "name": "stdout",
     "output_type": "stream",
     "text": [
      "Enter 1st Number:1\n",
      "Enter 2nd Number:2\n",
      "Enter Choice (+,-,/,*,//,%,**):-\n",
      "a - b : -1\n"
     ]
    }
   ],
   "source": [
    "a = int(input(\"Enter 1st Number:\"))\n",
    "b = int(input(\"Enter 2nd Number:\"))\n",
    "ch = input(\"Enter Choice (+,-,/,*,//,%,**):\")\n",
    "\n",
    "if ch=='+':\n",
    "    print(\"a + b :\",a+b)\n",
    "elif ch=='-':\n",
    "    print(\"a - b :\",a-b)\n",
    "elif ch=='/':\n",
    "    print(\"a / b :\",a/b)\n",
    "elif ch=='*':\n",
    "    print(\"a * b :\",a*b)\n",
    "elif ch=='//':\n",
    "    print(\"a // b :\",a//b)\n",
    "elif ch=='%':\n",
    "    print(\"a % b :\",a%b)\n",
    "elif ch=='**':\n",
    "    print(\"a ** b :\",a**b)\n",
    "else:\n",
    "    print(\"Please enter valid choise\")"
   ]
  },
  {
   "cell_type": "markdown",
   "metadata": {},
   "source": [
    "WAP to read the marks from user and give the grade according to condition."
   ]
  },
  {
   "cell_type": "code",
   "execution_count": 11,
   "metadata": {},
   "outputs": [
    {
     "name": "stdout",
     "output_type": "stream",
     "text": [
      "Enter 1st Subject Marks:34\n",
      "Enter 2nd Subject Marks:67\n",
      "Enter 3rd Subject Marks:98\n",
      "Average: 66.33333333333333\n",
      "Grade: First Class\n"
     ]
    }
   ],
   "source": [
    "# m = int(input(\"Enter Marks:\"))\n",
    "\n",
    "s1 = int(input(\"Enter 1st Subject Marks:\"))\n",
    "s2 = int(input(\"Enter 2nd Subject Marks:\"))\n",
    "s3 = int(input(\"Enter 3rd Subject Marks:\"))\n",
    "\n",
    "m = (s1+s2+s3)/3\n",
    "print(\"Average:\",m)\n",
    "if m>=80 and m<=100:\n",
    "    print(\"Grade: Distinction\")\n",
    "elif m>=60 and m<=79:\n",
    "    print(\"Grade: First Class\")\n",
    "elif m>=35 and m<=59:\n",
    "    print(\"Grade: Second Class\")\n",
    "elif m>=0 and m<=34:\n",
    "    print(\"Grade: Fail\")\n",
    "else:\n",
    "    print(\"Invalid\")"
   ]
  },
  {
   "cell_type": "markdown",
   "metadata": {},
   "source": [
    "WAP to calculate the electricity bill based on the number of units enter by the user."
   ]
  },
  {
   "cell_type": "code",
   "execution_count": 16,
   "metadata": {},
   "outputs": [
    {
     "name": "stdout",
     "output_type": "stream",
     "text": [
      "Enter Units:350\n",
      "Bill: 2000\n"
     ]
    }
   ],
   "source": [
    "units = int(input(\"Enter Units:\"))\n",
    "charge=0\n",
    "if units>=100 and units<=200:\n",
    "    charge=(units-100)*5\n",
    "elif units>=200:\n",
    "    charge= 500 + (units-200)*10\n",
    "else:\n",
    "    print(\"Invalid\")\n",
    "print(\"Bill:\",charge)"
   ]
  },
  {
   "cell_type": "markdown",
   "metadata": {},
   "source": [
    "WAP to check whether the last digit of number is divisible by 3 or not."
   ]
  },
  {
   "cell_type": "code",
   "execution_count": 19,
   "metadata": {},
   "outputs": [
    {
     "name": "stdout",
     "output_type": "stream",
     "text": [
      "Enter Number:2346\n",
      "Divisable\n"
     ]
    }
   ],
   "source": [
    "n = int(input(\"Enter Number:\"))\n",
    "if (n%10)%3==0:\n",
    "    print(\"Divisable\")\n",
    "else:\n",
    "    print(\"Not\")"
   ]
  },
  {
   "cell_type": "markdown",
   "metadata": {},
   "source": [
    "WAP to check whether the number enter by user is three digit or not.\n",
    "-if number is 3 digit number then print middle digit."
   ]
  },
  {
   "cell_type": "code",
   "execution_count": 27,
   "metadata": {},
   "outputs": [
    {
     "name": "stdout",
     "output_type": "stream",
     "text": [
      "Enter Number:456\n",
      "5\n"
     ]
    }
   ],
   "source": [
    "n = int(input(\"Enter Number:\"))\n",
    "x = n\n",
    "c = 0\n",
    "while x!=0:\n",
    "    x //= 10\n",
    "    c = c+1\n",
    "print(c)\n",
    "if c==3:\n",
    "    print((n//10)%10)\n",
    "else:\n",
    "    print(\"Invalid number\")"
   ]
  },
  {
   "cell_type": "markdown",
   "metadata": {},
   "source": [
    "WAP to accept the price and display the road tax to paid and total price"
   ]
  },
  {
   "cell_type": "code",
   "execution_count": 4,
   "metadata": {},
   "outputs": [
    {
     "name": "stdout",
     "output_type": "stream",
     "text": [
      "Enter Bike Price:27000\n",
      "Tax: 1350.0\n",
      "Total Price : 28350.0\n"
     ]
    }
   ],
   "source": [
    "price = int(input(\"Enter Bike Price:\"))\n",
    "tax=0\n",
    "\n",
    "if price>100000:\n",
    "    tax = price*0.15\n",
    "elif price>50000 and price<=100000:\n",
    "    tax = price*0.10\n",
    "elif price<=50000:\n",
    "    tax = price*0.05\n",
    "else:\n",
    "    print(\"Invalid\")\n",
    "print(\"Tax:\",tax)\n",
    "print(\"Total Price :\",price+tax)"
   ]
  },
  {
   "cell_type": "markdown",
   "metadata": {},
   "source": [
    "Calculate the percentage of class attendance\n",
    "    \n",
    "    -Total no. of working days\n",
    "    -Total no. of absent days\n",
    "    \n",
    "After calculating percentage, if percentage<75 then not eligible for exam"
   ]
  },
  {
   "cell_type": "code",
   "execution_count": 6,
   "metadata": {},
   "outputs": [
    {
     "name": "stdout",
     "output_type": "stream",
     "text": [
      "Enter total no. of working days100\n",
      "Enter total no. of absent days2\n",
      "You're eligible for exam\n"
     ]
    }
   ],
   "source": [
    "wd = int(input(\"Enter total no. of working days\"))\n",
    "ad = int(input(\"Enter total no. of absent days\"))\n",
    "\n",
    "pr = ((wd-ad)*100)/wd\n",
    "print(pr)\n",
    "if pr>75:\n",
    "    print(\"You're eligible for exam\")\n",
    "else:\n",
    "    print(\"You're not eligible for exam\")"
   ]
  },
  {
   "cell_type": "markdown",
   "metadata": {},
   "source": [
    "Accept the 3 sides of triangle and check whether it is an Equilateral, Isosceles or Scalene."
   ]
  },
  {
   "cell_type": "code",
   "execution_count": 10,
   "metadata": {},
   "outputs": [
    {
     "name": "stdout",
     "output_type": "stream",
     "text": [
      "Enter side 1:12\n",
      "Enter side 1:23\n",
      "Enter side 1:45\n",
      "Scalene\n"
     ]
    }
   ],
   "source": [
    "s1 = int(input(\"Enter side 1:\"))\n",
    "s2 = int(input(\"Enter side 1:\"))\n",
    "s3 = int(input(\"Enter side 1:\"))\n",
    "\n",
    "if s1==s2==s3:\n",
    "    print(\"Equilateral\")\n",
    "elif s1==s2 or s2==s3 or s1==s3:\n",
    "    print(\"Isosceles\")\n",
    "else:\n",
    "    print(\"Scalene\")"
   ]
  },
  {
   "cell_type": "markdown",
   "metadata": {},
   "source": [
    "Accept the Age, Gender and Number of days and display the wages."
   ]
  },
  {
   "cell_type": "code",
   "execution_count": 15,
   "metadata": {},
   "outputs": [
    {
     "name": "stdout",
     "output_type": "stream",
     "text": [
      "Enter Age:33\n",
      "Enter Gender(M/F):F\n",
      "Enter number of days:10\n",
      "Wages: 8500\n"
     ]
    }
   ],
   "source": [
    "age = int(input(\"Enter Age:\"))\n",
    "gen = input(\"Enter Gender(M/F):\")\n",
    "days = int(input(\"Enter number of days:\"))\n",
    "wage=0\n",
    "if age>=18 and age<30:\n",
    "    if gen=='M':\n",
    "        wage = days*700\n",
    "    else:\n",
    "        wage = days*750\n",
    "elif age>=30 and age<=40:\n",
    "    if gen=='M':\n",
    "        wage = days*800\n",
    "    else:\n",
    "        wage = days*850\n",
    "else:\n",
    "    print(\"Enter appropriate Age\")\n",
    "print(\"Wages:\",wage)"
   ]
  },
  {
   "cell_type": "markdown",
   "metadata": {},
   "source": [
    "WAP to read 3 numbers and check how many numbers available between first 2 numbers are divisible by third numbers."
   ]
  },
  {
   "cell_type": "code",
   "execution_count": 2,
   "metadata": {},
   "outputs": [
    {
     "name": "stdout",
     "output_type": "stream",
     "text": [
      "Enter number 1:1\n",
      "Enter number 2:20\n",
      "Enter number 3:3\n",
      "The total numbers between 1 and 20 divisible by 3 is 6\n"
     ]
    }
   ],
   "source": [
    "num1 = int(input(\"Enter number 1:\"))\n",
    "num2 = int(input(\"Enter number 2:\"))\n",
    "num3 = int(input(\"Enter number 3:\"))\n",
    "\n",
    "c = 0\n",
    "for i in range(num1+1,num2):\n",
    "    if i%num3==0:\n",
    "        c+=1\n",
    "        \n",
    "print(\"The total numbers between\",num1,\"and\",num2,\"divisible by\",num3,\"is\",c)    "
   ]
  },
  {
   "cell_type": "markdown",
   "metadata": {},
   "source": [
    "WAP to find sum of n numbers also find average."
   ]
  },
  {
   "cell_type": "code",
   "execution_count": 8,
   "metadata": {},
   "outputs": [
    {
     "name": "stdout",
     "output_type": "stream",
     "text": [
      "Enter number:5\n",
      "Sum: 15 \n",
      "Average: 3.0\n"
     ]
    }
   ],
   "source": [
    "n = int(input(\"Enter number:\"))\n",
    "sum=0\n",
    "for i in range(1,n+1):\n",
    "    sum += i\n",
    "    \n",
    "print(\"Sum:\",sum,\"\\nAverage:\",(sum/n))"
   ]
  },
  {
   "cell_type": "code",
   "execution_count": 7,
   "metadata": {},
   "outputs": [
    {
     "name": "stdout",
     "output_type": "stream",
     "text": [
      "Enter number:5\n",
      "5 * 1 = 5\n",
      "5 * 2 = 10\n",
      "5 * 3 = 15\n",
      "5 * 4 = 20\n",
      "5 * 5 = 25\n",
      "5 * 6 = 30\n",
      "5 * 7 = 35\n",
      "5 * 8 = 40\n",
      "5 * 9 = 45\n",
      "5 * 10 = 50\n"
     ]
    }
   ],
   "source": [
    "n = int(input(\"Enter number:\"))\n",
    "for i in range(1,11):\n",
    "    print(n,\"*\",i,\"=\",(n*i))"
   ]
  },
  {
   "cell_type": "code",
   "execution_count": 12,
   "metadata": {},
   "outputs": [
    {
     "name": "stdout",
     "output_type": "stream",
     "text": [
      "Enter Base:2\n",
      "Enter num:1024\n",
      "Power: 10\n"
     ]
    }
   ],
   "source": [
    "# WAP to find an integer exponent x such that a^x=n\n",
    "n1 = int(input(\"Enter Base:\"))\n",
    "n2 = int(input(\"Enter num:\"))\n",
    "p=0\n",
    "while n2!=1:\n",
    "    n2 //= n1\n",
    "    p += 1\n",
    "print(\"Power:\",p)"
   ]
  },
  {
   "cell_type": "markdown",
   "metadata": {},
   "source": [
    "WAP to find the factorial of given number."
   ]
  },
  {
   "cell_type": "code",
   "execution_count": 25,
   "metadata": {},
   "outputs": [
    {
     "name": "stdout",
     "output_type": "stream",
     "text": [
      "Enter num:-1\n",
      "Enter Only Positive Numbers\n"
     ]
    }
   ],
   "source": [
    "n = int(input(\"Enter num:\"))\n",
    "fact=1;\n",
    "    \n",
    "for i in range(1,n+1):\n",
    "    fact *= i;\n",
    "    \n",
    "if n<0:\n",
    "    print(\"Enter Only Positive Numbers\")\n",
    "else:\n",
    "    print(\"Factorial:\",fact)"
   ]
  },
  {
   "cell_type": "markdown",
   "metadata": {},
   "source": [
    "WAP to display fibonacci sequence upto nth"
   ]
  },
  {
   "cell_type": "code",
   "execution_count": 31,
   "metadata": {},
   "outputs": [
    {
     "name": "stdout",
     "output_type": "stream",
     "text": [
      "Enter num:1\n",
      "0 1 "
     ]
    }
   ],
   "source": [
    "n = int(input(\"Enter num:\"))\n",
    "fn,sn,sum=0,1,1\n",
    "if n<0:\n",
    "    print(\"Enter Only Positive Numbers\")\n",
    "else:\n",
    "    print(\"0 1\",end=\" \")\n",
    "    for i in range(1,n-1):\n",
    "        print(sum,end=\" \")\n",
    "        fn = sn\n",
    "        sn = sum\n",
    "        sum = fn+sn"
   ]
  },
  {
   "cell_type": "markdown",
   "metadata": {},
   "source": [
    "WAP to take 10 numbers from User and display their sum and avg."
   ]
  },
  {
   "cell_type": "code",
   "execution_count": 36,
   "metadata": {},
   "outputs": [
    {
     "name": "stdout",
     "output_type": "stream",
     "text": [
      "Enter number 1:1\n",
      "Enter number 2:2\n",
      "Enter number 3:3\n",
      "Enter number 4:4\n",
      "Enter number 5:5\n",
      "Enter number 6:6\n",
      "Enter number 7:7\n",
      "Enter number 8:8\n",
      "Enter number 9:9\n",
      "Enter number 10:0\n",
      "Sum = 45 \n",
      "Average = 4.5\n"
     ]
    }
   ],
   "source": [
    "sum=0\n",
    "for i in range(10):\n",
    "    x = int(input(f\"Enter number {i+1}:\"))\n",
    "    sum += x\n",
    "print(\"Sum =\",sum,\"\\nAverage =\",(sum/10))"
   ]
  },
  {
   "cell_type": "markdown",
   "metadata": {},
   "source": [
    "WAP to count total odd and even numbers also do the sum of them"
   ]
  },
  {
   "cell_type": "code",
   "execution_count": 38,
   "metadata": {},
   "outputs": [
    {
     "name": "stdout",
     "output_type": "stream",
     "text": [
      "Enter number 1:1\n",
      "Enter number 2:2\n",
      "Enter number 3:34\n",
      "Enter number 4:5\n",
      "Enter number 5:6\n",
      "Enter number 6:7\n",
      "Enter number 7:8\n",
      "Enter number 8:9\n",
      "Enter number 9:09\n",
      "Enter number 10:43\n",
      "\n",
      "Count of Odd 6 \n",
      "Count of Even 4 \n",
      "Sum of Odd = 74 \n",
      "Sum of Even = 50\n"
     ]
    }
   ],
   "source": [
    "ec=0\n",
    "oc=0\n",
    "esum=0\n",
    "osum=0\n",
    "for i in range(10):\n",
    "    x = int(input(f\"Enter number {i+1}: \"))\n",
    "    if x%2==0:\n",
    "        ec += 1\n",
    "        esum += x\n",
    "    else:\n",
    "        oc += 1\n",
    "        osum += x\n",
    "print(\"\\nCount of Odd\",oc,\"\\nCount of Even\",ec,\"\\nSum of Odd =\",osum,\"\\nSum of Even =\",esum)"
   ]
  },
  {
   "cell_type": "code",
   "execution_count": 39,
   "metadata": {},
   "outputs": [
    {
     "name": "stdout",
     "output_type": "stream",
     "text": [
      "Enter number 1: 1\n",
      "Enter number 2: 2\n",
      "Enter number 3: 3\n",
      "Enter number 4: 4\n",
      "Enter number 5: -3\n",
      "Enter number 6: -5\n",
      "Enter number 7: -5\n",
      "Enter number 8: 0\n",
      "Enter number 9: -2\n",
      "Enter number 10: 0\n",
      "Sum: 10\n"
     ]
    }
   ],
   "source": [
    "sum=0\n",
    "for i in range(10):\n",
    "    x = int(input(f\"Enter number {i+1}: \"))\n",
    "    if x>0:\n",
    "        sum += x\n",
    "print(\"Sum:\",sum)"
   ]
  },
  {
   "cell_type": "markdown",
   "metadata": {},
   "source": [
    "WAP to find reverse number of the given number"
   ]
  },
  {
   "cell_type": "code",
   "execution_count": null,
   "metadata": {},
   "outputs": [],
   "source": [
    "n = int(input(\"Enter num:\"))\n",
    "d=n\n",
    "rev=0\n",
    "while n!=0:\n",
    "    temp = n%10\n",
    "    rev = (rev*10) + temp\n",
    "    n //= 10\n",
    "print(rev)\n",
    "\n",
    "if d==rev:\n",
    "    print(\"Palindrome\")\n",
    "else:\n",
    "    print(\"Not Palindrome\")"
   ]
  },
  {
   "cell_type": "markdown",
   "metadata": {},
   "source": [
    "WAP to check given number is armstrong or not."
   ]
  },
  {
   "cell_type": "code",
   "execution_count": null,
   "metadata": {},
   "outputs": [],
   "source": [
    "n = int(input(\"Enter num:\"))\n",
    "x=n\n",
    "y=n\n",
    "l=0\n",
    "sum=0\n",
    "while x!=0:\n",
    "    x//=10\n",
    "    l+=1\n",
    "while y!=0:\n",
    "    sum += (y%10)**l\n",
    "    y//=10\n",
    "if sum==n:\n",
    "    print(\"Armstrong\")\n",
    "else:\n",
    "    print(\"Not Armstrong\")"
   ]
  },
  {
   "cell_type": "markdown",
   "metadata": {},
   "source": [
    "WAP to check it prime or not"
   ]
  },
  {
   "cell_type": "code",
   "execution_count": 9,
   "metadata": {},
   "outputs": [
    {
     "name": "stdout",
     "output_type": "stream",
     "text": [
      "Enter num:4\n",
      "Not Prime\n"
     ]
    }
   ],
   "source": [
    "n = int(input(\"Enter num:\"))\n",
    "n1=0\n",
    "for i in range(2,n):\n",
    "    if n%i==0:\n",
    "        print(\"Not Prime\")\n",
    "        n1=1\n",
    "        break\n",
    "if(n1==0):\n",
    "        print(\"Prime\")"
   ]
  },
  {
   "cell_type": "code",
   "execution_count": 1,
   "metadata": {},
   "outputs": [
    {
     "name": "stdout",
     "output_type": "stream",
     "text": [
      "Enter num 1:12\n",
      "Enter num 2:12\n"
     ]
    }
   ],
   "source": [
    "n1 = int(input(\"Enter num 1:\"))\n",
    "n2 = int(input(\"Enter num 2:\"))\n",
    "\n",
    "for i in range(n1,n2+1):\n",
    "    c=0\n",
    "    for j in range(2,i):\n",
    "         if i%j==0:\n",
    "            c=1\n",
    "    if c==0:\n",
    "        print(i,end=\" \")\n",
    "       "
   ]
  },
  {
   "cell_type": "code",
   "execution_count": 2,
   "metadata": {},
   "outputs": [
    {
     "name": "stdout",
     "output_type": "stream",
     "text": [
      "Enter num:13\n",
      "13\n"
     ]
    }
   ],
   "source": [
    "n = int(input(\"Enter num:\"))\n",
    "\n",
    "while True:\n",
    "    sum=0\n",
    "    while n!=0:\n",
    "        temp=n%10\n",
    "        sum += temp**2\n",
    "        n//=10\n",
    "    n = sum\n",
    "    if sum==1:\n",
    "        print(\"Happy Number\")\n",
    "        break\n",
    "    elif sum==4:\n",
    "        print(\"Not a Happy Number\")\n",
    "        break    "
   ]
  },
  {
   "cell_type": "markdown",
   "metadata": {},
   "source": [
    "WAP to check the entered number is happy number or not."
   ]
  },
  {
   "cell_type": "code",
   "execution_count": 4,
   "metadata": {},
   "outputs": [
    {
     "name": "stdout",
     "output_type": "stream",
     "text": [
      "Enter num 1:111\n",
      "Enter num 2:222\n",
      "129\n",
      "130\n",
      "133\n",
      "139\n",
      "167\n",
      "176\n",
      "188\n",
      "190\n",
      "192\n",
      "193\n",
      "203\n",
      "208\n",
      "219\n"
     ]
    }
   ],
   "source": [
    "n1 = int(input(\"Enter num 1:\"))\n",
    "n2 = int(input(\"Enter num 2:\"))\n",
    "\n",
    "for i in range(n1,n2+1):\n",
    "    n=i\n",
    "    while True:\n",
    "        sum=0\n",
    "        while n!=0:\n",
    "            temp=n%10\n",
    "            sum += temp**2\n",
    "            n//=10\n",
    "        n = sum\n",
    "        if sum==1:\n",
    "            print(i)\n",
    "            break\n",
    "        elif sum==4:\n",
    "            break"
   ]
  },
  {
   "cell_type": "markdown",
   "metadata": {},
   "source": [
    "    *\n",
    "    **\n",
    "    ***\n",
    "    ****\n",
    "    *****"
   ]
  },
  {
   "cell_type": "code",
   "execution_count": 6,
   "metadata": {},
   "outputs": [
    {
     "name": "stdout",
     "output_type": "stream",
     "text": [
      "Enter rows:5\n",
      "* \n",
      "* * \n",
      "* * * \n",
      "* * * * \n",
      "* * * * * \n"
     ]
    }
   ],
   "source": [
    "n = int(input(\"Enter rows:\"))\n",
    "\n",
    "for i in range(n):\n",
    "    for j in range(i+1):\n",
    "        print(\"*\",end=\" \")\n",
    "    print()"
   ]
  },
  {
   "cell_type": "code",
   "execution_count": 9,
   "metadata": {},
   "outputs": [
    {
     "name": "stdout",
     "output_type": "stream",
     "text": [
      "Enter rows:5\n",
      "1 \n",
      "2 2 \n",
      "3 3 3 \n",
      "4 4 4 4 \n",
      "5 5 5 5 5 \n"
     ]
    }
   ],
   "source": [
    "n = int(input(\"Enter rows:\"))\n",
    "\n",
    "for i in range(1,n+1):\n",
    "    for j in range(1,i+1):\n",
    "        print(i,end=\" \")\n",
    "    print()"
   ]
  },
  {
   "cell_type": "code",
   "execution_count": 10,
   "metadata": {},
   "outputs": [
    {
     "name": "stdout",
     "output_type": "stream",
     "text": [
      "Enter rows:5\n",
      "1 \n",
      "1 2 \n",
      "1 2 3 \n",
      "1 2 3 4 \n",
      "1 2 3 4 5 \n"
     ]
    }
   ],
   "source": [
    "n = int(input(\"Enter rows:\"))\n",
    "\n",
    "for i in range(1,n+1):\n",
    "    for j in range(1,i+1):\n",
    "        print(j,end=\" \")\n",
    "    print()"
   ]
  },
  {
   "cell_type": "code",
   "execution_count": 12,
   "metadata": {},
   "outputs": [
    {
     "name": "stdout",
     "output_type": "stream",
     "text": [
      "A\n",
      "65\n"
     ]
    }
   ],
   "source": [
    "k = 65\n",
    "print(chr(k))\n",
    "print(ord('A'))"
   ]
  },
  {
   "cell_type": "code",
   "execution_count": 16,
   "metadata": {},
   "outputs": [
    {
     "name": "stdout",
     "output_type": "stream",
     "text": [
      "Enter rows:5\n",
      "a \n",
      "b c \n",
      "d e f \n",
      "g h i j \n",
      "k l m n o \n"
     ]
    }
   ],
   "source": [
    "n = int(input(\"Enter rows:\"))\n",
    "a = 97\n",
    "for i in range(1,n+1):\n",
    "    for j in range(1,i+1):\n",
    "        print(chr(a),end=\" \")\n",
    "        a+=1\n",
    "    print()"
   ]
  },
  {
   "cell_type": "code",
   "execution_count": 17,
   "metadata": {},
   "outputs": [
    {
     "name": "stdout",
     "output_type": "stream",
     "text": [
      "Enter rows:5\n",
      "A \n",
      "A B \n",
      "A B C \n",
      "A B C D \n",
      "A B C D E \n"
     ]
    }
   ],
   "source": [
    "n = int(input(\"Enter rows:\"))\n",
    "\n",
    "for i in range(1,n+1):\n",
    "    a = 65\n",
    "    for j in range(1,i+1):\n",
    "        print(chr(a),end=\" \")\n",
    "        a+=1\n",
    "    print()"
   ]
  },
  {
   "cell_type": "code",
   "execution_count": 1,
   "metadata": {},
   "outputs": [
    {
     "name": "stdout",
     "output_type": "stream",
     "text": [
      "Enter rows:5\n",
      "1 2 3 4 5 \n",
      "1 2 3 4 \n",
      "1 2 3 \n",
      "1 2 \n",
      "1 \n"
     ]
    }
   ],
   "source": [
    "n = int(input(\"Enter rows:\"))\n",
    "\n",
    "for i in range(1,n+1):\n",
    "    for j in range(1,n-i+2):\n",
    "        print(j,end=\" \")\n",
    "    print()"
   ]
  },
  {
   "cell_type": "code",
   "execution_count": 3,
   "metadata": {},
   "outputs": [
    {
     "name": "stdout",
     "output_type": "stream",
     "text": [
      "Enter rows:5\n",
      "* \n",
      "# # \n",
      "* * * \n",
      "# # # # \n",
      "* * * * * \n"
     ]
    }
   ],
   "source": [
    "n = int(input(\"Enter rows:\"))\n",
    "\n",
    "for i in range(1,n+1):\n",
    "    for j in range(1,i+1):\n",
    "        if i%2==0:\n",
    "            print(\"#\",end=\" \")\n",
    "        else:\n",
    "            print(\"*\",end=\" \")\n",
    "    print()"
   ]
  },
  {
   "cell_type": "code",
   "execution_count": null,
   "metadata": {},
   "outputs": [],
   "source": []
  }
 ],
 "metadata": {
  "kernelspec": {
   "display_name": "Python 3",
   "language": "python",
   "name": "python3"
  },
  "language_info": {
   "codemirror_mode": {
    "name": "ipython",
    "version": 3
   },
   "file_extension": ".py",
   "mimetype": "text/x-python",
   "name": "python",
   "nbconvert_exporter": "python",
   "pygments_lexer": "ipython3",
   "version": "3.8.5"
  }
 },
 "nbformat": 4,
 "nbformat_minor": 4
}
