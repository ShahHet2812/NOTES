{
 "cells": [
  {
   "cell_type": "markdown",
   "metadata": {},
   "source": [
    "notebook"
   ]
  },
  {
   "cell_type": "markdown",
   "metadata": {},
   "source": [
    "# CH 1"
   ]
  },
  {
   "cell_type": "code",
   "execution_count": 7,
   "metadata": {},
   "outputs": [
    {
     "name": "stdout",
     "output_type": "stream",
     "text": [
      "30\n"
     ]
    }
   ],
   "source": [
    "a = 10\n",
    "b = 20\n",
    "c = a + b\n",
    "print(c)"
   ]
  },
  {
   "cell_type": "code",
   "execution_count": 12,
   "metadata": {},
   "outputs": [],
   "source": [
    "cash = 10\n",
    "# ca$h = 15\n",
    "k10h = 30\n",
    "# 10kh = 30"
   ]
  },
  {
   "cell_type": "code",
   "execution_count": 18,
   "metadata": {
    "scrolled": true
   },
   "outputs": [
    {
     "name": "stdout",
     "output_type": "stream",
     "text": [
      "<class 'int'>\n",
      "<class 'float'>\n"
     ]
    }
   ],
   "source": [
    "a = 10\n",
    "b = 10.5;\n",
    "print(type(a))\n",
    "print(type(b))"
   ]
  },
  {
   "cell_type": "code",
   "execution_count": 22,
   "metadata": {},
   "outputs": [
    {
     "name": "stdout",
     "output_type": "stream",
     "text": [
      "0\n",
      "1\n",
      "2\n",
      "3\n",
      "4\n",
      "5\n",
      "6\n",
      "7\n",
      "8\n",
      "9\n"
     ]
    }
   ],
   "source": [
    "for i in range(10):\n",
    "    print(i)"
   ]
  },
  {
   "cell_type": "code",
   "execution_count": 12,
   "metadata": {},
   "outputs": [
    {
     "data": {
      "text/plain": [
       "'This is Python \\nThis is Java \\nThese are Programming Language'"
      ]
     },
     "execution_count": 12,
     "metadata": {},
     "output_type": "execute_result"
    }
   ],
   "source": [
    "S1 = \"Arman\"\n",
    "S2 = 'Arman'\n",
    "Ex = \"Aryan's home\"\n",
    "# x = 'Aryan's home' //Error\n",
    "\n",
    "x = '''This is Python \n",
    "This is Java \n",
    "These are Programming Language'''\n",
    "x\n",
    "# print(x)"
   ]
  },
  {
   "cell_type": "code",
   "execution_count": 18,
   "metadata": {},
   "outputs": [
    {
     "name": "stdout",
     "output_type": "stream",
     "text": [
      "<class 'int'>\n",
      "<class 'int'>\n",
      "<class 'int'>\n",
      "<class 'float'>\n",
      "<class 'float'>\n",
      "<class 'float'>\n",
      "<class 'float'>\n"
     ]
    }
   ],
   "source": [
    "x = 1\n",
    "y = 35565\n",
    "z = -3626272\n",
    "print(type(x))\n",
    "print(type(y))\n",
    "print(type(z))\n",
    "\n",
    "x = 1.5\n",
    "y = 355.65\n",
    "z = -36.26272\n",
    "print(type(x))\n",
    "print(type(y))\n",
    "print(type(z))\n",
    "\n",
    "x = 36e3\n",
    "\n",
    "print(type(x))"
   ]
  },
  {
   "cell_type": "markdown",
   "metadata": {},
   "source": [
    "Numeric Type "
   ]
  },
  {
   "cell_type": "code",
   "execution_count": 19,
   "metadata": {},
   "outputs": [
    {
     "name": "stdout",
     "output_type": "stream",
     "text": [
      "1111\n"
     ]
    }
   ],
   "source": [
    "a =1111\n",
    "print(a)"
   ]
  },
  {
   "cell_type": "code",
   "execution_count": 21,
   "metadata": {},
   "outputs": [
    {
     "name": "stdout",
     "output_type": "stream",
     "text": [
      "15\n"
     ]
    }
   ],
   "source": [
    "a = 0B1111\n",
    "a = 0b1111\n",
    "print(a)"
   ]
  },
  {
   "cell_type": "code",
   "execution_count": 22,
   "metadata": {},
   "outputs": [
    {
     "name": "stdout",
     "output_type": "stream",
     "text": [
      "585\n"
     ]
    }
   ],
   "source": [
    "a = 0O1111\n",
    "a = 0o1111\n",
    "print(a)"
   ]
  },
  {
   "cell_type": "code",
   "execution_count": 23,
   "metadata": {},
   "outputs": [
    {
     "name": "stdout",
     "output_type": "stream",
     "text": [
      "4369\n"
     ]
    }
   ],
   "source": [
    "a = 0X1111\n",
    "a = 0x1111\n",
    "print(a)"
   ]
  },
  {
   "cell_type": "markdown",
   "metadata": {},
   "source": [
    "Base Conversion"
   ]
  },
  {
   "cell_type": "code",
   "execution_count": 36,
   "metadata": {},
   "outputs": [
    {
     "name": "stdout",
     "output_type": "stream",
     "text": [
      "0o17\n",
      "0o3\n",
      "0o21\n",
      "0xf\n",
      "0x3\n",
      "0x9\n"
     ]
    }
   ],
   "source": [
    "bin(15)\n",
    "bin(0o11)\n",
    "bin(0x11)\n",
    "\n",
    "print(oct(15))\n",
    "print(oct(0b11))\n",
    "print(oct(0x11))\n",
    "\n",
    "print(hex(15))\n",
    "print(hex(0b11))\n",
    "print(hex(0o11))"
   ]
  },
  {
   "cell_type": "markdown",
   "metadata": {},
   "source": [
    "Sequence Type (List,Tuple)\n",
    "\n",
    "1.List\n",
    "        \n",
    "    -changable"
   ]
  },
  {
   "cell_type": "code",
   "execution_count": 42,
   "metadata": {},
   "outputs": [
    {
     "name": "stdout",
     "output_type": "stream",
     "text": [
      "['apple', 'banana', 'cherry']\n",
      "['apple', 1, 2, True, False]\n",
      "<class 'list'>\n",
      "<class 'list'>\n",
      "['strawberry', 'banana', 'cherry']\n",
      "('apple', 'banana', 'cherry')\n",
      "('abcd', 3, True, False)\n",
      "<class 'tuple'>\n",
      "<class 'tuple'>\n"
     ]
    },
    {
     "ename": "TypeError",
     "evalue": "'tuple' object does not support item assignment",
     "output_type": "error",
     "traceback": [
      "\u001b[1;31m---------------------------------------------------------------------------\u001b[0m",
      "\u001b[1;31mTypeError\u001b[0m                                 Traceback (most recent call last)",
      "\u001b[1;32m<ipython-input-42-95a855b26087>\u001b[0m in \u001b[0;36m<module>\u001b[1;34m\u001b[0m\n\u001b[0;32m     18\u001b[0m \u001b[0mprint\u001b[0m\u001b[1;33m(\u001b[0m\u001b[0mtype\u001b[0m\u001b[1;33m(\u001b[0m\u001b[0mtuple2\u001b[0m\u001b[1;33m)\u001b[0m\u001b[1;33m)\u001b[0m\u001b[1;33m\u001b[0m\u001b[1;33m\u001b[0m\u001b[0m\n\u001b[0;32m     19\u001b[0m \u001b[1;33m\u001b[0m\u001b[0m\n\u001b[1;32m---> 20\u001b[1;33m \u001b[0mmy_tuple\u001b[0m\u001b[1;33m[\u001b[0m\u001b[1;36m0\u001b[0m\u001b[1;33m]\u001b[0m \u001b[1;33m=\u001b[0m \u001b[1;34m\"strawberry\"\u001b[0m\u001b[1;33m\u001b[0m\u001b[1;33m\u001b[0m\u001b[0m\n\u001b[0m\u001b[0;32m     21\u001b[0m \u001b[0mprint\u001b[0m\u001b[1;33m(\u001b[0m\u001b[0mmy_tuple\u001b[0m\u001b[1;33m)\u001b[0m\u001b[1;33m\u001b[0m\u001b[1;33m\u001b[0m\u001b[0m\n",
      "\u001b[1;31mTypeError\u001b[0m: 'tuple' object does not support item assignment"
     ]
    }
   ],
   "source": [
    "list1 = [\"apple\", \"banana\", \"cherry\"]\n",
    "print(list1)\n",
    "\n",
    "list2 = [\"apple\", 1, 2,True,False]\n",
    "print(list2)\n",
    "\n",
    "print(type(list1))\n",
    "print(type(list2))\n",
    "\n",
    "list1[0] = \"strawberry\"\n",
    "print(list1)\n",
    "\n"
   ]
  },
  {
   "cell_type": "markdown",
   "metadata": {},
   "source": [
    "2.Tuple\n",
    "\n",
    "  -unchangable"
   ]
  },
  {
   "cell_type": "code",
   "execution_count": 46,
   "metadata": {},
   "outputs": [
    {
     "name": "stdout",
     "output_type": "stream",
     "text": [
      "('apple', 'banana', 'cherry')\n",
      "('abcd', 3, True, False)\n",
      "<class 'tuple'>\n",
      "<class 'tuple'>\n"
     ]
    }
   ],
   "source": [
    "my_tuple = (\"apple\", \"banana\", \"cherry\")\n",
    "print(my_tuple)\n",
    "\n",
    "tuple2 = (\"abcd\",3,True,False)\n",
    "print(tuple2)\n",
    "\n",
    "print(type(my_tuple))\n",
    "print(type(tuple2))\n",
    "\n",
    "# my_tuple[0] = \"strawberry\"\n",
    "# print(my_tuple)"
   ]
  },
  {
   "cell_type": "markdown",
   "metadata": {},
   "source": [
    "# Mapping Type : dict\n",
    "    -Ordered\n",
    "    -Changeable\n",
    "    -Allow duplicates(but it overrides,last one will be considered)"
   ]
  },
  {
   "cell_type": "code",
   "execution_count": 49,
   "metadata": {},
   "outputs": [
    {
     "name": "stdout",
     "output_type": "stream",
     "text": [
      "Arman\n",
      "Arman\n",
      "Dhairya\n"
     ]
    }
   ],
   "source": [
    "d = {10:'lucky',10:'Arman',30:'Dhairya'}\n",
    "print(d[10])\n",
    "print(d[10])\n",
    "print(d[30])"
   ]
  },
  {
   "cell_type": "markdown",
   "metadata": {},
   "source": [
    "# Set Type\n",
    "    -Unordered\n",
    "    -Unindexed\n",
    "    -Remove duplicates while printing"
   ]
  },
  {
   "cell_type": "code",
   "execution_count": 53,
   "metadata": {},
   "outputs": [
    {
     "name": "stdout",
     "output_type": "stream",
     "text": [
      "{1, 2, 3, 4, 5, 6, 7, 8, 9}\n",
      "{'banana', 'apple'}\n"
     ]
    }
   ],
   "source": [
    "x = {1,2,3,4,5,6,7,8,9,1}\n",
    "print(x)\n",
    "\n",
    "y = {'apple','banana','apple','banana'}\n",
    "print(y)"
   ]
  },
  {
   "cell_type": "markdown",
   "metadata": {},
   "source": [
    "# Frozenset"
   ]
  },
  {
   "cell_type": "code",
   "execution_count": 54,
   "metadata": {},
   "outputs": [
    {
     "name": "stdout",
     "output_type": "stream",
     "text": [
      "frozenset({'banana', 'apple', 'cherry'})\n"
     ]
    }
   ],
   "source": [
    "list = [\"apple\", \"banana\", \"cherry\"]\n",
    "y = frozenset(list)\n",
    "print(y)"
   ]
  },
  {
   "cell_type": "markdown",
   "metadata": {},
   "source": [
    "# Boolean Type : bool"
   ]
  },
  {
   "cell_type": "code",
   "execution_count": 58,
   "metadata": {},
   "outputs": [
    {
     "name": "stdout",
     "output_type": "stream",
     "text": [
      "False\n",
      "True\n",
      "True\n",
      "False\n",
      "True\n",
      "False\n",
      "False\n"
     ]
    }
   ],
   "source": [
    "print(bool(0))\n",
    "print(bool(1))\n",
    "print(bool(\"apple\"))\n",
    "print(bool(\"\"))\n",
    "print(bool(20>8))\n",
    "print(bool(20<8))\n",
    "print(bool(20==8))"
   ]
  },
  {
   "cell_type": "markdown",
   "metadata": {},
   "source": [
    "# Reserved Keywords\n",
    "    -33 or 35(after version 3.8)\n",
    "    \n",
    "True          is             for             yield\n",
    "False         if             break           try\n",
    "None          elif           continue        except\n",
    "and           else           return          finally\n",
    "or            while          in\n",
    "not           nonlocal\n",
    "def           lambda\n",
    "pass          del\n",
    "global        with"
   ]
  },
  {
   "cell_type": "code",
   "execution_count": 62,
   "metadata": {},
   "outputs": [
    {
     "name": "stdout",
     "output_type": "stream",
     "text": [
      "7\n",
      "7\n",
      "7.0\n",
      "<class 'tuple'>\n",
      "(1, 2, 3, 4)\n",
      "<class 'int'>\n",
      "1\n"
     ]
    }
   ],
   "source": [
    "x = 7\n",
    "y = str(7)\n",
    "z = float(7)\n",
    "\n",
    "print(x)\n",
    "print(y)\n",
    "print(z)\n",
    "\n",
    "a = 1,2,3,4\n",
    "print(type(a))\n",
    "print(a) \n",
    "\n",
    "a,b,c,d = 1,2,3,4\n",
    "print(type(a))\n",
    "print(a)\n",
    "\n",
    "# a,b,c,d = 2\n",
    "a=b=c=d=2"
   ]
  },
  {
   "cell_type": "code",
   "execution_count": 70,
   "metadata": {},
   "outputs": [
    {
     "name": "stdout",
     "output_type": "stream",
     "text": [
      "Variable: 20\n"
     ]
    },
    {
     "data": {
      "text/plain": [
       "'1010101010101010101010101010101010101010'"
      ]
     },
     "execution_count": 70,
     "metadata": {},
     "output_type": "execute_result"
    }
   ],
   "source": [
    "s = 20\n",
    "print(\"Variable:\",s)\n",
    "\n",
    "a =\"10\"\n",
    "b = 20\n",
    "# a+b\n",
    "\n",
    "a =\"10\"\n",
    "b = 20\n",
    "a*b #Repetition(any one must int type)"
   ]
  },
  {
   "cell_type": "markdown",
   "metadata": {},
   "source": [
    "# Global Variable vs Local Variable"
   ]
  },
  {
   "cell_type": "code",
   "execution_count": 73,
   "metadata": {},
   "outputs": [
    {
     "name": "stdout",
     "output_type": "stream",
     "text": [
      "Java\n",
      "Java\n"
     ]
    }
   ],
   "source": [
    "a = \"Python\"\n",
    "\n",
    "def test():\n",
    "    global a  \n",
    "    a = \"Java\"\n",
    "    print(a)\n",
    "    \n",
    "test()\n",
    "print(a)"
   ]
  },
  {
   "cell_type": "markdown",
   "metadata": {},
   "source": [
    "# Reading user input"
   ]
  },
  {
   "cell_type": "code",
   "execution_count": 76,
   "metadata": {},
   "outputs": [
    {
     "name": "stdout",
     "output_type": "stream",
     "text": [
      "Enter Data:14\n"
     ]
    }
   ],
   "source": [
    "x = input(\"Enter Data:\")"
   ]
  },
  {
   "cell_type": "code",
   "execution_count": 3,
   "metadata": {},
   "outputs": [
    {
     "name": "stdout",
     "output_type": "stream",
     "text": [
      "Enter Data 1:1\n",
      "Enter Data 2:2\n",
      "Sum =  3\n"
     ]
    }
   ],
   "source": [
    "x1 = int(input(\"Enter Data 1:\"))\n",
    "x2 = int(input(\"Enter Data 2:\"))\n",
    "print(\"Sum =\",x1+x2)"
   ]
  },
  {
   "cell_type": "markdown",
   "metadata": {},
   "source": [
    "# Type Casting"
   ]
  },
  {
   "cell_type": "code",
   "execution_count": 21,
   "metadata": {},
   "outputs": [
    {
     "name": "stdout",
     "output_type": "stream",
     "text": [
      "123\n",
      "1\n",
      "0\n",
      "10\n"
     ]
    }
   ],
   "source": [
    "print(int(123.987))\n",
    "print(int(True))\n",
    "print(int(False))\n",
    "print(int(\"10\"))"
   ]
  },
  {
   "cell_type": "code",
   "execution_count": 11,
   "metadata": {},
   "outputs": [
    {
     "ename": "ValueError",
     "evalue": "invalid literal for int() with base 10: '10.5'",
     "output_type": "error",
     "traceback": [
      "\u001b[1;31m---------------------------------------------------------------------------\u001b[0m",
      "\u001b[1;31mValueError\u001b[0m                                Traceback (most recent call last)",
      "\u001b[1;32m<ipython-input-11-54dd49a25c21>\u001b[0m in \u001b[0;36m<module>\u001b[1;34m\u001b[0m\n\u001b[1;32m----> 1\u001b[1;33m \u001b[0mint\u001b[0m\u001b[1;33m(\u001b[0m\u001b[1;34m\"10.5\"\u001b[0m\u001b[1;33m)\u001b[0m\u001b[1;33m\u001b[0m\u001b[1;33m\u001b[0m\u001b[0m\n\u001b[0m",
      "\u001b[1;31mValueError\u001b[0m: invalid literal for int() with base 10: '10.5'"
     ]
    }
   ],
   "source": [
    "int(\"10.5\")"
   ]
  },
  {
   "cell_type": "code",
   "execution_count": 13,
   "metadata": {},
   "outputs": [
    {
     "data": {
      "text/plain": [
       "15"
      ]
     },
     "execution_count": 13,
     "metadata": {},
     "output_type": "execute_result"
    }
   ],
   "source": [
    "int(\"0B1111\")"
   ]
  },
  {
   "cell_type": "code",
   "execution_count": 20,
   "metadata": {},
   "outputs": [
    {
     "name": "stdout",
     "output_type": "stream",
     "text": [
      "123.987\n",
      "1.0\n",
      "0.0\n",
      "10.0\n",
      "10.5\n"
     ]
    }
   ],
   "source": [
    "print(float(123.987))\n",
    "print(float(True))\n",
    "print(float(False))\n",
    "print(float(\"10\"))\n",
    "print(float(\"10.5\"))"
   ]
  },
  {
   "cell_type": "code",
   "execution_count": 15,
   "metadata": {},
   "outputs": [
    {
     "ename": "ValueError",
     "evalue": "could not convert string to float: 'ten'",
     "output_type": "error",
     "traceback": [
      "\u001b[1;31m---------------------------------------------------------------------------\u001b[0m",
      "\u001b[1;31mValueError\u001b[0m                                Traceback (most recent call last)",
      "\u001b[1;32m<ipython-input-15-0d10659b16dc>\u001b[0m in \u001b[0;36m<module>\u001b[1;34m\u001b[0m\n\u001b[1;32m----> 1\u001b[1;33m \u001b[0mfloat\u001b[0m\u001b[1;33m(\u001b[0m\u001b[1;34m\"ten\"\u001b[0m\u001b[1;33m)\u001b[0m\u001b[1;33m\u001b[0m\u001b[1;33m\u001b[0m\u001b[0m\n\u001b[0m\u001b[0;32m      2\u001b[0m \u001b[0mfloat\u001b[0m\u001b[1;33m(\u001b[0m\u001b[1;34m\"0B1111\"\u001b[0m\u001b[1;33m)\u001b[0m\u001b[1;33m\u001b[0m\u001b[1;33m\u001b[0m\u001b[0m\n",
      "\u001b[1;31mValueError\u001b[0m: could not convert string to float: 'ten'"
     ]
    }
   ],
   "source": [
    "float(\"ten\")"
   ]
  },
  {
   "cell_type": "code",
   "execution_count": 17,
   "metadata": {},
   "outputs": [
    {
     "ename": "ValueError",
     "evalue": "could not convert string to float: '0B1111'",
     "output_type": "error",
     "traceback": [
      "\u001b[1;31m---------------------------------------------------------------------------\u001b[0m",
      "\u001b[1;31mValueError\u001b[0m                                Traceback (most recent call last)",
      "\u001b[1;32m<ipython-input-17-62ed3c7df456>\u001b[0m in \u001b[0;36m<module>\u001b[1;34m\u001b[0m\n\u001b[1;32m----> 1\u001b[1;33m \u001b[0mfloat\u001b[0m\u001b[1;33m(\u001b[0m\u001b[1;34m\"0B1111\"\u001b[0m\u001b[1;33m)\u001b[0m\u001b[1;33m\u001b[0m\u001b[1;33m\u001b[0m\u001b[0m\n\u001b[0m",
      "\u001b[1;31mValueError\u001b[0m: could not convert string to float: '0B1111'"
     ]
    }
   ],
   "source": [
    "float(\"0B1111\")"
   ]
  },
  {
   "cell_type": "code",
   "execution_count": 19,
   "metadata": {},
   "outputs": [
    {
     "name": "stdout",
     "output_type": "stream",
     "text": [
      "False\n",
      "True\n",
      "True\n",
      "True\n",
      "True\n",
      "False\n",
      "True\n",
      "True\n",
      "False\n"
     ]
    }
   ],
   "source": [
    "print(bool(0))\n",
    "print(bool(1))\n",
    "print(bool(10))\n",
    "print(bool(10.5))\n",
    "print(bool(0.178))\n",
    "print(bool(0.0))\n",
    "print(bool(\"True\"))\n",
    "print(bool(\"False\"))\n",
    "print(bool(\"\"))"
   ]
  },
  {
   "cell_type": "code",
   "execution_count": 22,
   "metadata": {},
   "outputs": [
    {
     "name": "stdout",
     "output_type": "stream",
     "text": [
      "10\n",
      "10.5\n",
      "True\n"
     ]
    }
   ],
   "source": [
    "print(str(10))\n",
    "print(str(10.5))\n",
    "print(str(True))"
   ]
  },
  {
   "cell_type": "markdown",
   "metadata": {},
   "source": [
    "# Arithmetic Operators\n",
    "\n",
    "+ -> Addition (str -> Concatenation)\n",
    "- -> Subtraction\n",
    "* -> Muitiplication (str -> String multiplication or repetition) \n",
    "    / -> Division (float)\n",
    "  % -> Modulas\n",
    "  // -> Floor Division\n",
    "  ** -> Power or Exponent"
   ]
  },
  {
   "cell_type": "code",
   "execution_count": 26,
   "metadata": {},
   "outputs": [
    {
     "name": "stdout",
     "output_type": "stream",
     "text": [
      "Enter No.1 : 2\n",
      "Enter No.2 : 3\n",
      "Addition is: 5\n",
      "Subtraction is: -1\n",
      "Muitiplication is: 6\n",
      "Division is: 0.6666666666666666\n",
      "Modulas is: 2\n",
      "Floor Division is: 0\n",
      "Power or Exponent is: 8\n"
     ]
    }
   ],
   "source": [
    "a = int(input(\"Enter No.1 : \"))\n",
    "b = int(input(\"Enter No.2 : \"))\n",
    "\n",
    "print(\"Addition is:\",a+b)\n",
    "print(\"Subtraction is:\",a-b)\n",
    "print(\"Muitiplication is:\",a*b)\n",
    "print(\"Division is:\",a/b)\n",
    "print(\"Modulas is:\",a%b)\n",
    "print(\"Floor Division is:\",a//b)\n",
    "print(\"Power or Exponent is:\",a**b)\n"
   ]
  },
  {
   "cell_type": "markdown",
   "metadata": {},
   "source": [
    "# Python Operators\n",
    "\n",
    "Comparison or Relational Operators"
   ]
  },
  {
   "cell_type": "markdown",
   "metadata": {},
   "source": [
    "> - Greater than\n",
    "< - Less than\n",
    ">= - Greater than or equal to\n",
    "<= - Less than or equal to\n",
    "== - Equal to\n",
    "!= - Not equal to"
   ]
  },
  {
   "cell_type": "code",
   "execution_count": 28,
   "metadata": {},
   "outputs": [
    {
     "name": "stdout",
     "output_type": "stream",
     "text": [
      "Enter No.1 : Arman\n",
      "Enter No.2 : Aryan\n",
      "a > b  is: False\n",
      "a < b is: True\n",
      "a >= b is: False\n",
      "a <= b is: True\n",
      "a == b is: False\n",
      "a != b is: True\n"
     ]
    }
   ],
   "source": [
    "a = (input(\"Enter No.1 : \"))\n",
    "b = (input(\"Enter No.2 : \"))\n",
    "\n",
    "print(\"a > b  is:\",a>b)\n",
    "print(\"a < b is:\",a<b)\n",
    "print(\"a >= b is:\",a>=b)\n",
    "print(\"a <= b is:\",a<=b)\n",
    "print(\"a == b is:\",a==b)\n",
    "print(\"a != b is:\",a!=b)"
   ]
  },
  {
   "cell_type": "markdown",
   "metadata": {},
   "source": [
    "# Logical Oprators (and, or, not)\n",
    "\n",
    "1.Boolean Type Behaviour\n",
    "    \n",
    "    True and False = False\n",
    "    True or False = True\n",
    "    not True = False\n",
    "    \n",
    "2.Non-Boolean Type Behaviour\n",
    "\n",
    "    0 means False\n",
    "    non-Zero means True\n",
    "    Empty String always treated as False\n",
    "    \n",
    "    1.x and y -> if x is evaluates to False then result is x otherwise result is y.\n",
    "        e.g. 10 and 20 #20\n",
    "              0 and 20 #0\n",
    "              \n",
    "    2.x or y -> if x evaluates to True then result is x otherwise result is y.\n",
    "        e.g. 10 or 20 #10\n",
    "              0 or 20 #20\n",
    "              \n",
    "    3.x -> if x evaluates to True then result is False otherwise result is True.\n",
    "        e.g. not 10 #False\n",
    "             not 0 #True"
   ]
  },
  {
   "cell_type": "markdown",
   "metadata": {},
   "source": [
    "# Ternary Operators\n",
    "\n",
    "Syntax : x = first value if condition else second value "
   ]
  },
  {
   "cell_type": "code",
   "execution_count": 29,
   "metadata": {},
   "outputs": [
    {
     "name": "stdout",
     "output_type": "stream",
     "text": [
      "30\n"
     ]
    }
   ],
   "source": [
    "a,b = 10,20\n",
    "x = 30 if a < b else 40\n",
    "print (x)"
   ]
  },
  {
   "cell_type": "markdown",
   "metadata": {},
   "source": [
    "# Assignment operator\n",
    "\n",
    "    x = 20\n",
    "    x += 10\n",
    "    x -= 10\n",
    "    x *= 10\n",
    "    x /= 10\n",
    "    x %= 10\n",
    "    x **= 10\n",
    "    x //= 10"
   ]
  },
  {
   "cell_type": "markdown",
   "metadata": {},
   "source": [
    "# Membership Operators\n",
    "\n",
    "    in -> Returns True if given object present in specific collection\n",
    "    not in -> if not present"
   ]
  },
  {
   "cell_type": "code",
   "execution_count": 30,
   "metadata": {},
   "outputs": [
    {
     "name": "stdout",
     "output_type": "stream",
     "text": [
      "True\n",
      "False\n",
      "True\n",
      "True\n"
     ]
    }
   ],
   "source": [
    "x = \"Hello Learning Python is very easy\"\n",
    "print(\"l\" in x)\n",
    "print(\"d\" in x)\n",
    "print(\"d\" not in x)\n",
    "print(\"Python\" in x)"
   ]
  },
  {
   "cell_type": "markdown",
   "metadata": {},
   "source": [
    "WAP to find Area of a Triangle"
   ]
  },
  {
   "cell_type": "code",
   "execution_count": 31,
   "metadata": {},
   "outputs": [
    {
     "name": "stdout",
     "output_type": "stream",
     "text": [
      "Enter Height : 2\n",
      "Enter Width : 3\n",
      "Area : 3.0\n"
     ]
    }
   ],
   "source": [
    "x = int(input(\"Enter Height : \"))\n",
    "y = int(input(\"Enter Width : \"))\n",
    "\n",
    "print(\"Area :\",(0.5*x*y))"
   ]
  },
  {
   "cell_type": "markdown",
   "metadata": {},
   "source": [
    "WAP to find Area of a Circle"
   ]
  },
  {
   "cell_type": "code",
   "execution_count": 33,
   "metadata": {},
   "outputs": [
    {
     "name": "stdout",
     "output_type": "stream",
     "text": [
      "Enter Radius : 2\n",
      "Area : 12.566370614359172\n"
     ]
    }
   ],
   "source": [
    "import math\n",
    "r = int(input(\"Enter Radius : \"))\n",
    "\n",
    "print(\"Area :\",(math.pi*r*r))"
   ]
  },
  {
   "cell_type": "markdown",
   "metadata": {},
   "source": [
    "WAP to convert Farenheit to Celcius & Vice Versa"
   ]
  },
  {
   "cell_type": "code",
   "execution_count": 34,
   "metadata": {},
   "outputs": [
    {
     "name": "stdout",
     "output_type": "stream",
     "text": [
      "Enter Celcius : 25\n",
      "Enter Farenheit : 77\n",
      "Celcius to Farenheit : 77.0\n",
      "Farenheit to Celcius : 25.0\n"
     ]
    }
   ],
   "source": [
    "x = int(input(\"Enter Celcius : \"))\n",
    "y = int(input(\"Enter Farenheit : \"))\n",
    "\n",
    "print(\"Celcius to Farenheit :\",((9/5)*x)+32)\n",
    "print(\"Farenheit to Celcius :\",(y-32)*(5/9))"
   ]
  },
  {
   "cell_type": "markdown",
   "metadata": {},
   "source": [
    "WAP to convert days into year,month,day"
   ]
  },
  {
   "cell_type": "code",
   "execution_count": 48,
   "metadata": {},
   "outputs": [
    {
     "name": "stdout",
     "output_type": "stream",
     "text": [
      "Enter Days : 7000\n",
      "19 Year 2 Month 5 Day\n"
     ]
    }
   ],
   "source": [
    "x = int(input(\"Enter Days : \"))\n",
    "\n",
    "year = x // 365\n",
    "month = (x % 365) // 30\n",
    "day = ((x % 365)%30)\n",
    "print(year,\"Year\",month,\"Month\",day,\"Day\")"
   ]
  },
  {
   "cell_type": "code",
   "execution_count": 1,
   "metadata": {},
   "outputs": [
    {
     "name": "stdout",
     "output_type": "stream",
     "text": [
      "False\n",
      "True\n",
      "False\n",
      "True\n"
     ]
    }
   ],
   "source": [
    "a = 20\n",
    "b = 10\n",
    "c = 30\n",
    "print(a>b and a>c)\n",
    "print(a>b or a>c)\n",
    "print(not a>b)\n",
    "print(not a>c)"
   ]
  },
  {
   "cell_type": "markdown",
   "metadata": {},
   "source": [
    "# Identity Operator "
   ]
  },
  {
   "cell_type": "code",
   "execution_count": 4,
   "metadata": {},
   "outputs": [
    {
     "name": "stdout",
     "output_type": "stream",
     "text": [
      "True\n",
      "False\n",
      "False\n",
      "True\n",
      "True\n"
     ]
    }
   ],
   "source": [
    "x = 5\n",
    "y = 5.3\n",
    "z = 5\n",
    "\n",
    "print(type(x) is int)\n",
    "print(type(y) is int)\n",
    "print(type(z) is float)\n",
    "print(x is z)\n",
    "print(x is not y)"
   ]
  },
  {
   "cell_type": "code",
   "execution_count": 16,
   "metadata": {},
   "outputs": [
    {
     "name": "stdout",
     "output_type": "stream",
     "text": [
      "78125.0\n",
      "False\n",
      "True\n",
      "0.0\n"
     ]
    }
   ],
   "source": [
    "print((5**3)**2*5/True)\n",
    "print(\"1\" in \"123\" and \"False\" or True)\n",
    "# print(5 and False or 3/0) #ZeroDivisionError\n",
    "print(5 and True or 3/0)\n",
    "print(7*5**2/True*False)"
   ]
  },
  {
   "cell_type": "markdown",
   "metadata": {},
   "source": [
    "WAP to check given Number is Positive or Negative using conditional operator."
   ]
  },
  {
   "cell_type": "code",
   "execution_count": 19,
   "metadata": {},
   "outputs": [
    {
     "name": "stdout",
     "output_type": "stream",
     "text": [
      "Enter Number: -1\n",
      "Negative\n",
      "Odd\n"
     ]
    }
   ],
   "source": [
    "x = int(input(\"Enter Number: \"))\n",
    "print(\"Positive\" if x>=0 else \"Negative\")\n",
    "print(\"Even\" if x%2==0 else \"Odd\")"
   ]
  },
  {
   "cell_type": "markdown",
   "metadata": {},
   "source": [
    "WAP to find a number of notes againts a given amount."
   ]
  },
  {
   "cell_type": "code",
   "execution_count": 28,
   "metadata": {},
   "outputs": [
    {
     "name": "stdout",
     "output_type": "stream",
     "text": [
      "Enter Amount: 880\n",
      "500- 1 \n",
      "200- 1 \n",
      "100- 1 \n",
      "50- 1 \n",
      "20- 1 \n",
      "10- 1\n"
     ]
    }
   ],
   "source": [
    "x = int(input(\"Enter Amount: \"))\n",
    "print(\"500-\",x//500,\"\\n200-\",(x%500)//200,\"\\n100-\",((x%500)%200)//100,\"\\n50-\",(((x%500)%200)%100)//50,\"\\n20-\",((((x%500)%200)%100)%50)//20,\"\\n10-\",(((((x%500)%200)%100)%50)%20)//10)"
   ]
  }
 ],
 "metadata": {
  "kernelspec": {
   "display_name": "Python 3",
   "language": "python",
   "name": "python3"
  },
  "language_info": {
   "codemirror_mode": {
    "name": "ipython",
    "version": 3
   },
   "file_extension": ".py",
   "mimetype": "text/x-python",
   "name": "python",
   "nbconvert_exporter": "python",
   "pygments_lexer": "ipython3",
   "version": "3.8.5"
  }
 },
 "nbformat": 4,
 "nbformat_minor": 4
}
